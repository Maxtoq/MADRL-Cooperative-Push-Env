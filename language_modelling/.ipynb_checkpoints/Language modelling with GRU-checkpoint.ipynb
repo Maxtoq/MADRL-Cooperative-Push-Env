{
 "cells": [
  {
   "cell_type": "code",
   "execution_count": 1,
   "id": "f69e29cb",
   "metadata": {},
   "outputs": [],
   "source": [
    "import json\n",
    "import torch\n",
    "import numpy as np\n",
    "\n",
    "from torch import nn\n"
   ]
  },
  {
   "cell_type": "markdown",
   "id": "0390e5bd",
   "metadata": {},
   "source": [
    "## Load language data\n",
    "\n",
    "Load sentences from file"
   ]
  },
  {
   "cell_type": "code",
   "execution_count": 12,
   "id": "362fa761",
   "metadata": {},
   "outputs": [
    {
     "data": {
      "text/plain": [
       "[['Located', 'South'],\n",
       " ['Located', 'Center', 'Object', 'East'],\n",
       " ['Located', 'South'],\n",
       " ['Located', 'East', 'Object', 'South', 'East'],\n",
       " ['Located', 'South']]"
      ]
     },
     "execution_count": 12,
     "metadata": {},
     "output_type": "execute_result"
    }
   ],
   "source": [
    "with open(\"sentences.json\") as f:\n",
    "    sentences = json.load(f)\n",
    "sentences[:5]"
   ]
  },
  {
   "cell_type": "markdown",
   "id": "c11c2184",
   "metadata": {},
   "source": [
    "Add start and end tokens"
   ]
  },
  {
   "cell_type": "code",
   "execution_count": 13,
   "id": "6a1d646b",
   "metadata": {},
   "outputs": [
    {
     "data": {
      "text/plain": [
       "[['<SOS>', 'Located', 'South', '<EOS>'],\n",
       " ['<SOS>', 'Located', 'Center', 'Object', 'East', '<EOS>'],\n",
       " ['<SOS>', 'Located', 'South', '<EOS>'],\n",
       " ['<SOS>', 'Located', 'East', 'Object', 'South', 'East', '<EOS>'],\n",
       " ['<SOS>', 'Located', 'South', '<EOS>']]"
      ]
     },
     "execution_count": 13,
     "metadata": {},
     "output_type": "execute_result"
    }
   ],
   "source": [
    "sentences = [[\"<SOS>\"] + s + [\"<EOS>\"] for s in sentences]\n",
    "sentences[:5]"
   ]
  },
  {
   "cell_type": "markdown",
   "id": "f96c7d59",
   "metadata": {},
   "source": [
    "Get vocabulary and one-hot encodings"
   ]
  },
  {
   "cell_type": "code",
   "execution_count": 14,
   "id": "ff0b5d85",
   "metadata": {},
   "outputs": [
    {
     "data": {
      "text/plain": [
       "['West',\n",
       " 'East',\n",
       " 'Not',\n",
       " '<EOS>',\n",
       " 'Located',\n",
       " 'Landmark',\n",
       " 'South',\n",
       " '<SOS>',\n",
       " 'North',\n",
       " 'Object',\n",
       " 'Center']"
      ]
     },
     "execution_count": 14,
     "metadata": {},
     "output_type": "execute_result"
    }
   ],
   "source": [
    "def get_voc(sentence_list):\n",
    "    words = []\n",
    "    for s in sentences:\n",
    "        words.extend(s)\n",
    "    vocab = list(set(words))\n",
    "    return vocab\n",
    "vocab = get_voc(sentences)\n",
    "vocab"
   ]
  },
  {
   "cell_type": "code",
   "execution_count": 17,
   "id": "9901a7af",
   "metadata": {},
   "outputs": [
    {
     "data": {
      "text/plain": [
       "{'West': array([1., 0., 0., 0., 0., 0., 0., 0., 0., 0., 0.]),\n",
       " 'East': array([0., 1., 0., 0., 0., 0., 0., 0., 0., 0., 0.]),\n",
       " 'Not': array([0., 0., 1., 0., 0., 0., 0., 0., 0., 0., 0.]),\n",
       " '<EOS>': array([0., 0., 0., 1., 0., 0., 0., 0., 0., 0., 0.]),\n",
       " 'Located': array([0., 0., 0., 0., 1., 0., 0., 0., 0., 0., 0.]),\n",
       " 'Landmark': array([0., 0., 0., 0., 0., 1., 0., 0., 0., 0., 0.]),\n",
       " 'South': array([0., 0., 0., 0., 0., 0., 1., 0., 0., 0., 0.]),\n",
       " '<SOS>': array([0., 0., 0., 0., 0., 0., 0., 1., 0., 0., 0.]),\n",
       " 'North': array([0., 0., 0., 0., 0., 0., 0., 0., 1., 0., 0.]),\n",
       " 'Object': array([0., 0., 0., 0., 0., 0., 0., 0., 0., 1., 0.]),\n",
       " 'Center': array([0., 0., 0., 0., 0., 0., 0., 0., 0., 0., 1.])}"
      ]
     },
     "execution_count": 17,
     "metadata": {},
     "output_type": "execute_result"
    }
   ],
   "source": [
    "def get_word_onehots(vocab):\n",
    "    dim_vocab = len(vocab)\n",
    "    word_encodings = {}\n",
    "    for i, w in enumerate(vocab):\n",
    "        word_encodings[w] = np.eye(dim_vocab)[i]\n",
    "    return word_encodings\n",
    "word_encodings = get_word_onehots(vocab)\n",
    "word_encodings"
   ]
  },
  {
   "cell_type": "markdown",
   "id": "0659354c",
   "metadata": {},
   "source": [
    "## Language modelling\n",
    "\n",
    "Encode a sentence"
   ]
  },
  {
   "cell_type": "code",
   "execution_count": 23,
   "id": "1c25785a",
   "metadata": {},
   "outputs": [],
   "source": [
    "def encode(sentence):\n",
    "    encoded = []\n",
    "    for token in sentence:\n",
    "        encoded.append(word_encodings[token])\n",
    "    return encoded"
   ]
  },
  {
   "cell_type": "code",
   "execution_count": 35,
   "id": "27ed561f",
   "metadata": {},
   "outputs": [
    {
     "data": {
      "text/plain": [
       "tensor([[0., 0., 0., 0., 0., 0., 0., 1., 0., 0., 0.],\n",
       "        [0., 0., 0., 0., 1., 0., 0., 0., 0., 0., 0.],\n",
       "        [0., 0., 0., 0., 0., 0., 1., 0., 0., 0., 0.],\n",
       "        [0., 0., 0., 1., 0., 0., 0., 0., 0., 0., 0.]])"
      ]
     },
     "execution_count": 35,
     "metadata": {},
     "output_type": "execute_result"
    }
   ],
   "source": [
    "s = sentences[0]\n",
    "enc = torch.Tensor(np.array(encode(s)))\n",
    "enc"
   ]
  },
  {
   "cell_type": "markdown",
   "id": "e8ba5023",
   "metadata": {},
   "source": [
    "Pass through a GRU network"
   ]
  },
  {
   "cell_type": "code",
   "execution_count": 43,
   "id": "4cc66909",
   "metadata": {},
   "outputs": [
    {
     "data": {
      "text/plain": [
       "torch.Size([1, 4, 11])"
      ]
     },
     "execution_count": 43,
     "metadata": {},
     "output_type": "execute_result"
    }
   ],
   "source": [
    "enc.unsqueeze(0).shape"
   ]
  },
  {
   "cell_type": "code",
   "execution_count": 49,
   "id": "7c57abc6",
   "metadata": {},
   "outputs": [
    {
     "name": "stdout",
     "output_type": "stream",
     "text": [
      "torch.Size([1, 4, 256])\n",
      "tensor([[[ 0.0433,  0.0047, -0.0075,  ...,  0.0072, -0.0002, -0.0372],\n",
      "         [ 0.0268,  0.0247, -0.0287,  ..., -0.0138,  0.0261, -0.0253],\n",
      "         [ 0.0460,  0.0498, -0.0315,  ..., -0.0408,  0.0232, -0.0123],\n",
      "         [ 0.0393,  0.0484, -0.0574,  ..., -0.0614, -0.0163, -0.0211]]],\n",
      "       grad_fn=<TransposeBackward1>)\n"
     ]
    }
   ],
   "source": [
    "gru = nn.GRU(len(vocab), 256, batch_first=True)\n",
    "output, hidden_state = gru(enc.unsqueeze(0))\n",
    "print(output.shape)\n",
    "print(output)"
   ]
  },
  {
   "cell_type": "code",
   "execution_count": 50,
   "id": "f63beabe",
   "metadata": {},
   "outputs": [
    {
     "name": "stdout",
     "output_type": "stream",
     "text": [
      "torch.Size([1, 1, 256])\n",
      "tensor([[[ 0.0393,  0.0484, -0.0574,  0.0414,  0.0488,  0.0636, -0.0580,\n",
      "           0.0211,  0.0755, -0.0008, -0.0516, -0.0236,  0.0014,  0.0372,\n",
      "          -0.0006,  0.0475,  0.0644,  0.0148,  0.0323,  0.0183, -0.0219,\n",
      "           0.0298,  0.0184, -0.0216, -0.0706,  0.0815, -0.0242,  0.0297,\n",
      "          -0.0021, -0.0140, -0.0058,  0.0772,  0.0388,  0.0187, -0.0373,\n",
      "           0.0204,  0.0132, -0.0332, -0.0326,  0.0477,  0.0166, -0.0391,\n",
      "           0.0421, -0.0651, -0.0593,  0.0893,  0.0102,  0.0339, -0.0669,\n",
      "          -0.0538, -0.0166, -0.0051, -0.0766, -0.0545, -0.0122,  0.0194,\n",
      "          -0.0474, -0.0695,  0.0125,  0.0200, -0.0693, -0.0056, -0.0371,\n",
      "          -0.0252, -0.0588, -0.0149,  0.0572,  0.0104,  0.0143, -0.0213,\n",
      "          -0.0694,  0.0063,  0.0594,  0.0385,  0.0731,  0.0260, -0.0004,\n",
      "          -0.0426,  0.0864,  0.0235, -0.0013, -0.0027,  0.0073, -0.0536,\n",
      "          -0.0047,  0.0790, -0.0186,  0.0222,  0.0302, -0.0181, -0.0173,\n",
      "           0.0093,  0.0861,  0.0416,  0.0034, -0.0015, -0.0825, -0.0624,\n",
      "           0.0286,  0.0414,  0.0214,  0.0435,  0.0326, -0.0301,  0.0313,\n",
      "           0.0293,  0.0198,  0.0569,  0.0743, -0.0051, -0.0222,  0.0294,\n",
      "           0.0166,  0.0286, -0.0505, -0.0362, -0.0522,  0.0407,  0.0317,\n",
      "          -0.0278, -0.1058,  0.0662, -0.0944, -0.0049,  0.0293, -0.0177,\n",
      "           0.0487,  0.0777,  0.0010, -0.0288,  0.0635, -0.0378, -0.0871,\n",
      "           0.0186, -0.0592, -0.0260, -0.0239,  0.0490, -0.0289, -0.0282,\n",
      "           0.0720, -0.0754, -0.0347,  0.0109, -0.0310,  0.0367, -0.0026,\n",
      "          -0.0189,  0.0875,  0.0341,  0.0105, -0.0564,  0.0247, -0.0368,\n",
      "           0.0269, -0.0506, -0.0140, -0.0102,  0.0849, -0.0487,  0.0201,\n",
      "          -0.0522, -0.0625,  0.0407,  0.0511,  0.0822, -0.0271, -0.0152,\n",
      "          -0.0285, -0.0493,  0.0282,  0.0271,  0.0262, -0.0086,  0.0227,\n",
      "          -0.0045, -0.0466, -0.0003, -0.0732, -0.0146,  0.0348,  0.0358,\n",
      "          -0.0324,  0.0430, -0.0642,  0.0498,  0.0218, -0.0266, -0.0393,\n",
      "          -0.0310,  0.0563,  0.0379, -0.0435, -0.0483,  0.0524,  0.0601,\n",
      "           0.0792,  0.0496,  0.0503,  0.0520, -0.0390,  0.0567,  0.0072,\n",
      "          -0.0515,  0.0339,  0.0622, -0.0046, -0.0080,  0.0781,  0.0369,\n",
      "           0.0355,  0.0822,  0.0249, -0.0270, -0.0307,  0.0679, -0.0780,\n",
      "          -0.0826, -0.0734,  0.0068,  0.0277, -0.0551, -0.0362, -0.0053,\n",
      "          -0.0339, -0.0278,  0.0264,  0.0476, -0.0121, -0.0413,  0.0211,\n",
      "           0.0262, -0.0497, -0.0040,  0.0274,  0.0418,  0.0255, -0.0286,\n",
      "          -0.0542, -0.0557,  0.0111,  0.0430, -0.0473,  0.0595,  0.0314,\n",
      "          -0.0157,  0.0088,  0.1127, -0.0399,  0.0175, -0.0964, -0.0559,\n",
      "           0.0485, -0.0614, -0.0163, -0.0211]]], grad_fn=<StackBackward0>)\n"
     ]
    }
   ],
   "source": [
    "print(hidden_state.shape)\n",
    "print(hidden_state)"
   ]
  },
  {
   "cell_type": "code",
   "execution_count": 2,
   "id": "8040f68c",
   "metadata": {},
   "outputs": [
    {
     "ename": "TypeError",
     "evalue": "list is not a Module subclass",
     "output_type": "error",
     "traceback": [
      "\u001b[0;31m---------------------------------------------------------------------------\u001b[0m",
      "\u001b[0;31mTypeError\u001b[0m                                 Traceback (most recent call last)",
      "\u001b[0;32m/tmp/ipykernel_6646/2289738898.py\u001b[0m in \u001b[0;36m<module>\u001b[0;34m\u001b[0m\n\u001b[0;32m----> 1\u001b[0;31m net = nn.Sequential([\n\u001b[0m\u001b[1;32m      2\u001b[0m     \u001b[0mnn\u001b[0m\u001b[0;34m.\u001b[0m\u001b[0mConv2d\u001b[0m\u001b[0;34m(\u001b[0m\u001b[0;36m1\u001b[0m\u001b[0;34m,\u001b[0m\u001b[0;36m20\u001b[0m\u001b[0;34m,\u001b[0m\u001b[0;36m5\u001b[0m\u001b[0;34m)\u001b[0m\u001b[0;34m,\u001b[0m\u001b[0;34m\u001b[0m\u001b[0;34m\u001b[0m\u001b[0m\n\u001b[1;32m      3\u001b[0m       \u001b[0mnn\u001b[0m\u001b[0;34m.\u001b[0m\u001b[0mReLU\u001b[0m\u001b[0;34m(\u001b[0m\u001b[0;34m)\u001b[0m\u001b[0;34m,\u001b[0m\u001b[0;34m\u001b[0m\u001b[0;34m\u001b[0m\u001b[0m\n\u001b[1;32m      4\u001b[0m       \u001b[0mnn\u001b[0m\u001b[0;34m.\u001b[0m\u001b[0mConv2d\u001b[0m\u001b[0;34m(\u001b[0m\u001b[0;36m20\u001b[0m\u001b[0;34m,\u001b[0m\u001b[0;36m64\u001b[0m\u001b[0;34m,\u001b[0m\u001b[0;36m5\u001b[0m\u001b[0;34m)\u001b[0m\u001b[0;34m,\u001b[0m\u001b[0;34m\u001b[0m\u001b[0;34m\u001b[0m\u001b[0m\n\u001b[1;32m      5\u001b[0m       \u001b[0mnn\u001b[0m\u001b[0;34m.\u001b[0m\u001b[0mReLU\u001b[0m\u001b[0;34m(\u001b[0m\u001b[0;34m)\u001b[0m\u001b[0;34m\u001b[0m\u001b[0;34m\u001b[0m\u001b[0m\n",
      "\u001b[0;32m~/Desktop/Dev/MADRL-Cooperative-Push-Env/venv/lib/python3.8/site-packages/torch/nn/modules/container.py\u001b[0m in \u001b[0;36m__init__\u001b[0;34m(self, *args)\u001b[0m\n\u001b[1;32m     89\u001b[0m         \u001b[0;32melse\u001b[0m\u001b[0;34m:\u001b[0m\u001b[0;34m\u001b[0m\u001b[0;34m\u001b[0m\u001b[0m\n\u001b[1;32m     90\u001b[0m             \u001b[0;32mfor\u001b[0m \u001b[0midx\u001b[0m\u001b[0;34m,\u001b[0m \u001b[0mmodule\u001b[0m \u001b[0;32min\u001b[0m \u001b[0menumerate\u001b[0m\u001b[0;34m(\u001b[0m\u001b[0margs\u001b[0m\u001b[0;34m)\u001b[0m\u001b[0;34m:\u001b[0m\u001b[0;34m\u001b[0m\u001b[0;34m\u001b[0m\u001b[0m\n\u001b[0;32m---> 91\u001b[0;31m                 \u001b[0mself\u001b[0m\u001b[0;34m.\u001b[0m\u001b[0madd_module\u001b[0m\u001b[0;34m(\u001b[0m\u001b[0mstr\u001b[0m\u001b[0;34m(\u001b[0m\u001b[0midx\u001b[0m\u001b[0;34m)\u001b[0m\u001b[0;34m,\u001b[0m \u001b[0mmodule\u001b[0m\u001b[0;34m)\u001b[0m\u001b[0;34m\u001b[0m\u001b[0;34m\u001b[0m\u001b[0m\n\u001b[0m\u001b[1;32m     92\u001b[0m \u001b[0;34m\u001b[0m\u001b[0m\n\u001b[1;32m     93\u001b[0m     \u001b[0;32mdef\u001b[0m \u001b[0m_get_item_by_idx\u001b[0m\u001b[0;34m(\u001b[0m\u001b[0mself\u001b[0m\u001b[0;34m,\u001b[0m \u001b[0miterator\u001b[0m\u001b[0;34m,\u001b[0m \u001b[0midx\u001b[0m\u001b[0;34m)\u001b[0m \u001b[0;34m->\u001b[0m \u001b[0mT\u001b[0m\u001b[0;34m:\u001b[0m\u001b[0;34m\u001b[0m\u001b[0;34m\u001b[0m\u001b[0m\n",
      "\u001b[0;32m~/Desktop/Dev/MADRL-Cooperative-Push-Env/venv/lib/python3.8/site-packages/torch/nn/modules/module.py\u001b[0m in \u001b[0;36madd_module\u001b[0;34m(self, name, module)\u001b[0m\n\u001b[1;32m    375\u001b[0m         \"\"\"\n\u001b[1;32m    376\u001b[0m         \u001b[0;32mif\u001b[0m \u001b[0;32mnot\u001b[0m \u001b[0misinstance\u001b[0m\u001b[0;34m(\u001b[0m\u001b[0mmodule\u001b[0m\u001b[0;34m,\u001b[0m \u001b[0mModule\u001b[0m\u001b[0;34m)\u001b[0m \u001b[0;32mand\u001b[0m \u001b[0mmodule\u001b[0m \u001b[0;32mis\u001b[0m \u001b[0;32mnot\u001b[0m \u001b[0;32mNone\u001b[0m\u001b[0;34m:\u001b[0m\u001b[0;34m\u001b[0m\u001b[0;34m\u001b[0m\u001b[0m\n\u001b[0;32m--> 377\u001b[0;31m             raise TypeError(\"{} is not a Module subclass\".format(\n\u001b[0m\u001b[1;32m    378\u001b[0m                 torch.typename(module)))\n\u001b[1;32m    379\u001b[0m         \u001b[0;32melif\u001b[0m \u001b[0;32mnot\u001b[0m \u001b[0misinstance\u001b[0m\u001b[0;34m(\u001b[0m\u001b[0mname\u001b[0m\u001b[0;34m,\u001b[0m \u001b[0mtorch\u001b[0m\u001b[0;34m.\u001b[0m\u001b[0m_six\u001b[0m\u001b[0;34m.\u001b[0m\u001b[0mstring_classes\u001b[0m\u001b[0;34m)\u001b[0m\u001b[0;34m:\u001b[0m\u001b[0;34m\u001b[0m\u001b[0;34m\u001b[0m\u001b[0m\n",
      "\u001b[0;31mTypeError\u001b[0m: list is not a Module subclass"
     ]
    }
   ],
   "source": [
    "net = nn.Sequential(OrderedDict([\n",
    "    nn.Conv2d(1,20,5),\n",
    "    nn.ReLU(),\n",
    "    nn.Conv2d(20,64,5),\n",
    "    nn.ReLU()\n",
    "]))"
   ]
  },
  {
   "cell_type": "code",
   "execution_count": null,
   "id": "432a62f2",
   "metadata": {},
   "outputs": [],
   "source": []
  }
 ],
 "metadata": {
  "kernelspec": {
   "display_name": "Python 3",
   "language": "python",
   "name": "python3"
  },
  "language_info": {
   "codemirror_mode": {
    "name": "ipython",
    "version": 3
   },
   "file_extension": ".py",
   "mimetype": "text/x-python",
   "name": "python",
   "nbconvert_exporter": "python",
   "pygments_lexer": "ipython3",
   "version": "3.8.10"
  }
 },
 "nbformat": 4,
 "nbformat_minor": 5
}
