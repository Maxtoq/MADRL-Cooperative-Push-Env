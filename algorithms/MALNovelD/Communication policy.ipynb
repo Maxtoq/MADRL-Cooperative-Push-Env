{
 "cells": [
  {
   "cell_type": "markdown",
   "id": "632e923e",
   "metadata": {},
   "source": [
    "# Communication policy"
   ]
  },
  {
   "cell_type": "markdown",
   "id": "9b73216d",
   "metadata": {},
   "source": [
    "Load data"
   ]
  },
  {
   "cell_type": "code",
   "execution_count": 3,
   "id": "a0862074",
   "metadata": {},
   "outputs": [],
   "source": [
    "import json\n",
    "\n",
    "def load_pairs(data_path):\n",
    "    with open(data_path, \"r\") as f:\n",
    "        data = json.load(f)\n",
    "    pairs = []\n",
    "    for step, s_data in data.items():\n",
    "        if not step.startswith(\"Step\"):\n",
    "            continue\n",
    "        pairs.append({\n",
    "            \"observation\": s_data[\"Agent_0\"][\"Observation\"],\n",
    "            \"sentence\": s_data[\"Agent_0\"][\"Sentence\"][1:-1]\n",
    "        })\n",
    "        pairs.append({\n",
    "            \"observation\": s_data[\"Agent_1\"][\"Observation\"],\n",
    "            \"sentence\": s_data[\"Agent_1\"][\"Sentence\"][1:-1]\n",
    "        })\n",
    "    return pairs\n",
    "\n",
    "data_pairs = load_pairs(\"test_data/Sentences_Generated_P1.json\")\n",
    "\n",
    "train_data = data_pairs[:80000]\n",
    "test_data = data_pairs[80000:]"
   ]
  },
  {
   "cell_type": "code",
   "execution_count": 5,
   "id": "79cce954",
   "metadata": {},
   "outputs": [
    {
     "ename": "NameError",
     "evalue": "name 'GRUDecoder' is not defined",
     "output_type": "error",
     "traceback": [
      "\u001b[0;31m---------------------------------------------------------------------------\u001b[0m",
      "\u001b[0;31mNameError\u001b[0m                                 Traceback (most recent call last)",
      "\u001b[0;32m/tmp/ipykernel_6311/741316777.py\u001b[0m in \u001b[0;36m<module>\u001b[0;34m\u001b[0m\n\u001b[1;32m     10\u001b[0m \u001b[0mlang_enc\u001b[0m \u001b[0;34m=\u001b[0m \u001b[0mGRUEncoder\u001b[0m\u001b[0;34m(\u001b[0m\u001b[0;36m32\u001b[0m\u001b[0;34m,\u001b[0m \u001b[0mword_encoder\u001b[0m\u001b[0;34m)\u001b[0m\u001b[0;34m\u001b[0m\u001b[0;34m\u001b[0m\u001b[0m\n\u001b[1;32m     11\u001b[0m \u001b[0mobs_enc\u001b[0m \u001b[0;34m=\u001b[0m \u001b[0mObservationEncoder\u001b[0m\u001b[0;34m(\u001b[0m\u001b[0;36m17\u001b[0m\u001b[0;34m,\u001b[0m \u001b[0;36m32\u001b[0m\u001b[0;34m)\u001b[0m\u001b[0;34m\u001b[0m\u001b[0;34m\u001b[0m\u001b[0m\n\u001b[0;32m---> 12\u001b[0;31m \u001b[0mdec\u001b[0m \u001b[0;34m=\u001b[0m \u001b[0mGRUDecoder\u001b[0m\u001b[0;34m(\u001b[0m\u001b[0;36m32\u001b[0m\u001b[0;34m,\u001b[0m \u001b[0mword_encoder\u001b[0m\u001b[0;34m)\u001b[0m\u001b[0;34m\u001b[0m\u001b[0;34m\u001b[0m\u001b[0m\n\u001b[0m\u001b[1;32m     13\u001b[0m \u001b[0;34m\u001b[0m\u001b[0m\n\u001b[1;32m     14\u001b[0m \u001b[0mobs\u001b[0m \u001b[0;34m=\u001b[0m \u001b[0mtorch\u001b[0m\u001b[0;34m.\u001b[0m\u001b[0mTensor\u001b[0m\u001b[0;34m(\u001b[0m\u001b[0;34m[\u001b[0m\u001b[0mtrain_data\u001b[0m\u001b[0;34m[\u001b[0m\u001b[0;36m0\u001b[0m\u001b[0;34m]\u001b[0m\u001b[0;34m[\u001b[0m\u001b[0;34m\"observation\"\u001b[0m\u001b[0;34m]\u001b[0m\u001b[0;34m]\u001b[0m\u001b[0;34m)\u001b[0m\u001b[0;34m\u001b[0m\u001b[0;34m\u001b[0m\u001b[0m\n",
      "\u001b[0;31mNameError\u001b[0m: name 'GRUDecoder' is not defined"
     ]
    }
   ],
   "source": [
    "import torch\n",
    "\n",
    "from model.modules.obs import ObservationEncoder\n",
    "from model.modules.lm import GRUEncoder, OneHotEncoder\n",
    "from model.modules.comm import CommunicationPolicy\n",
    "\n",
    "cp = CommunicationPolicy(16, 32)\n",
    "\n",
    "word_encoder = OneHotEncoder(['South','Not','Located','West','Object','Landmark','North','Center','East'])\n",
    "lang_enc = GRUEncoder(32, word_encoder)\n",
    "obs_enc = ObservationEncoder(17, 32)\n",
    "dec = GRUDecoder(32, word_encoder)\n",
    "\n",
    "obs = torch.Tensor([train_data[0][\"observation\"]])\n",
    "sent = [train_data[0][\"sentence\"]]\n",
    "\n",
    "int_context = obs_enc(obs)\n",
    "ext_context = lang_enc(sent)\n",
    "print(int_context)\n",
    "print(ext_context)"
   ]
  },
  {
   "cell_type": "code",
   "execution_count": 34,
   "id": "f5e0bb50",
   "metadata": {},
   "outputs": [
    {
     "data": {
      "text/plain": [
       "tensor([[0.9645]], grad_fn=<MmBackward0>)"
      ]
     },
     "execution_count": 34,
     "metadata": {},
     "output_type": "execute_result"
    }
   ],
   "source": [
    "int_context = int_context / int_context.norm(dim=1, keepdim=True)\n",
    "ext_context = ext_context.squeeze(0)\n",
    "ext_context = ext_context / ext_context.norm(dim=1, keepdim=True)\n",
    "sim = int_context @ ext_context.t()\n",
    "sim"
   ]
  },
  {
   "cell_type": "code",
   "execution_count": 20,
   "id": "1ed0ec24",
   "metadata": {},
   "outputs": [
    {
     "data": {
      "text/plain": [
       "tensor([[1., 1., 1., 1., 1., 1., 1., 1., 1., 1., 1., 1., 1., 1., 1., 1., 1., 1.,\n",
       "         1., 1.]])"
      ]
     },
     "execution_count": 20,
     "metadata": {},
     "output_type": "execute_result"
    }
   ],
   "source": [
    "import torch\n",
    "a = torch.ones((1, 20))\n",
    "a"
   ]
  },
  {
   "cell_type": "code",
   "execution_count": 8,
   "id": "eef438cc",
   "metadata": {},
   "outputs": [
    {
     "data": {
      "text/plain": [
       "torch.Size([2, 1, 20])"
      ]
     },
     "execution_count": 8,
     "metadata": {},
     "output_type": "execute_result"
    }
   ],
   "source": [
    "torch.conca((a, a)).shape"
   ]
  },
  {
   "cell_type": "code",
   "execution_count": 12,
   "id": "1baaf17e",
   "metadata": {},
   "outputs": [
    {
     "data": {
      "text/plain": [
       "torch.Size([2, 20])"
      ]
     },
     "execution_count": 12,
     "metadata": {},
     "output_type": "execute_result"
    }
   ],
   "source": [
    "torch.cat([a,a]).shape"
   ]
  }
 ],
 "metadata": {
  "kernelspec": {
   "display_name": "Python 3",
   "language": "python",
   "name": "python3"
  },
  "language_info": {
   "codemirror_mode": {
    "name": "ipython",
    "version": 3
   },
   "file_extension": ".py",
   "mimetype": "text/x-python",
   "name": "python",
   "nbconvert_exporter": "python",
   "pygments_lexer": "ipython3",
   "version": "3.8.10"
  }
 },
 "nbformat": 4,
 "nbformat_minor": 5
}
