{
 "cells": [
  {
   "cell_type": "code",
   "execution_count": 1,
   "id": "121a8f38",
   "metadata": {},
   "outputs": [],
   "source": [
    "import torch"
   ]
  },
  {
   "cell_type": "code",
   "execution_count": 2,
   "id": "6aba0f08",
   "metadata": {},
   "outputs": [],
   "source": [
    "from model.modules.lnoveld import LNovelD\n",
    "\n",
    "m = LNovelD(2, 2, 5)"
   ]
  },
  {
   "cell_type": "code",
   "execution_count": 3,
   "id": "7349edcc",
   "metadata": {},
   "outputs": [
    {
     "data": {
      "text/plain": [
       "LNovelD(\n",
       "  (obs_noveld): NovelD(\n",
       "    (target): MLPNetwork(\n",
       "      (mlp): Sequential(\n",
       "        (0): Linear(in_features=2, out_features=64, bias=True)\n",
       "        (1): ReLU()\n",
       "        (2): Sequential(\n",
       "          (0): Linear(in_features=64, out_features=64, bias=True)\n",
       "          (1): ReLU()\n",
       "        )\n",
       "        (3): Sequential(\n",
       "          (0): Linear(in_features=64, out_features=64, bias=True)\n",
       "          (1): ReLU()\n",
       "        )\n",
       "        (4): Sequential(\n",
       "          (0): Linear(in_features=64, out_features=64, bias=True)\n",
       "          (1): ReLU()\n",
       "        )\n",
       "        (5): Linear(in_features=64, out_features=5, bias=True)\n",
       "      )\n",
       "    )\n",
       "    (predictor): MLPNetwork(\n",
       "      (mlp): Sequential(\n",
       "        (0): Linear(in_features=2, out_features=64, bias=True)\n",
       "        (1): ReLU()\n",
       "        (2): Sequential(\n",
       "          (0): Linear(in_features=64, out_features=64, bias=True)\n",
       "          (1): ReLU()\n",
       "        )\n",
       "        (3): Sequential(\n",
       "          (0): Linear(in_features=64, out_features=64, bias=True)\n",
       "          (1): ReLU()\n",
       "        )\n",
       "        (4): Sequential(\n",
       "          (0): Linear(in_features=64, out_features=64, bias=True)\n",
       "          (1): ReLU()\n",
       "        )\n",
       "        (5): Linear(in_features=64, out_features=5, bias=True)\n",
       "      )\n",
       "    )\n",
       "  )\n",
       ")"
      ]
     },
     "execution_count": 3,
     "metadata": {},
     "output_type": "execute_result"
    }
   ],
   "source": [
    "m"
   ]
  },
  {
   "cell_type": "code",
   "execution_count": 5,
   "id": "7dc57c2a",
   "metadata": {},
   "outputs": [
    {
     "name": "stdout",
     "output_type": "stream",
     "text": [
      "\n",
      "target tensor([[-1.8384,  0.9695, -3.8054, -2.1500,  3.6722]])\n",
      "pred tensor([[ 2.2023, -4.3319, -0.7381, -3.4516,  0.7183]],\n",
      "       grad_fn=<AddmmBackward0>)\n",
      "nov tensor([8.0162])\n",
      "last nov tensor([0.8016])\n",
      "comp tensor([-3.2065])\n",
      "7.615405559539795\n"
     ]
    },
    {
     "data": {
      "text/plain": [
       "7.615405559539795"
      ]
     },
     "execution_count": 5,
     "metadata": {},
     "output_type": "execute_result"
    }
   ],
   "source": [
    "obs = torch.Tensor([[10.0, 10.0]])\n",
    "m(obs, None)"
   ]
  },
  {
   "cell_type": "code",
   "execution_count": 6,
   "id": "8dc3a0a3",
   "metadata": {},
   "outputs": [
    {
     "data": {
      "text/plain": [
       "{(1.0, 1.0): 1, (10.0, 10.0): 1}"
      ]
     },
     "execution_count": 6,
     "metadata": {},
     "output_type": "execute_result"
    }
   ],
   "source": [
    "m.obs_noveld.episode_states_count"
   ]
  },
  {
   "cell_type": "code",
   "execution_count": 10,
   "id": "f74a1a78",
   "metadata": {},
   "outputs": [
    {
     "data": {
      "text/plain": [
       "tensor([[[-0.2511, -0.0432,  0.0962,  0.0057,  0.1118,  0.1515, -0.2212,\n",
       "           0.0393, -0.3192,  0.1660],\n",
       "         [-0.2049, -0.0081, -0.0332, -0.0611,  0.0753,  0.1220, -0.3604,\n",
       "           0.0105, -0.3654,  0.1889],\n",
       "         [-0.2511, -0.0432,  0.0962,  0.0057,  0.1118,  0.1515, -0.2212,\n",
       "           0.0393, -0.3192,  0.1660],\n",
       "         [-0.2056, -0.0054, -0.0102, -0.0172,  0.0852,  0.1885, -0.3544,\n",
       "           0.0742, -0.3862,  0.1926],\n",
       "         [-0.2824, -0.0590,  0.0222, -0.0124,  0.1399,  0.1240, -0.3020,\n",
       "          -0.0233, -0.3220,  0.1452]]], grad_fn=<CopySlices>)"
      ]
     },
     "execution_count": 10,
     "metadata": {},
     "output_type": "execute_result"
    }
   ],
   "source": [
    "from model.modules.lm import GRUEncoder, OneHotEncoder\n",
    "\n",
    "gru = GRUEncoder(\n",
    "    10, \n",
    "    OneHotEncoder(['<SOS>','South','Not','Located','West','<EOS>','Object','Landmark','North','Center','East']))\n",
    "\n",
    "opt = torch.optim.Adam(gru.gru.parameters(), lr=0.1)\n",
    "\n",
    "sentences = [\n",
    "    [\"Located\", \"South\"], \n",
    "    [\"Located\", \"Center\", \"Object\", \"East\"], \n",
    "    [\"Located\", \"South\"], \n",
    "    [\"Located\", \"East\", \"Object\", \"South\", \"East\"], \n",
    "    [\"Located\", \"South\", \"West\"]\n",
    "]\n",
    "sentences = [[\"<SOS>\"] + s + [\"<EOS>\"] for s in sentences]\n",
    "\n",
    "encs = gru(sentences)\n",
    "gru(sentences)\n"
   ]
  },
  {
   "cell_type": "code",
   "execution_count": 11,
   "id": "43061332",
   "metadata": {},
   "outputs": [],
   "source": [
    "opt.zero_grad()\n",
    "encs.mean().backward()\n",
    "opt.step()"
   ]
  },
  {
   "cell_type": "code",
   "execution_count": 12,
   "id": "46e8caf4",
   "metadata": {},
   "outputs": [
    {
     "data": {
      "text/plain": [
       "tensor([[[-0.4974, -0.3791, -0.1940, -0.3039, -0.1669, -0.2489, -0.5031,\n",
       "          -0.1984, -0.5563, -0.0602],\n",
       "         [-0.4415, -0.3436, -0.3280, -0.3862, -0.2037, -0.2943, -0.6240,\n",
       "          -0.2357, -0.5833,  0.0067],\n",
       "         [-0.4974, -0.3791, -0.1940, -0.3039, -0.1669, -0.2489, -0.5031,\n",
       "          -0.1984, -0.5563, -0.0602],\n",
       "         [-0.4591, -0.3452, -0.3098, -0.3782, -0.2319, -0.2676, -0.6360,\n",
       "          -0.1869, -0.5940,  0.0045],\n",
       "         [-0.5177, -0.3911, -0.2654, -0.3371, -0.1657, -0.3111, -0.5693,\n",
       "          -0.2637, -0.5415, -0.0435]]], grad_fn=<CopySlices>)"
      ]
     },
     "execution_count": 12,
     "metadata": {},
     "output_type": "execute_result"
    }
   ],
   "source": [
    "gru(sentences)"
   ]
  },
  {
   "cell_type": "code",
   "execution_count": null,
   "id": "0f23a61c",
   "metadata": {},
   "outputs": [],
   "source": []
  }
 ],
 "metadata": {
  "kernelspec": {
   "display_name": "Python 3",
   "language": "python",
   "name": "python3"
  },
  "language_info": {
   "codemirror_mode": {
    "name": "ipython",
    "version": 3
   },
   "file_extension": ".py",
   "mimetype": "text/x-python",
   "name": "python",
   "nbconvert_exporter": "python",
   "pygments_lexer": "ipython3",
   "version": "3.8.10"
  }
 },
 "nbformat": 4,
 "nbformat_minor": 5
}
