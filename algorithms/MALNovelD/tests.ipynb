{
 "cells": [
  {
   "cell_type": "code",
   "execution_count": 13,
   "id": "2f910f8f",
   "metadata": {},
   "outputs": [],
   "source": [
    "import torch"
   ]
  },
  {
   "cell_type": "markdown",
   "id": "50fcfa35",
   "metadata": {},
   "source": [
    "### LNovelD"
   ]
  },
  {
   "cell_type": "code",
   "execution_count": 2,
   "id": "f5af026e",
   "metadata": {},
   "outputs": [],
   "source": [
    "from model.modules.lnoveld import LNovelD\n",
    "\n",
    "m = LNovelD(2, 2, 5)"
   ]
  },
  {
   "cell_type": "code",
   "execution_count": 3,
   "id": "47304d4e",
   "metadata": {},
   "outputs": [
    {
     "data": {
      "text/plain": [
       "LNovelD(\n",
       "  (obs_noveld): NovelD(\n",
       "    (target): MLPNetwork(\n",
       "      (mlp): Sequential(\n",
       "        (0): Linear(in_features=2, out_features=64, bias=True)\n",
       "        (1): ReLU()\n",
       "        (2): Sequential(\n",
       "          (0): Linear(in_features=64, out_features=64, bias=True)\n",
       "          (1): ReLU()\n",
       "        )\n",
       "        (3): Sequential(\n",
       "          (0): Linear(in_features=64, out_features=64, bias=True)\n",
       "          (1): ReLU()\n",
       "        )\n",
       "        (4): Sequential(\n",
       "          (0): Linear(in_features=64, out_features=64, bias=True)\n",
       "          (1): ReLU()\n",
       "        )\n",
       "        (5): Linear(in_features=64, out_features=5, bias=True)\n",
       "      )\n",
       "    )\n",
       "    (predictor): MLPNetwork(\n",
       "      (mlp): Sequential(\n",
       "        (0): Linear(in_features=2, out_features=64, bias=True)\n",
       "        (1): ReLU()\n",
       "        (2): Sequential(\n",
       "          (0): Linear(in_features=64, out_features=64, bias=True)\n",
       "          (1): ReLU()\n",
       "        )\n",
       "        (3): Sequential(\n",
       "          (0): Linear(in_features=64, out_features=64, bias=True)\n",
       "          (1): ReLU()\n",
       "        )\n",
       "        (4): Sequential(\n",
       "          (0): Linear(in_features=64, out_features=64, bias=True)\n",
       "          (1): ReLU()\n",
       "        )\n",
       "        (5): Linear(in_features=64, out_features=5, bias=True)\n",
       "      )\n",
       "    )\n",
       "  )\n",
       ")"
      ]
     },
     "execution_count": 3,
     "metadata": {},
     "output_type": "execute_result"
    }
   ],
   "source": [
    "m"
   ]
  },
  {
   "cell_type": "code",
   "execution_count": 5,
   "id": "c1b9e1a6",
   "metadata": {},
   "outputs": [
    {
     "name": "stdout",
     "output_type": "stream",
     "text": [
      "\n",
      "target tensor([[-1.8384,  0.9695, -3.8054, -2.1500,  3.6722]])\n",
      "pred tensor([[ 2.2023, -4.3319, -0.7381, -3.4516,  0.7183]],\n",
      "       grad_fn=<AddmmBackward0>)\n",
      "nov tensor([8.0162])\n",
      "last nov tensor([0.8016])\n",
      "comp tensor([-3.2065])\n",
      "7.615405559539795\n"
     ]
    },
    {
     "data": {
      "text/plain": [
       "7.615405559539795"
      ]
     },
     "execution_count": 5,
     "metadata": {},
     "output_type": "execute_result"
    }
   ],
   "source": [
    "obs = torch.Tensor([[10.0, 10.0]])\n",
    "m(obs, None)"
   ]
  },
  {
   "cell_type": "code",
   "execution_count": 6,
   "id": "37cf875c",
   "metadata": {},
   "outputs": [
    {
     "data": {
      "text/plain": [
       "{(1.0, 1.0): 1, (10.0, 10.0): 1}"
      ]
     },
     "execution_count": 6,
     "metadata": {},
     "output_type": "execute_result"
    }
   ],
   "source": [
    "m.obs_noveld.episode_states_count"
   ]
  },
  {
   "cell_type": "markdown",
   "id": "874b0dbd",
   "metadata": {},
   "source": [
    "### Encoder"
   ]
  },
  {
   "cell_type": "code",
   "execution_count": 1,
   "id": "54f10a6c",
   "metadata": {},
   "outputs": [
    {
     "data": {
      "text/plain": [
       "tensor([[[ 0.0602, -0.1766, -0.0372,  0.1486,  0.3524,  0.0492, -0.0064,\n",
       "           0.1933, -0.3469, -0.0596],\n",
       "         [ 0.1362, -0.3001,  0.0173,  0.2752,  0.3259, -0.0171,  0.0233,\n",
       "           0.0974, -0.2904, -0.0622],\n",
       "         [ 0.0602, -0.1766, -0.0372,  0.1486,  0.3524,  0.0492, -0.0064,\n",
       "           0.1933, -0.3469, -0.0596],\n",
       "         [ 0.1281, -0.2525,  0.0050,  0.2414,  0.3356,  0.0387,  0.0285,\n",
       "           0.1468, -0.3164, -0.0694],\n",
       "         [ 0.1491, -0.2382,  0.0952,  0.1408,  0.3274,  0.1251, -0.0039,\n",
       "           0.1219, -0.3603,  0.0718]]], grad_fn=<CopySlices>)"
      ]
     },
     "execution_count": 1,
     "metadata": {},
     "output_type": "execute_result"
    }
   ],
   "source": [
    "import torch\n",
    "from model.modules.lm import GRUEncoder, OneHotEncoder\n",
    "\n",
    "gru = GRUEncoder(\n",
    "    10, \n",
    "    OneHotEncoder(['South','Not','Located','West','Object','Landmark','North','Center','East']))\n",
    "\n",
    "opt = torch.optim.Adam(gru.gru.parameters(), lr=0.1)\n",
    "\n",
    "sentences = [\n",
    "    [\"Located\", \"South\"], \n",
    "    [\"Located\", \"Center\", \"Object\", \"East\"], \n",
    "    [\"Located\", \"South\"], \n",
    "    [\"Located\", \"East\", \"Object\", \"South\", \"East\"], \n",
    "    [\"Located\", \"South\", \"West\"]\n",
    "]\n",
    "sentences = [[\"<SOS>\"] + s + [\"<EOS>\"] for s in sentences]\n",
    "\n",
    "encs = gru(sentences)\n",
    "gru(sentences)\n"
   ]
  },
  {
   "cell_type": "code",
   "execution_count": 11,
   "id": "0360d83d",
   "metadata": {},
   "outputs": [],
   "source": [
    "opt.zero_grad()\n",
    "encs.mean().backward()\n",
    "opt.step()"
   ]
  },
  {
   "cell_type": "code",
   "execution_count": 12,
   "id": "29885a47",
   "metadata": {},
   "outputs": [
    {
     "data": {
      "text/plain": [
       "tensor([[[-0.4974, -0.3791, -0.1940, -0.3039, -0.1669, -0.2489, -0.5031,\n",
       "          -0.1984, -0.5563, -0.0602],\n",
       "         [-0.4415, -0.3436, -0.3280, -0.3862, -0.2037, -0.2943, -0.6240,\n",
       "          -0.2357, -0.5833,  0.0067],\n",
       "         [-0.4974, -0.3791, -0.1940, -0.3039, -0.1669, -0.2489, -0.5031,\n",
       "          -0.1984, -0.5563, -0.0602],\n",
       "         [-0.4591, -0.3452, -0.3098, -0.3782, -0.2319, -0.2676, -0.6360,\n",
       "          -0.1869, -0.5940,  0.0045],\n",
       "         [-0.5177, -0.3911, -0.2654, -0.3371, -0.1657, -0.3111, -0.5693,\n",
       "          -0.2637, -0.5415, -0.0435]]], grad_fn=<CopySlices>)"
      ]
     },
     "execution_count": 12,
     "metadata": {},
     "output_type": "execute_result"
    }
   ],
   "source": [
    "gru(sentences)"
   ]
  },
  {
   "cell_type": "markdown",
   "id": "fbbfe24e",
   "metadata": {},
   "source": [
    "### Decoder"
   ]
  },
  {
   "cell_type": "code",
   "execution_count": 1,
   "id": "513f1a1f",
   "metadata": {},
   "outputs": [
    {
     "data": {
      "text/plain": [
       "(tensor([[[-2.3735, -2.4502, -2.6180, -2.0134, -2.3471, -2.8143, -2.6677,\n",
       "           -1.8240, -2.4765, -2.5626, -2.7094]]], grad_fn=<LogSoftmaxBackward0>),\n",
       " tensor([[[ 0.6252,  0.7289,  0.8356,  0.5018,  0.7564,  0.8033,  0.7864,\n",
       "            0.7227, -0.0403,  0.5622]]], grad_fn=<StackBackward0>))"
      ]
     },
     "execution_count": 1,
     "metadata": {},
     "output_type": "execute_result"
    }
   ],
   "source": [
    "import torch\n",
    "from model.modules.lm import GRUDecoder, OneHotEncoder\n",
    "\n",
    "word_encoder = OneHotEncoder(\n",
    "    ['South','Not','Located','West','Object','Landmark','North','Center','East'])\n",
    "dec = GRUDecoder(10, word_encoder)\n",
    "\n",
    "last_hidden = torch.ones((1, 1, 10))\n",
    "last_word = torch.Tensor(word_encoder.SOS_ENC).unsqueeze(0).unsqueeze(0)\n",
    "\n",
    "dec.forward_step(last_word, last_hidden)"
   ]
  },
  {
   "cell_type": "code",
   "execution_count": 2,
   "id": "dc4a89e9",
   "metadata": {
    "scrolled": false
   },
   "outputs": [
    {
     "name": "stdout",
     "output_type": "stream",
     "text": [
      "Batch # 0\n",
      "Token # 0\n",
      "torch.Size([1, 1, 11])\n",
      "tensor([[[1., 0., 0., 0., 0., 0., 0., 0., 0., 0., 0.]]])\n",
      "torch.Size([1, 1, 10])\n",
      "tensor([[[1., 1., 1., 1., 1., 1., 1., 1., 1., 1.]]])\n",
      "Token # 1\n",
      "torch.Size([1, 1, 11])\n",
      "tensor([[[0., 0., 0., 0., 1., 0., 0., 0., 0., 0., 0.]]])\n",
      "torch.Size([1, 1, 10])\n",
      "tensor([[[ 0.6252,  0.7289,  0.8356,  0.5018,  0.7564,  0.8033,  0.7864,\n",
      "           0.7227, -0.0403,  0.5622]]], grad_fn=<StackBackward0>)\n",
      "Token # 2\n",
      "torch.Size([1, 1, 11])\n",
      "tensor([[[0., 0., 0., 0., 0., 1., 0., 0., 0., 0., 0.]]])\n",
      "torch.Size([1, 1, 10])\n",
      "tensor([[[ 0.4122,  0.6449,  0.6308,  0.2169,  0.6463,  0.6911,  0.6096,\n",
      "           0.3685, -0.2815,  0.2256]]], grad_fn=<StackBackward0>)\n",
      "Token # 3\n",
      "torch.Size([1, 1, 11])\n",
      "tensor([[[0., 0., 0., 0., 0., 0., 0., 0., 0., 0., 1.]]])\n",
      "torch.Size([1, 1, 10])\n",
      "tensor([[[ 0.1948,  0.4077,  0.4849,  0.1084,  0.5570,  0.3894,  0.4387,\n",
      "           0.1903, -0.1325, -0.0323]]], grad_fn=<StackBackward0>)\n",
      "Batch # 1\n",
      "Token # 0\n",
      "torch.Size([1, 1, 11])\n",
      "tensor([[[1., 0., 0., 0., 0., 0., 0., 0., 0., 0., 0.]]])\n",
      "torch.Size([1, 1, 10])\n",
      "tensor([[[1., 1., 1., 1., 1., 1., 1., 1., 1., 1.]]])\n",
      "Token # 1\n",
      "torch.Size([1, 1, 11])\n",
      "tensor([[[0., 0., 0., 0., 1., 0., 0., 0., 0., 0., 0.]]])\n",
      "torch.Size([1, 1, 10])\n",
      "tensor([[[ 0.6252,  0.7289,  0.8356,  0.5018,  0.7564,  0.8033,  0.7864,\n",
      "           0.7227, -0.0403,  0.5622]]], grad_fn=<StackBackward0>)\n",
      "Token # 2\n",
      "torch.Size([1, 1, 11])\n",
      "tensor([[[0., 0., 0., 0., 0., 0., 0., 0., 0., 0., 1.]]])\n",
      "torch.Size([1, 1, 10])\n",
      "tensor([[[ 0.4122,  0.6449,  0.6308,  0.2169,  0.6463,  0.6911,  0.6096,\n",
      "           0.3685, -0.2815,  0.2256]]], grad_fn=<StackBackward0>)\n"
     ]
    },
    {
     "data": {
      "text/plain": [
       "([tensor([[[[-2.3735, -2.4502, -2.6180, -2.0134, -2.3471, -2.8143, -2.6677,\n",
       "             -1.8240, -2.4765, -2.5626, -2.7094]]],\n",
       "  \n",
       "  \n",
       "          [[[-2.3814, -2.4873, -2.5747, -2.1063, -2.3153, -2.6529, -2.6838,\n",
       "             -1.9245, -2.4462, -2.4562, -2.6485]]],\n",
       "  \n",
       "  \n",
       "          [[[-2.4006, -2.5280, -2.5888, -2.1507, -2.3011, -2.6244, -2.6682,\n",
       "             -2.0683, -2.2993, -2.4048, -2.5383]]],\n",
       "  \n",
       "  \n",
       "          [[[-2.4772, -2.5148, -2.5760, -2.1886, -2.3192, -2.5286, -2.5830,\n",
       "             -2.1398, -2.2926, -2.3642, -2.5180]]]], grad_fn=<StackBackward0>),\n",
       "  tensor([[[[-2.3735, -2.4502, -2.6180, -2.0134, -2.3471, -2.8143, -2.6677,\n",
       "             -1.8240, -2.4765, -2.5626, -2.7094]]],\n",
       "  \n",
       "  \n",
       "          [[[-2.3814, -2.4873, -2.5747, -2.1063, -2.3153, -2.6529, -2.6838,\n",
       "             -1.9245, -2.4462, -2.4562, -2.6485]]],\n",
       "  \n",
       "  \n",
       "          [[[-2.4689, -2.4843, -2.5507, -2.1595, -2.3206, -2.5464, -2.5999,\n",
       "             -2.0445, -2.3717, -2.4071, -2.5927]]]], grad_fn=<StackBackward0>)],\n",
       " [[], []])"
      ]
     },
     "execution_count": 2,
     "metadata": {},
     "output_type": "execute_result"
    }
   ],
   "source": [
    "context = torch.ones(2, 10)\n",
    "targets = [\n",
    "    torch.Tensor([\n",
    "        [0., 0., 0., 0., 1., 0., 0., 0., 0., 0., 0.],\n",
    "        [0., 0., 0., 0., 0., 1., 0., 0., 0., 0., 0.],\n",
    "        [0., 0., 0., 0., 0., 0., 0., 0., 0., 0., 1.],\n",
    "        [0., 1., 0., 0., 0., 0., 0., 0., 0., 0., 0.]]),\n",
    "    torch.Tensor([\n",
    "        [0., 0., 0., 0., 1., 0., 0., 0., 0., 0., 0.],\n",
    "        [0., 0., 0., 0., 0., 0., 0., 0., 0., 0., 1.],\n",
    "        [0., 1., 0., 0., 0., 0., 0., 0., 0., 0., 0.]])\n",
    "]\n",
    "\n",
    "dec(context, targets)"
   ]
  },
  {
   "cell_type": "code",
   "execution_count": null,
   "id": "cc6d10ff",
   "metadata": {},
   "outputs": [],
   "source": []
  },
  {
   "cell_type": "markdown",
   "id": "a9897aed",
   "metadata": {},
   "source": [
    "### Train Encoder-Decoder\n",
    "\n",
    "Load sentences"
   ]
  },
  {
   "cell_type": "code",
   "execution_count": 9,
   "id": "841878b8",
   "metadata": {},
   "outputs": [],
   "source": [
    "import json\n",
    "\n",
    "def load_sentences(data_path):\n",
    "    with open(data_path, \"r\") as f:\n",
    "        data = json.load(f)\n",
    "    sentences = []\n",
    "    for step, s_data in data.items():\n",
    "        if not step.startswith(\"Step\"):\n",
    "            continue\n",
    "        sentences.append(s_data[\"Agent_0\"][\"Sentence\"][1:-1])\n",
    "        sentences.append(s_data[\"Agent_1\"][\"Sentence\"][1:-1])\n",
    "    return sentences\n",
    "sentences = load_sentences(\"test_data/Sentences_Generated_P1.json\")"
   ]
  },
  {
   "cell_type": "markdown",
   "id": "2c98af63",
   "metadata": {},
   "source": [
    "Initialise Encoder and Decoder"
   ]
  },
  {
   "cell_type": "code",
   "execution_count": null,
   "id": "21437a3c",
   "metadata": {},
   "outputs": [],
   "source": [
    "import torch\n",
    "from model.modules.lm import GRUEncoder, GRUDecoder, OneHotEncoder\n",
    "\n",
    "word_encoder = OneHotEncoder(\n",
    "    ['South','Not','Located','West','Object','Landmark','North','Center','East'])"
   ]
  }
 ],
 "metadata": {
  "kernelspec": {
   "display_name": "Python 3",
   "language": "python",
   "name": "python3"
  },
  "language_info": {
   "codemirror_mode": {
    "name": "ipython",
    "version": 3
   },
   "file_extension": ".py",
   "mimetype": "text/x-python",
   "name": "python",
   "nbconvert_exporter": "python",
   "pygments_lexer": "ipython3",
   "version": "3.8.10"
  }
 },
 "nbformat": 4,
 "nbformat_minor": 5
}
