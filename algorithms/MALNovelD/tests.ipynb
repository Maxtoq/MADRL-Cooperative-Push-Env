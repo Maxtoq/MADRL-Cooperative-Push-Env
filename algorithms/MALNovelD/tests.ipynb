{
 "cells": [
  {
   "cell_type": "code",
   "execution_count": 1,
   "id": "1836a981",
   "metadata": {},
   "outputs": [],
   "source": [
    "import torch"
   ]
  },
  {
   "cell_type": "code",
   "execution_count": 2,
   "id": "1a93adbf",
   "metadata": {},
   "outputs": [],
   "source": [
    "from model.modules.lnoveld import LNovelD\n",
    "\n",
    "m = LNovelD(2, 2, 5)"
   ]
  },
  {
   "cell_type": "code",
   "execution_count": 3,
   "id": "3e7474c0",
   "metadata": {},
   "outputs": [
    {
     "data": {
      "text/plain": [
       "LNovelD(\n",
       "  (obs_noveld): NovelD(\n",
       "    (target): MLPNetwork(\n",
       "      (mlp): Sequential(\n",
       "        (0): Linear(in_features=2, out_features=64, bias=True)\n",
       "        (1): ReLU()\n",
       "        (2): Sequential(\n",
       "          (0): Linear(in_features=64, out_features=64, bias=True)\n",
       "          (1): ReLU()\n",
       "        )\n",
       "        (3): Sequential(\n",
       "          (0): Linear(in_features=64, out_features=64, bias=True)\n",
       "          (1): ReLU()\n",
       "        )\n",
       "        (4): Sequential(\n",
       "          (0): Linear(in_features=64, out_features=64, bias=True)\n",
       "          (1): ReLU()\n",
       "        )\n",
       "        (5): Linear(in_features=64, out_features=5, bias=True)\n",
       "      )\n",
       "    )\n",
       "    (predictor): MLPNetwork(\n",
       "      (mlp): Sequential(\n",
       "        (0): Linear(in_features=2, out_features=64, bias=True)\n",
       "        (1): ReLU()\n",
       "        (2): Sequential(\n",
       "          (0): Linear(in_features=64, out_features=64, bias=True)\n",
       "          (1): ReLU()\n",
       "        )\n",
       "        (3): Sequential(\n",
       "          (0): Linear(in_features=64, out_features=64, bias=True)\n",
       "          (1): ReLU()\n",
       "        )\n",
       "        (4): Sequential(\n",
       "          (0): Linear(in_features=64, out_features=64, bias=True)\n",
       "          (1): ReLU()\n",
       "        )\n",
       "        (5): Linear(in_features=64, out_features=5, bias=True)\n",
       "      )\n",
       "    )\n",
       "  )\n",
       ")"
      ]
     },
     "execution_count": 3,
     "metadata": {},
     "output_type": "execute_result"
    }
   ],
   "source": [
    "m"
   ]
  },
  {
   "cell_type": "code",
   "execution_count": 5,
   "id": "45d2a05d",
   "metadata": {},
   "outputs": [
    {
     "name": "stdout",
     "output_type": "stream",
     "text": [
      "\n",
      "target tensor([[-1.8384,  0.9695, -3.8054, -2.1500,  3.6722]])\n",
      "pred tensor([[ 2.2023, -4.3319, -0.7381, -3.4516,  0.7183]],\n",
      "       grad_fn=<AddmmBackward0>)\n",
      "nov tensor([8.0162])\n",
      "last nov tensor([0.8016])\n",
      "comp tensor([-3.2065])\n",
      "7.615405559539795\n"
     ]
    },
    {
     "data": {
      "text/plain": [
       "7.615405559539795"
      ]
     },
     "execution_count": 5,
     "metadata": {},
     "output_type": "execute_result"
    }
   ],
   "source": [
    "obs = torch.Tensor([[10.0, 10.0]])\n",
    "m(obs, None)"
   ]
  },
  {
   "cell_type": "code",
   "execution_count": 6,
   "id": "26140bf6",
   "metadata": {},
   "outputs": [
    {
     "data": {
      "text/plain": [
       "{(1.0, 1.0): 1, (10.0, 10.0): 1}"
      ]
     },
     "execution_count": 6,
     "metadata": {},
     "output_type": "execute_result"
    }
   ],
   "source": [
    "m.obs_noveld.episode_states_count"
   ]
  },
  {
   "cell_type": "code",
   "execution_count": null,
   "id": "c49f0a1c",
   "metadata": {},
   "outputs": [],
   "source": []
  }
 ],
 "metadata": {
  "kernelspec": {
   "display_name": "Python 3",
   "language": "python",
   "name": "python3"
  },
  "language_info": {
   "codemirror_mode": {
    "name": "ipython",
    "version": 3
   },
   "file_extension": ".py",
   "mimetype": "text/x-python",
   "name": "python",
   "nbconvert_exporter": "python",
   "pygments_lexer": "ipython3",
   "version": "3.8.10"
  }
 },
 "nbformat": 4,
 "nbformat_minor": 5
}
