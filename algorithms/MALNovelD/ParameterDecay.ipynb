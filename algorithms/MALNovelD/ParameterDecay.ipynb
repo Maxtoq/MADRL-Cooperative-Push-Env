{
 "cells": [
  {
   "cell_type": "code",
   "execution_count": 3,
   "id": "9fb7461d",
   "metadata": {},
   "outputs": [],
   "source": [
    "import math\n",
    "\n",
    "\n",
    "class ParameterDecay:\n",
    "\n",
    "    def __init__(self, start, finish, n_steps, fn=\"linear\", smooth_param=2.0):\n",
    "        self.start = start\n",
    "        self.finish = finish\n",
    "        self.diff = self.start - self.finish\n",
    "        self.n_steps = n_steps - 1\n",
    "        if not fn in [\"linear\", \"exp\", \"sigmoid\"]:\n",
    "            print(\"ERROR: bad fn param, must be in [linear, exp, sigmoid].\")\n",
    "            exit()\n",
    "        self.fn = fn\n",
    "        self.smooth_param = smooth_param\n",
    "\n",
    "    def get_explo_rate(self, step_i):\n",
    "        exp_pct_remain = max(0, 1 - step_i / self.n_steps)\n",
    "        if self.fn == \"linear\":\n",
    "            return self.finish + self.diff * exp_pct_remain\n",
    "        elif self.fn == \"exp\":\n",
    "            return self.diff * math.exp(self.smooth_param * (exp_pct_remain - 1)) \\\n",
    "                        * exp_pct_remain + self.finish\n",
    "        elif self.fn == \"sigmoid\":\n",
    "            return self.diff / ((1 + math.exp(-16 * exp_pct_remain / \\\n",
    "                        self.smooth_param)) ** 20) + self.finish"
   ]
  },
  {
   "cell_type": "code",
   "execution_count": 4,
   "id": "fbfbf437",
   "metadata": {},
   "outputs": [
    {
     "name": "stdout",
     "output_type": "stream",
     "text": [
      "0.4\n",
      "0.4666666666666667\n",
      "0.5333333333333333\n",
      "0.6\n",
      "0.6666666666666667\n",
      "0.7333333333333334\n",
      "0.8\n",
      "0.8666666666666667\n",
      "0.9333333333333333\n",
      "1.0\n"
     ]
    }
   ],
   "source": [
    "e = ParameterDecay(0.4, 1.0, 10)\n",
    "for i in range(10):\n",
    "    print(e.get_explo_rate(i))"
   ]
  },
  {
   "cell_type": "code",
   "execution_count": null,
   "id": "8a41e724",
   "metadata": {},
   "outputs": [],
   "source": []
  }
 ],
 "metadata": {
  "kernelspec": {
   "display_name": "Python 3",
   "language": "python",
   "name": "python3"
  },
  "language_info": {
   "codemirror_mode": {
    "name": "ipython",
    "version": 3
   },
   "file_extension": ".py",
   "mimetype": "text/x-python",
   "name": "python",
   "nbconvert_exporter": "python",
   "pygments_lexer": "ipython3",
   "version": "3.8.10"
  }
 },
 "nbformat": 4,
 "nbformat_minor": 5
}
