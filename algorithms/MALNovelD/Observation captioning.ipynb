{
 "cells": [
  {
   "cell_type": "markdown",
   "id": "ee68b4b8",
   "metadata": {},
   "source": [
    "# Observation captioning\n",
    "\n",
    "Let's try to learn to generate the sentence corresponding to a given observation.\n",
    "\n",
    "The Observation Encoder will be trained to encode the observation, and the Decoder will have to predict the sentence description of the observation.\n",
    "\n",
    "Load observation-sentence pairs."
   ]
  },
  {
   "cell_type": "code",
   "execution_count": 1,
   "id": "a2af4048",
   "metadata": {},
   "outputs": [
    {
     "data": {
      "text/plain": [
       "{'observation': [0.3566717617981794,\n",
       "  0.22018956073987805,\n",
       "  0.0,\n",
       "  0.0,\n",
       "  0.0,\n",
       "  1.0,\n",
       "  1.0,\n",
       "  0.0,\n",
       "  0.0,\n",
       "  0.0,\n",
       "  1.0,\n",
       "  1.0,\n",
       "  0.0,\n",
       "  0.0,\n",
       "  1.0,\n",
       "  -0.4988445287954038,\n",
       "  -0.25249793046375035],\n",
       " 'sentence': ['Located', 'East', 'Landmark', 'South', 'West']}"
      ]
     },
     "execution_count": 1,
     "metadata": {},
     "output_type": "execute_result"
    }
   ],
   "source": [
    "import json\n",
    "\n",
    "def load_pairs(data_path):\n",
    "    with open(data_path, \"r\") as f:\n",
    "        data = json.load(f)\n",
    "    pairs = []\n",
    "    for step, s_data in data.items():\n",
    "        if not step.startswith(\"Step\"):\n",
    "            continue\n",
    "        pairs.append({\n",
    "            \"observation\": s_data[\"Agent_0\"][\"Observation\"],\n",
    "            \"sentence\": s_data[\"Agent_0\"][\"Sentence\"][1:-1]\n",
    "        })\n",
    "        pairs.append({\n",
    "            \"observation\": s_data[\"Agent_1\"][\"Observation\"],\n",
    "            \"sentence\": s_data[\"Agent_1\"][\"Sentence\"][1:-1]\n",
    "        })\n",
    "    return pairs\n",
    "\n",
    "data_pairs = load_pairs(\"test_data/Sentences_Generated_P1.json\")\n",
    "data_pairs[0]"
   ]
  },
  {
   "cell_type": "markdown",
   "id": "e38ff832",
   "metadata": {},
   "source": [
    "Split data"
   ]
  },
  {
   "cell_type": "code",
   "execution_count": 2,
   "id": "f8179034",
   "metadata": {},
   "outputs": [],
   "source": [
    "train_data = data_pairs[:80000]\n",
    "test_data = data_pairs[80000:]"
   ]
  },
  {
   "cell_type": "markdown",
   "id": "13fafaee",
   "metadata": {},
   "source": [
    "Initialise the models"
   ]
  },
  {
   "cell_type": "code",
   "execution_count": 5,
   "id": "4f5d4041",
   "metadata": {},
   "outputs": [],
   "source": [
    "import torch\n",
    "from model.modules.lm import GRUDecoder, OneHotEncoder\n",
    "from model.modules.obs import ObservationEncoder\n",
    "\n",
    "word_encoder = OneHotEncoder(\n",
    "    ['South','Not','Located','West','Object','Landmark','North','Center','East'])\n",
    "\n",
    "dec = GRUDecoder(32, word_encoder)\n",
    "\n",
    "obs_enc = ObservationEncoder(17, 32)"
   ]
  },
  {
   "cell_type": "markdown",
   "id": "1a593bf1",
   "metadata": {},
   "source": [
    "Initialise loss and optimizer"
   ]
  },
  {
   "cell_type": "code",
   "execution_count": 6,
   "id": "e888e6e9",
   "metadata": {},
   "outputs": [],
   "source": [
    "from torch import nn, optim\n",
    "\n",
    "criterion = nn.NLLLoss()\n",
    "optim = optim.Adam(list(dec.parameters()) + list(obs_enc.parameters()), lr=0.01)"
   ]
  },
  {
   "cell_type": "markdown",
   "id": "fa6c045e",
   "metadata": {},
   "source": [
    "Train"
   ]
  },
  {
   "cell_type": "code",
   "execution_count": 7,
   "id": "e03daf16",
   "metadata": {},
   "outputs": [
    {
     "name": "stderr",
     "output_type": "stream",
     "text": [
      "100%|██████████████████████████████████████████████████████████████| 10000/10000 [23:21<00:00,  7.13it/s]\n"
     ]
    }
   ],
   "source": [
    "import time\n",
    "import random\n",
    "import numpy as np\n",
    "from tqdm import tqdm \n",
    "\n",
    "def train(data, obs_enc, dec, word_encoder, criterion, optim, n_iters=10000, batch_size=64):\n",
    "    start = time.time()\n",
    "    \n",
    "    plot_losses = []\n",
    "    \n",
    "    for s_i in tqdm(range(n_iters)):\n",
    "        optim.zero_grad()\n",
    "        \n",
    "        loss = 0\n",
    "        \n",
    "        # Sample batch\n",
    "        batch = random.sample(data, batch_size)\n",
    "        obs_batch = []\n",
    "        sent_batch = []\n",
    "        for pair in batch:\n",
    "            obs_batch.append(pair[\"observation\"])\n",
    "            sent_batch.append(pair[\"sentence\"])\n",
    "        \n",
    "        # Encode observations\n",
    "        obs_tensor = torch.Tensor(np.array(obs_batch))\n",
    "        context_batch = obs_enc(obs_tensor)\n",
    "        \n",
    "        # Decoder forward pass\n",
    "        encoded_targets = word_encoder.encode_batch(sent_batch)\n",
    "        decoder_outputs, _ = dec(context_batch, encoded_targets)\n",
    "        \n",
    "        # Compute loss\n",
    "        for d_o, e_t in zip(decoder_outputs, encoded_targets):\n",
    "            e_t = torch.argmax(e_t, dim=1)\n",
    "            loss += criterion(d_o, e_t)\n",
    "        \n",
    "        # Backprop\n",
    "        loss.backward()\n",
    "        optim.step()\n",
    "        \n",
    "        plot_losses.append(loss.item() / batch_size)\n",
    "    \n",
    "    return plot_losses\n",
    "            \n",
    "plot_loss = train(data_pairs, obs_enc, dec, word_encoder, criterion, optim)"
   ]
  },
  {
   "cell_type": "code",
   "execution_count": 8,
   "id": "232c1818",
   "metadata": {
    "scrolled": true
   },
   "outputs": [
    {
     "data": {
      "text/plain": [
       "[<matplotlib.lines.Line2D at 0x7f5a0a363520>]"
      ]
     },
     "execution_count": 8,
     "metadata": {},
     "output_type": "execute_result"
    },
    {
     "data": {
      "image/png": "[encoded data removed]",
      "text/plain": [
       "<Figure size 432x288 with 1 Axes>"
      ]
     },
     "metadata": {
      "needs_background": "light"
     },
     "output_type": "display_data"
    }
   ],
   "source": [
    "import matplotlib.pyplot as plt\n",
    "\n",
    "plt.plot(plot_loss)"
   ]
  },
  {
   "cell_type": "code",
   "execution_count": 10,
   "id": "6cd72be9",
   "metadata": {},
   "outputs": [
    {
     "name": "stdout",
     "output_type": "stream",
     "text": [
      "{'observation': [-0.46253025652321633, -0.4361228108850216, -0.052370193572788354, -0.12048694108156249, 0.0, 1.0, 1.0, 0.0, 0.0, 0.0, 1.0, 1.0, 0.0, 0.0, 1.0, 0.46431834132394434, 0.8647810600646555], 'sentence': ['Located', 'South', 'West', 'Landmark', 'North', 'East']}\n"
     ]
    },
    {
     "data": {
      "text/plain": [
       "[['Located', 'South', 'West', 'Landmark', 'North', 'East']]"
      ]
     },
     "execution_count": 10,
     "metadata": {},
     "output_type": "execute_result"
    }
   ],
   "source": [
    "s = test_data[9]\n",
    "s_enc = obs_enc(torch.Tensor([s[\"observation\"]]))\n",
    "_, s_pred = dec(s_enc)\n",
    "print(s)\n",
    "word_encoder.decode_batch(s_pred)"
   ]
  },
  {
   "cell_type": "code",
   "execution_count": null,
   "id": "5e00283a",
   "metadata": {},
   "outputs": [],
   "source": []
  }
 ],
 "metadata": {
  "kernelspec": {
   "display_name": "Python 3",
   "language": "python",
   "name": "python3"
  },
  "language_info": {
   "codemirror_mode": {
    "name": "ipython",
    "version": 3
   },
   "file_extension": ".py",
   "mimetype": "text/x-python",
   "name": "python",
   "nbconvert_exporter": "python",
   "pygments_lexer": "ipython3",
   "version": "3.8.10"
  }
 },
 "nbformat": 4,
 "nbformat_minor": 5
}
