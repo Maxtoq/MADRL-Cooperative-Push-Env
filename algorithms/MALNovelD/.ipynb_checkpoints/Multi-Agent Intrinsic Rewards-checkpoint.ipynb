{
 "cells": [
  {
   "cell_type": "markdown",
   "id": "5946afed",
   "metadata": {},
   "source": [
    "# Strategies for weighting the intrinsic reward\n",
    "\n",
    "## Sigmoid decay (or parametric decay in Andres2022)"
   ]
  },
  {
   "cell_type": "code",
   "execution_count": 12,
   "id": "7c5894e5",
   "metadata": {},
   "outputs": [],
   "source": [
    "import matplotlib.pyplot as plt\n",
    "import math\n",
    "\n",
    "class ParameterDecay:\n",
    "\n",
    "    def __init__(self, start, finish, n_steps, fn=\"linear\", smooth_param=1.0):\n",
    "        self.start = start\n",
    "        self.finish = finish\n",
    "        self.diff = self.start - self.finish\n",
    "        self.n_steps = n_steps\n",
    "        if not fn in [\"linear\", \"exp\", \"sigmoid\"]:\n",
    "            print(\"ERROR: bad fn param, must be in [linear, exp, sigmoid].\")\n",
    "            exit()\n",
    "        self.fn = fn\n",
    "        if self.fn == \"exp\":\n",
    "            self.smooth_param = smooth_param\n",
    "        elif self.fn == \"sigmoid\":\n",
    "            self.smooth_param = 0.5\n",
    "\n",
    "    def get_explo_rate(self, step_i):\n",
    "        exp_pct_remain = max(0, 1 - step_i / self.n_steps)\n",
    "        if self.fn == \"linear\":\n",
    "            return self.finish + self.diff * exp_pct_remain\n",
    "        elif self.fn == \"exp\":\n",
    "            return self.diff * math.exp(self.smooth_param * (exp_pct_remain - 1)) \\\n",
    "                    * exp_pct_remain + self.finish\n",
    "        elif self.fn == \"sigmoid\":\n",
    "            pass"
   ]
  },
  {
   "cell_type": "code",
   "execution_count": 13,
   "id": "69662049",
   "metadata": {},
   "outputs": [
    {
     "data": {
      "text/plain": [
       "[<matplotlib.lines.Line2D at 0x7f879fc6ce50>]"
      ]
     },
     "execution_count": 13,
     "metadata": {},
     "output_type": "execute_result"
    },
    {
     "data": {
      "image/png": "[encoded data removed]",
      "text/plain": [
       "<Figure size 432x288 with 1 Axes>"
      ]
     },
     "metadata": {
      "needs_background": "light"
     },
     "output_type": "display_data"
    }
   ],
   "source": [
    "eps = ParameterDecay(1, 0.5, 100, \"exp\")\n",
    "steps = list(range(100))\n",
    "plt.plot(steps, [eps.get_explo_rate(i) for i in steps])"
   ]
  },
  {
   "cell_type": "code",
   "execution_count": null,
   "id": "862d2f1a",
   "metadata": {},
   "outputs": [],
   "source": []
  }
 ],
 "metadata": {
  "kernelspec": {
   "display_name": "Python 3",
   "language": "python",
   "name": "python3"
  },
  "language_info": {
   "codemirror_mode": {
    "name": "ipython",
    "version": 3
   },
   "file_extension": ".py",
   "mimetype": "text/x-python",
   "name": "python",
   "nbconvert_exporter": "python",
   "pygments_lexer": "ipython3",
   "version": "3.8.10"
  }
 },
 "nbformat": 4,
 "nbformat_minor": 5
}
