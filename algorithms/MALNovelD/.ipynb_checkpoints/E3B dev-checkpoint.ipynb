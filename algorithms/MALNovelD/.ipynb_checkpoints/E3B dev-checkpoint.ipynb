{
 "cells": [
  {
   "cell_type": "code",
   "execution_count": 135,
   "id": "6b33c7ef",
   "metadata": {},
   "outputs": [],
   "source": [
    "import torch\n",
    "from torch.nn import functional as F\n",
    "\n",
    "from model.modules.networks import MLPNetwork\n",
    "\n",
    "\n",
    "class E3B:\n",
    "    \n",
    "    def __init__(self, input_dim, act_dim, enc_dim, hidden_dim=64, ridge=0.1, lr=1e-4):\n",
    "        self.enc_dim = enc_dim\n",
    "        self.ridge = ridge\n",
    "        # State encoder\n",
    "        self.encoder = MLPNetwork(input_dim, enc_dim, hidden_dim, norm_in=False)\n",
    "        # Inverse dynamics model\n",
    "        self.inv_dyn = MLPNetwork(2 * enc_dim, act_dim, hidden_dim, norm_in=False)\n",
    "        # Inverse covariance matrix\n",
    "        self.ridge = ridge\n",
    "        self.inv_cov = torch.eye(enc_dim) * (1.0 / self.ridge)\n",
    "        self.outer_product_buffer = torch.empty(enc_dim, enc_dim)\n",
    "        \n",
    "        # Optimizers\n",
    "        self.encoder_optim = torch.optim.Adam(\n",
    "            self.encoder.parameters(), \n",
    "            lr=lr)\n",
    "        self.inv_dyn_optim = torch.optim.Adam(\n",
    "            self.inv_dyn.parameters(), \n",
    "            lr=lr)\n",
    "    \n",
    "    def init_new_episode(self):\n",
    "        self.inv_cov = torch.eye(self.enc_dim) * (1.0 / self.ridge)\n",
    "\n",
    "    def set_train(self, device):\n",
    "        self.encoder.train()\n",
    "        self.encoder = self.encoder.to(device)\n",
    "        self.inv_dyn.train()\n",
    "        self.inv_dyn = self.inv_dyn.to(device)\n",
    "        self.device = device\n",
    "\n",
    "    def set_eval(self, device):\n",
    "        self.encoder.eval()\n",
    "        self.encoder = self.encoder.to(device)\n",
    "        self.device = device\n",
    "        \n",
    "    def get_reward(self, state):\n",
    "        \"\"\"\n",
    "        Inputs:\n",
    "            state (torch.Tensor): dim=(1, state_dim)\n",
    "        \"\"\"\n",
    "        # Encode state\n",
    "        enc_state = self.encoder(state).squeeze().detach()\n",
    "        # Compute the intrinsic reward\n",
    "        u = torch.mv(self.inv_cov, enc_state)\n",
    "        int_reward = torch.dot(enc_state, u).item()\n",
    "        # Update covariance matrix\n",
    "        torch.outer(u, u, out=self.outer_product_buffer)\n",
    "        torch.add(\n",
    "            self.inv_cov, self.outer_product_buffer, \n",
    "            alpha=-(1. / (1. + int_reward)), out=self.inv_cov)\n",
    "        return int_reward\n",
    "    \n",
    "    def train(self, state_batch, act_batch):\n",
    "        # Encode states\n",
    "        enc_all_states_b = self.encoder(state_batch)\n",
    "        enc_states_b = enc_all_states_b[:-1]\n",
    "        enc_next_states_b = enc_all_states_b[1:]\n",
    "        # Run inverse dynamics model\n",
    "        inv_dyn_inputs = torch.cat((enc_states_b, enc_next_states_b), dim=-1)\n",
    "        pred_actions = self.inv_dyn(inv_dyn_inputs)\n",
    "        # Compute loss\n",
    "        index_act_batch = act_batch.max(dim=-1)[1]\n",
    "        inv_dyn_loss = F.nll_loss(\n",
    "            F.log_softmax(torch.flatten(pred_actions, 0, 1), dim=-1),\n",
    "            target=torch.flatten(index_act_batch, 0, 1),\n",
    "            reduction='none')\n",
    "        inv_dyn_loss = inv_dyn_loss.view_as(index_act_batch)\n",
    "        loss = torch.sum(torch.mean(inv_dyn_loss, dim=1))\n",
    "        # Backward pass\n",
    "        self.encoder_optim.zero_grad()\n",
    "        self.inv_dyn_optim.zero_grad()\n",
    "        loss.backward()\n",
    "        self.encoder_optim.step()\n",
    "        self.inv_dyn_optim.step()\n",
    "        return loss\n",
    "    \n",
    "    def get_params(self):\n",
    "        return {'encoder': self.encoder.state_dict(),\n",
    "                'inv_dyn': self.inv_dyn.state_dict(),\n",
    "                'encoder_optim': self.encoder_optim.state_dict(),\n",
    "                'inv_dyn_optim': self.inv_dyn_optim.state_dict()}\n",
    "\n",
    "    def load_params(self, params):\n",
    "        self.encoder.load_state_dict(params['encoder'])\n",
    "        self.inv_dyn.load_state_dict(params['inv_dyn'])\n",
    "        self.encoder_optim.load_state_dict(params['encoder_optim'])\n",
    "        self.inv_dyn_optim.load_state_dict(params['inv_dyn_optim'])"
   ]
  },
  {
   "cell_type": "code",
   "execution_count": 43,
   "id": "62b507f0",
   "metadata": {},
   "outputs": [
    {
     "data": {
      "text/plain": [
       "111.61341857910156"
      ]
     },
     "execution_count": 43,
     "metadata": {},
     "output_type": "execute_result"
    }
   ],
   "source": [
    "m = E3B(10, 3, 32)\n",
    "state = torch.ones(1, 10)\n",
    "m.set_eval('cpu')\n",
    "m.get_reward(state)"
   ]
  },
  {
   "cell_type": "code",
   "execution_count": 48,
   "id": "3281435e",
   "metadata": {},
   "outputs": [
    {
     "data": {
      "text/plain": [
       "9.89312744140625"
      ]
     },
     "execution_count": 48,
     "metadata": {},
     "output_type": "execute_result"
    }
   ],
   "source": [
    "state = torch.ones(1, 10)\n",
    "state[0, 5] = 0\n",
    "m.get_reward(state)"
   ]
  },
  {
   "cell_type": "code",
   "execution_count": 148,
   "id": "01ff83ef",
   "metadata": {},
   "outputs": [
    {
     "data": {
      "text/plain": [
       "tensor(16.6385, grad_fn=<SumBackward0>)"
      ]
     },
     "execution_count": 148,
     "metadata": {},
     "output_type": "execute_result"
    }
   ],
   "source": [
    "m = E3B(10, 3, 32)\n",
    "state_batch = torch.ones(2, 11, 4, 10)\n",
    "act_batch = torch.zeros(2, 10, 4, 3)\n",
    "act_batch[:, :, :, 1] = 1\n",
    "act_batch = torch.cat(tuple(act_batch), dim=-1)\n",
    "m.set_train('cpu')\n",
    "m.train(state_batch[0], act_batch)"
   ]
  },
  {
   "cell_type": "code",
   "execution_count": 171,
   "id": "020f1199",
   "metadata": {},
   "outputs": [
    {
     "data": {
      "text/plain": [
       "tensor(6.8776, grad_fn=<SumBackward0>)"
      ]
     },
     "execution_count": 171,
     "metadata": {},
     "output_type": "execute_result"
    }
   ],
   "source": [
    "m.train(state_batch[0], act_batch)"
   ]
  },
  {
   "cell_type": "code",
   "execution_count": 132,
   "id": "3cba1c79",
   "metadata": {},
   "outputs": [
    {
     "data": {
      "text/plain": [
       "torch.Size([10, 4, 6])"
      ]
     },
     "execution_count": 132,
     "metadata": {},
     "output_type": "execute_result"
    }
   ],
   "source": [
    "act_batch = torch.zeros(2, 10, 4, 3)\n",
    "act_batch[0] = 1\n",
    "torch.cat(tuple(act_batch), dim=-1).shape"
   ]
  },
  {
   "cell_type": "code",
   "execution_count": 134,
   "id": "01ce6e1b",
   "metadata": {},
   "outputs": [
    {
     "data": {
      "text/plain": [
       "torch.Size([11, 4, 10])"
      ]
     },
     "execution_count": 134,
     "metadata": {},
     "output_type": "execute_result"
    }
   ],
   "source": [
    "state_batch[0].shape"
   ]
  },
  {
   "cell_type": "code",
   "execution_count": null,
   "id": "c0686811",
   "metadata": {},
   "outputs": [],
   "source": []
  }
 ],
 "metadata": {
  "kernelspec": {
   "display_name": "Python 3",
   "language": "python",
   "name": "python3"
  },
  "language_info": {
   "codemirror_mode": {
    "name": "ipython",
    "version": 3
   },
   "file_extension": ".py",
   "mimetype": "text/x-python",
   "name": "python",
   "nbconvert_exporter": "python",
   "pygments_lexer": "ipython3",
   "version": "3.8.10"
  }
 },
 "nbformat": 4,
 "nbformat_minor": 5
}
