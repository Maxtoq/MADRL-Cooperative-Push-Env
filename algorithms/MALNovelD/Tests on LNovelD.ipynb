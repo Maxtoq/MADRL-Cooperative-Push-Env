{
 "cells": [
  {
   "cell_type": "markdown",
   "id": "bbd2ce92",
   "metadata": {},
   "source": [
    "# NovelD"
   ]
  },
  {
   "cell_type": "code",
   "execution_count": 8,
   "id": "c14b24b4",
   "metadata": {},
   "outputs": [],
   "source": [
    "from model.modules.lnoveld import NovelD\n",
    "\n",
    "m = NovelD(10, 5, 32)"
   ]
  },
  {
   "cell_type": "code",
   "execution_count": 9,
   "id": "773fe8a2",
   "metadata": {},
   "outputs": [
    {
     "data": {
      "text/plain": [
       "tensor([[0.0170, 0.7446, 0.7682, 0.4385, 0.1954, 0.8637, 0.0278, 0.0760, 0.4399,\n",
       "         0.3038]])"
      ]
     },
     "execution_count": 9,
     "metadata": {},
     "output_type": "execute_result"
    }
   ],
   "source": [
    "import torch\n",
    "\n",
    "state = torch.rand(1, 10)\n",
    "state"
   ]
  },
  {
   "cell_type": "code",
   "execution_count": 10,
   "id": "1ea6c014",
   "metadata": {},
   "outputs": [
    {
     "name": "stdout",
     "output_type": "stream",
     "text": [
      "{(0.017005085945129395, 0.7446469664573669, 0.7681810259819031, 0.43851786851882935, 0.19538533687591553, 0.863665759563446, 0.027759432792663574, 0.07602101564407349, 0.4399014711380005, 0.30379509925842285): 1}\n",
      "tensor([[0.0170, 0.7446, 0.7682, 0.4385, 0.1954, 0.8637, 0.0278, 0.0760, 0.4399,\n",
      "         0.3038]])\n",
      "tensor([[-0.2554, -0.0441,  0.0087,  0.2480,  0.0232]])\n",
      "tensor([[ 0.0338,  0.1748, -0.5254,  0.4180, -0.0263]],\n",
      "       grad_fn=<AddmmBackward0>)\n",
      "tensor([0.6694])\n",
      "None\n",
      "No reward\n"
     ]
    },
    {
     "data": {
      "text/plain": [
       "(0.0, tensor(0.0896, grad_fn=<MseLossBackward0>))"
      ]
     },
     "execution_count": 10,
     "metadata": {},
     "output_type": "execute_result"
    }
   ],
   "source": [
    "m.get_reward(state)"
   ]
  },
  {
   "cell_type": "code",
   "execution_count": 31,
   "id": "87828835",
   "metadata": {},
   "outputs": [
    {
     "ename": "TypeError",
     "evalue": "unhashable type: 'list'",
     "output_type": "error",
     "traceback": [
      "\u001b[0;31m---------------------------------------------------------------------------\u001b[0m",
      "\u001b[0;31mTypeError\u001b[0m                                 Traceback (most recent call last)",
      "\u001b[0;32m/tmp/ipykernel_281351/974694770.py\u001b[0m in \u001b[0;36m<module>\u001b[0;34m\u001b[0m\n\u001b[0;32m----> 1\u001b[0;31m \u001b[0mm\u001b[0m\u001b[0;34m.\u001b[0m\u001b[0mget_reward\u001b[0m\u001b[0;34m(\u001b[0m\u001b[0mtorch\u001b[0m\u001b[0;34m.\u001b[0m\u001b[0mrand\u001b[0m\u001b[0;34m(\u001b[0m\u001b[0;36m2\u001b[0m\u001b[0;34m,\u001b[0m \u001b[0;36m10\u001b[0m\u001b[0;34m)\u001b[0m\u001b[0;34m)\u001b[0m\u001b[0;34m\u001b[0m\u001b[0;34m\u001b[0m\u001b[0m\n\u001b[0m",
      "\u001b[0;32m~/Desktop/Dev/MADRL-Cooperative-Push-Env/algorithms/MALNovelD/model/modules/lnoveld.py\u001b[0m in \u001b[0;36mget_reward\u001b[0;34m(self, state)\u001b[0m\n\u001b[1;32m     68\u001b[0m         \u001b[0;31m# Increment count of current state\u001b[0m\u001b[0;34m\u001b[0m\u001b[0;34m\u001b[0m\u001b[0;34m\u001b[0m\u001b[0m\n\u001b[1;32m     69\u001b[0m         \u001b[0mstate_key\u001b[0m \u001b[0;34m=\u001b[0m \u001b[0mtuple\u001b[0m\u001b[0;34m(\u001b[0m\u001b[0mstate\u001b[0m\u001b[0;34m.\u001b[0m\u001b[0msqueeze\u001b[0m\u001b[0;34m(\u001b[0m\u001b[0;34m)\u001b[0m\u001b[0;34m.\u001b[0m\u001b[0mtolist\u001b[0m\u001b[0;34m(\u001b[0m\u001b[0;34m)\u001b[0m\u001b[0;34m)\u001b[0m\u001b[0;34m\u001b[0m\u001b[0;34m\u001b[0m\u001b[0m\n\u001b[0;32m---> 70\u001b[0;31m         \u001b[0;32mif\u001b[0m \u001b[0mstate_key\u001b[0m \u001b[0;32min\u001b[0m \u001b[0mself\u001b[0m\u001b[0;34m.\u001b[0m\u001b[0mepisode_states_count\u001b[0m\u001b[0;34m:\u001b[0m\u001b[0;34m\u001b[0m\u001b[0;34m\u001b[0m\u001b[0m\n\u001b[0m\u001b[1;32m     71\u001b[0m             \u001b[0mself\u001b[0m\u001b[0;34m.\u001b[0m\u001b[0mepisode_states_count\u001b[0m\u001b[0;34m[\u001b[0m\u001b[0mstate_key\u001b[0m\u001b[0;34m]\u001b[0m \u001b[0;34m+=\u001b[0m \u001b[0;36m1\u001b[0m\u001b[0;34m\u001b[0m\u001b[0;34m\u001b[0m\u001b[0m\n\u001b[1;32m     72\u001b[0m         \u001b[0;32melse\u001b[0m\u001b[0;34m:\u001b[0m\u001b[0;34m\u001b[0m\u001b[0;34m\u001b[0m\u001b[0m\n",
      "\u001b[0;31mTypeError\u001b[0m: unhashable type: 'list'"
     ]
    }
   ],
   "source": [
    "m.get_reward(torch.rand(2, 10))"
   ]
  },
  {
   "cell_type": "code",
   "execution_count": 23,
   "id": "57c3b849",
   "metadata": {},
   "outputs": [
    {
     "name": "stdout",
     "output_type": "stream",
     "text": [
      "{(0.017005085945129395, 0.7446469664573669, 0.7681810259819031, 0.43851786851882935, 0.19538533687591553, 0.863665759563446, 0.027759432792663574, 0.07602101564407349, 0.4399014711380005, 0.30379509925842285): 10, (0.7085840106010437, 0.31842857599258423, 0.5146272778511047, 0.7864795327186584, 0.47004234790802, 0.3820362091064453, 0.6211551427841187, 0.2838684320449829, 0.8736599087715149, 0.31877100467681885): 1}\n",
      "tensor([[0.0170, 0.7446, 0.7682, 0.4385, 0.1954, 0.8637, 0.0278, 0.0760, 0.4399,\n",
      "         0.3038]])\n",
      "tensor([[-0.2554, -0.0441,  0.0087,  0.2480,  0.0232]])\n",
      "tensor([[ 0.0063,  0.1617, -0.4729,  0.3883, -0.0200]],\n",
      "       grad_fn=<AddmmBackward0>)\n",
      "tensor([0.6036])\n",
      "tensor([0.6099])\n",
      "No reward\n"
     ]
    }
   ],
   "source": [
    "r, l = m.get_reward(state)"
   ]
  },
  {
   "cell_type": "code",
   "execution_count": 35,
   "id": "8aa9583c",
   "metadata": {},
   "outputs": [
    {
     "data": {
      "text/plain": [
       "array([[1.1, 1.1]])"
      ]
     },
     "execution_count": 35,
     "metadata": {},
     "output_type": "execute_result"
    }
   ],
   "source": [
    "import numpy as np\n",
    "a = np.array([[1,1]])\n",
    "a + a * 0.1"
   ]
  },
  {
   "cell_type": "markdown",
   "id": "3abf56b7",
   "metadata": {},
   "source": [
    "# LNovelD"
   ]
  },
  {
   "cell_type": "code",
   "execution_count": 17,
   "id": "f0138662",
   "metadata": {},
   "outputs": [],
   "source": [
    "from model.modules.lnoveld import LNovelD\n",
    "\n",
    "m = LNovelD(2, 2, 5)"
   ]
  },
  {
   "cell_type": "code",
   "execution_count": 18,
   "id": "bdcc24c8",
   "metadata": {},
   "outputs": [
    {
     "data": {
      "text/plain": [
       "LNovelD(\n",
       "  (obs_noveld): NovelD(\n",
       "    (target): MLPNetwork(\n",
       "      (mlp): Sequential(\n",
       "        (0): Linear(in_features=2, out_features=64, bias=True)\n",
       "        (1): ReLU()\n",
       "        (2): Sequential(\n",
       "          (0): Linear(in_features=64, out_features=64, bias=True)\n",
       "          (1): ReLU()\n",
       "        )\n",
       "        (3): Sequential(\n",
       "          (0): Linear(in_features=64, out_features=64, bias=True)\n",
       "          (1): ReLU()\n",
       "        )\n",
       "        (4): Sequential(\n",
       "          (0): Linear(in_features=64, out_features=64, bias=True)\n",
       "          (1): ReLU()\n",
       "        )\n",
       "        (5): Linear(in_features=64, out_features=5, bias=True)\n",
       "      )\n",
       "    )\n",
       "    (predictor): MLPNetwork(\n",
       "      (mlp): Sequential(\n",
       "        (0): Linear(in_features=2, out_features=64, bias=True)\n",
       "        (1): ReLU()\n",
       "        (2): Sequential(\n",
       "          (0): Linear(in_features=64, out_features=64, bias=True)\n",
       "          (1): ReLU()\n",
       "        )\n",
       "        (3): Sequential(\n",
       "          (0): Linear(in_features=64, out_features=64, bias=True)\n",
       "          (1): ReLU()\n",
       "        )\n",
       "        (4): Sequential(\n",
       "          (0): Linear(in_features=64, out_features=64, bias=True)\n",
       "          (1): ReLU()\n",
       "        )\n",
       "        (5): Linear(in_features=64, out_features=5, bias=True)\n",
       "      )\n",
       "    )\n",
       "  )\n",
       "  (lang_noveld): NovelD(\n",
       "    (target): MLPNetwork(\n",
       "      (mlp): Sequential(\n",
       "        (0): Linear(in_features=2, out_features=64, bias=True)\n",
       "        (1): ReLU()\n",
       "        (2): Sequential(\n",
       "          (0): Linear(in_features=64, out_features=64, bias=True)\n",
       "          (1): ReLU()\n",
       "        )\n",
       "        (3): Sequential(\n",
       "          (0): Linear(in_features=64, out_features=64, bias=True)\n",
       "          (1): ReLU()\n",
       "        )\n",
       "        (4): Sequential(\n",
       "          (0): Linear(in_features=64, out_features=64, bias=True)\n",
       "          (1): ReLU()\n",
       "        )\n",
       "        (5): Linear(in_features=64, out_features=5, bias=True)\n",
       "      )\n",
       "    )\n",
       "    (predictor): MLPNetwork(\n",
       "      (mlp): Sequential(\n",
       "        (0): Linear(in_features=2, out_features=64, bias=True)\n",
       "        (1): ReLU()\n",
       "        (2): Sequential(\n",
       "          (0): Linear(in_features=64, out_features=64, bias=True)\n",
       "          (1): ReLU()\n",
       "        )\n",
       "        (3): Sequential(\n",
       "          (0): Linear(in_features=64, out_features=64, bias=True)\n",
       "          (1): ReLU()\n",
       "        )\n",
       "        (4): Sequential(\n",
       "          (0): Linear(in_features=64, out_features=64, bias=True)\n",
       "          (1): ReLU()\n",
       "        )\n",
       "        (5): Linear(in_features=64, out_features=5, bias=True)\n",
       "      )\n",
       "    )\n",
       "  )\n",
       ")"
      ]
     },
     "execution_count": 18,
     "metadata": {},
     "output_type": "execute_result"
    }
   ],
   "source": [
    "m"
   ]
  },
  {
   "cell_type": "code",
   "execution_count": 5,
   "id": "7e5b9774",
   "metadata": {},
   "outputs": [
    {
     "name": "stdout",
     "output_type": "stream",
     "text": [
      "\n",
      "target tensor([[-1.8384,  0.9695, -3.8054, -2.1500,  3.6722]])\n",
      "pred tensor([[ 2.2023, -4.3319, -0.7381, -3.4516,  0.7183]],\n",
      "       grad_fn=<AddmmBackward0>)\n",
      "nov tensor([8.0162])\n",
      "last nov tensor([0.8016])\n",
      "comp tensor([-3.2065])\n",
      "7.615405559539795\n"
     ]
    },
    {
     "data": {
      "text/plain": [
       "7.615405559539795"
      ]
     },
     "execution_count": 5,
     "metadata": {},
     "output_type": "execute_result"
    }
   ],
   "source": [
    "obs = torch.Tensor([[10.0, 10.0]])\n",
    "m(obs, None)"
   ]
  },
  {
   "cell_type": "code",
   "execution_count": 6,
   "id": "ced4f94c",
   "metadata": {},
   "outputs": [
    {
     "data": {
      "text/plain": [
       "{(1.0, 1.0): 1, (10.0, 10.0): 1}"
      ]
     },
     "execution_count": 6,
     "metadata": {},
     "output_type": "execute_result"
    }
   ],
   "source": [
    "m.obs_noveld.episode_states_count"
   ]
  }
 ],
 "metadata": {
  "kernelspec": {
   "display_name": "Python 3",
   "language": "python",
   "name": "python3"
  },
  "language_info": {
   "codemirror_mode": {
    "name": "ipython",
    "version": 3
   },
   "file_extension": ".py",
   "mimetype": "text/x-python",
   "name": "python",
   "nbconvert_exporter": "python",
   "pygments_lexer": "ipython3",
   "version": "3.8.10"
  }
 },
 "nbformat": 4,
 "nbformat_minor": 5
}
