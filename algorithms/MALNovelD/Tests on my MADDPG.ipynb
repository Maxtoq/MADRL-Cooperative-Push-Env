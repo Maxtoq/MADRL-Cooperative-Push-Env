{
 "cells": [
  {
   "cell_type": "code",
   "execution_count": 3,
   "id": "59098a42",
   "metadata": {},
   "outputs": [],
   "source": [
    "import torch\n",
    "from model.modules.maddpg import MADDPG\n",
    "\n",
    "model = MADDPG(2, 17, 5)"
   ]
  },
  {
   "cell_type": "code",
   "execution_count": 5,
   "id": "1606f3ec",
   "metadata": {},
   "outputs": [
    {
     "data": {
      "text/plain": [
       "[tensor([ 0.1828, -0.5492, -0.6480, -0.1173,  0.8745], grad_fn=<ClampBackward1>),\n",
       " tensor([ 0.6640, -0.0608,  0.2512,  0.2356, -0.3073], grad_fn=<ClampBackward1>)]"
      ]
     },
     "execution_count": 5,
     "metadata": {},
     "output_type": "execute_result"
    }
   ],
   "source": [
    "a = torch.rand(2, 17)\n",
    "model.step(a)"
   ]
  },
  {
   "cell_type": "code",
   "execution_count": 6,
   "id": "55d22709",
   "metadata": {},
   "outputs": [
    {
     "data": {
      "text/plain": [
       "[tensor([ 0.5599,  0.3128, -0.0750,  0.1165, -0.0078],\n",
       "        grad_fn=<UnbindBackward0>),\n",
       " tensor([ 0.3879,  0.1233, -0.6442,  0.3776,  0.0025],\n",
       "        grad_fn=<UnbindBackward0>)]"
      ]
     },
     "execution_count": 6,
     "metadata": {},
     "output_type": "execute_result"
    }
   ],
   "source": [
    "model = MADDPG(2, 17, 5, shared_params=True)\n",
    "a = torch.rand(2, 17)\n",
    "model.step(a)"
   ]
  },
  {
   "cell_type": "code",
   "execution_count": 7,
   "id": "2cc9208e",
   "metadata": {},
   "outputs": [
    {
     "data": {
      "text/plain": [
       "False"
      ]
     },
     "execution_count": 7,
     "metadata": {},
     "output_type": "execute_result"
    }
   ],
   "source": [
    "a.requires_grad"
   ]
  },
  {
   "cell_type": "code",
   "execution_count": null,
   "id": "4bd50b6a",
   "metadata": {},
   "outputs": [],
   "source": []
  }
 ],
 "metadata": {
  "kernelspec": {
   "display_name": "Python 3",
   "language": "python",
   "name": "python3"
  },
  "language_info": {
   "codemirror_mode": {
    "name": "ipython",
    "version": 3
   },
   "file_extension": ".py",
   "mimetype": "text/x-python",
   "name": "python",
   "nbconvert_exporter": "python",
   "pygments_lexer": "ipython3",
   "version": "3.8.10"
  }
 },
 "nbformat": 4,
 "nbformat_minor": 5
}
