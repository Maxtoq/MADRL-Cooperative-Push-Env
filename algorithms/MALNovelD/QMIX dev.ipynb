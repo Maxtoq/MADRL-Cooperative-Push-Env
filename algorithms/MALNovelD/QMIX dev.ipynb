{
 "cells": [
  {
   "cell_type": "code",
   "execution_count": 3,
   "id": "e9eb8ed0",
   "metadata": {},
   "outputs": [],
   "source": [
    "from offpolicy.algorithms.qmix.qmix import QMix"
   ]
  },
  {
   "cell_type": "code",
   "execution_count": 2,
   "id": "5ddd5220",
   "metadata": {},
   "outputs": [
    {
     "data": {
      "text/plain": [
       "array([0., 1., 0.])"
      ]
     },
     "execution_count": 2,
     "metadata": {},
     "output_type": "execute_result"
    }
   ],
   "source": [
    "import numpy as np\n",
    "np.eye(3)[1]"
   ]
  },
  {
   "cell_type": "code",
   "execution_count": null,
   "id": "76076b0d",
   "metadata": {},
   "outputs": [],
   "source": []
  }
 ],
 "metadata": {
  "kernelspec": {
   "display_name": "Python 3",
   "language": "python",
   "name": "python3"
  },
  "language_info": {
   "codemirror_mode": {
    "name": "ipython",
    "version": 3
   },
   "file_extension": ".py",
   "mimetype": "text/x-python",
   "name": "python",
   "nbconvert_exporter": "python",
   "pygments_lexer": "ipython3",
   "version": "3.8.10"
  }
 },
 "nbformat": 4,
 "nbformat_minor": 5
}
