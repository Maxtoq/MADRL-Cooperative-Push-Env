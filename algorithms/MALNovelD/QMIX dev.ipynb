{
 "cells": [
  {
   "cell_type": "code",
   "execution_count": 3,
   "id": "5e7e4071",
   "metadata": {},
   "outputs": [],
   "source": [
    "from offpolicy.algorithms.qmix.qmix import QMix"
   ]
  },
  {
   "cell_type": "code",
   "execution_count": 50,
   "id": "7b078996",
   "metadata": {},
   "outputs": [
    {
     "name": "stdout",
     "output_type": "stream",
     "text": [
      "tensor([[1., 1., 1.],\n",
      "        [1., 1., 1.],\n",
      "        [1., 1., 1.],\n",
      "        [1., 1., 1.],\n",
      "        [1., 1., 1.],\n",
      "        [1., 1., 1.]])\n",
      "tensor([1, 0, 2, 1, 1, 1])\n"
     ]
    }
   ],
   "source": [
    "import torch\n",
    "from torch.distributions import Categorical\n",
    "\n",
    "l = torch.ones(6, 3)\n",
    "print(l)\n",
    "r = Categorical(logits=l).sample()\n",
    "print(r)\n"
   ]
  },
  {
   "cell_type": "code",
   "execution_count": 31,
   "id": "17792565",
   "metadata": {},
   "outputs": [
    {
     "data": {
      "text/plain": [
       "array([[[0.],\n",
       "        [0.],\n",
       "        [0.]],\n",
       "\n",
       "       [[0.],\n",
       "        [0.],\n",
       "        [0.]],\n",
       "\n",
       "       [[0.],\n",
       "        [0.],\n",
       "        [0.]],\n",
       "\n",
       "       [[0.],\n",
       "        [0.],\n",
       "        [0.]],\n",
       "\n",
       "       [[0.],\n",
       "        [0.],\n",
       "        [0.]],\n",
       "\n",
       "       [[0.],\n",
       "        [0.],\n",
       "        [0.]],\n",
       "\n",
       "       [[0.],\n",
       "        [0.],\n",
       "        [0.]],\n",
       "\n",
       "       [[0.],\n",
       "        [0.],\n",
       "        [0.]],\n",
       "\n",
       "       [[0.],\n",
       "        [0.],\n",
       "        [0.]],\n",
       "\n",
       "       [[0.],\n",
       "        [0.],\n",
       "        [0.]]])"
      ]
     },
     "execution_count": 31,
     "metadata": {},
     "output_type": "execute_result"
    }
   ],
   "source": [
    "import numpy as np\n",
    "\n",
    "b = np.zeros((10, 3, 1))\n",
    "b"
   ]
  },
  {
   "cell_type": "code",
   "execution_count": 32,
   "id": "ec56b8a9",
   "metadata": {},
   "outputs": [
    {
     "data": {
      "text/plain": [
       "array([[[1.]],\n",
       "\n",
       "       [[1.]],\n",
       "\n",
       "       [[1.]],\n",
       "\n",
       "       [[1.]],\n",
       "\n",
       "       [[1.]],\n",
       "\n",
       "       [[1.]],\n",
       "\n",
       "       [[1.]],\n",
       "\n",
       "       [[1.]],\n",
       "\n",
       "       [[1.]],\n",
       "\n",
       "       [[1.]]])"
      ]
     },
     "execution_count": 32,
     "metadata": {},
     "output_type": "execute_result"
    }
   ],
   "source": [
    "a = np.ones((10, 1, 1))\n",
    "a"
   ]
  },
  {
   "cell_type": "code",
   "execution_count": null,
   "id": "0c2644de",
   "metadata": {},
   "outputs": [],
   "source": [
    "a[0,]"
   ]
  },
  {
   "cell_type": "code",
   "execution_count": null,
   "id": "d8e48409",
   "metadata": {},
   "outputs": [],
   "source": [
    "b[:,0:1,:] = a\n",
    "b"
   ]
  },
  {
   "cell_type": "code",
   "execution_count": 69,
   "id": "82fc52bc",
   "metadata": {},
   "outputs": [
    {
     "data": {
      "text/plain": [
       "tensor([[1, 0, 2, 1, 1, 1],\n",
       "        [1, 0, 2, 1, 1, 1]])"
      ]
     },
     "execution_count": 69,
     "metadata": {},
     "output_type": "execute_result"
    }
   ],
   "source": [
    "torch.vstack((r,r))"
   ]
  },
  {
   "cell_type": "code",
   "execution_count": 16,
   "id": "a2e17a5a",
   "metadata": {},
   "outputs": [
    {
     "data": {
      "text/plain": [
       "[array([0., 0., 0., 0., 0.]), array([0., 0., 0., 0., 0.])]"
      ]
     },
     "execution_count": 16,
     "metadata": {},
     "output_type": "execute_result"
    }
   ],
   "source": [
    "a = [np.zeros(5)] * 2\n",
    "a"
   ]
  },
  {
   "cell_type": "code",
   "execution_count": 17,
   "id": "aa33a92e",
   "metadata": {},
   "outputs": [
    {
     "data": {
      "text/plain": [
       "array([[0., 0., 0., 0., 0.],\n",
       "       [0., 0., 0., 0., 0.]])"
      ]
     },
     "execution_count": 17,
     "metadata": {},
     "output_type": "execute_result"
    }
   ],
   "source": [
    "np.stack(a)"
   ]
  },
  {
   "cell_type": "code",
   "execution_count": 27,
   "id": "f557b76a",
   "metadata": {},
   "outputs": [
    {
     "data": {
      "text/plain": [
       "[array([0, 1, 2, 3, 4]), array([0, 1, 2, 3, 4])]"
      ]
     },
     "execution_count": 27,
     "metadata": {},
     "output_type": "execute_result"
    }
   ],
   "source": [
    "a = [np.arange(5)] * 2\n",
    "a"
   ]
  },
  {
   "cell_type": "code",
   "execution_count": 30,
   "id": "6f460c68",
   "metadata": {},
   "outputs": [
    {
     "data": {
      "text/plain": [
       "array([[0, 1, 2, 3, 4, 0, 1, 2, 3, 4],\n",
       "       [0, 1, 2, 3, 4, 0, 1, 2, 3, 4]])"
      ]
     },
     "execution_count": 30,
     "metadata": {},
     "output_type": "execute_result"
    }
   ],
   "source": [
    "np.tile(np.concatenate(a), (2,1))"
   ]
  },
  {
   "cell_type": "code",
   "execution_count": 34,
   "id": "59633d3f",
   "metadata": {},
   "outputs": [
    {
     "data": {
      "text/plain": [
       "array([[1],\n",
       "       [2]])"
      ]
     },
     "execution_count": 34,
     "metadata": {},
     "output_type": "execute_result"
    }
   ],
   "source": [
    "np.vstack([1, 2])"
   ]
  },
  {
   "cell_type": "code",
   "execution_count": 2,
   "id": "dc366ed0",
   "metadata": {},
   "outputs": [
    {
     "data": {
      "text/plain": [
       "torch.Size([23, 43])"
      ]
     },
     "execution_count": 2,
     "metadata": {},
     "output_type": "execute_result"
    }
   ],
   "source": [
    "import torch\n",
    "a = torch.zeros((10, 23, 43))\n",
    "a[0].shape"
   ]
  },
  {
   "cell_type": "code",
   "execution_count": 39,
   "id": "093ad35a",
   "metadata": {},
   "outputs": [
    {
     "data": {
      "text/plain": [
       "tensor([[0., 0., 0., 0., 0.],\n",
       "        [0., 0., 0., 0., 0.]])"
      ]
     },
     "execution_count": 39,
     "metadata": {},
     "output_type": "execute_result"
    }
   ],
   "source": [
    "torch.cat([torch.zeros(1,5), torch.zeros(1, 5)])"
   ]
  },
  {
   "cell_type": "code",
   "execution_count": 9,
   "id": "676d749b",
   "metadata": {},
   "outputs": [
    {
     "data": {
      "text/plain": [
       "tensor([[0., 0., 0., 0., 0., 0., 0., 0., 0., 0.]])"
      ]
     },
     "execution_count": 9,
     "metadata": {},
     "output_type": "execute_result"
    }
   ],
   "source": [
    "import numpy as np\n",
    "a = [np.zeros((1,5)), np.zeros((1, 5))]\n",
    "torch.Tensor(np.concatenate(a, axis=1))"
   ]
  },
  {
   "cell_type": "code",
   "execution_count": 2,
   "id": "340b3b28",
   "metadata": {},
   "outputs": [
    {
     "name": "stdout",
     "output_type": "stream",
     "text": [
      "1 224.0\n",
      "2 250.88\n",
      "3 280.9856\n",
      "4 314.703872\n",
      "5 352.46833663999996\n",
      "6 394.76453703679994\n",
      "7 442.1362814812159\n",
      "8 495.19263525896184\n",
      "9 554.6157514900373\n",
      "10 621.1696416688417\n",
      "11 695.7099986691027\n",
      "12 779.195198509395\n",
      "13 872.6986223305224\n",
      "14 977.4224570101851\n",
      "15 1094.7131518514072\n",
      "16 1160.3959409624917\n",
      "17 1230.0196974202413\n",
      "18 1303.8208792654557\n",
      "19 1382.050132021383\n",
      "20 1464.973139942666\n",
      "21 1552.871528339226\n",
      "22 1646.0438200395795\n",
      "23 1744.8064492419542\n",
      "24 1849.4948361964714\n",
      "25 1960.4645263682596\n",
      "26 2078.092397950355\n",
      "27 2202.7779418273763\n",
      "28 2334.9446183370187\n",
      "29 2475.04129543724\n",
      "30 2623.5437731634743\n",
      "31 2780.9563995532826\n",
      "32 2947.8137835264797\n",
      "33 3124.6826105380683\n",
      "34 3312.1635671703525\n",
      "35 3510.8933812005735\n",
      "36 3721.5469840726078\n",
      "37 3944.839803116964\n",
      "38 4181.530191303982\n",
      "39 4432.422002782221\n",
      "40 4698.367322949154\n",
      "41 4980.269362326104\n",
      "42 5279.08552406567\n",
      "43 5279.08552406567\n",
      "44 5279.08552406567\n",
      "45 5279.08552406567\n",
      "46 5279.08552406567\n",
      "47 5279.08552406567\n",
      "48 5279.08552406567\n",
      "49 5279.08552406567\n",
      "50 5279.08552406567\n"
     ]
    }
   ],
   "source": [
    "m = 200\n",
    "\n",
    "for i in range(50):\n",
    "    if m<1000:\n",
    "        m += m * 0.12\n",
    "    elif m<5000:\n",
    "        m += m * 0.06\n",
    "    \n",
    "    print(i + 1, m)\n",
    "    "
   ]
  },
  {
   "cell_type": "code",
   "execution_count": null,
   "id": "65a06a43",
   "metadata": {},
   "outputs": [],
   "source": []
  }
 ],
 "metadata": {
  "kernelspec": {
   "display_name": "Python 3",
   "language": "python",
   "name": "python3"
  },
  "language_info": {
   "codemirror_mode": {
    "name": "ipython",
    "version": 3
   },
   "file_extension": ".py",
   "mimetype": "text/x-python",
   "name": "python",
   "nbconvert_exporter": "python",
   "pygments_lexer": "ipython3",
   "version": "3.8.10"
  }
 },
 "nbformat": 4,
 "nbformat_minor": 5
}
