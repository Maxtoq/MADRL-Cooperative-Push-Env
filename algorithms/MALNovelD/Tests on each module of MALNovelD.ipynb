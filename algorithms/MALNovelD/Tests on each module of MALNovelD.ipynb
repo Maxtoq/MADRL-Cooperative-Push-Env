{
 "cells": [
  {
   "cell_type": "markdown",
   "id": "71dfa49a",
   "metadata": {},
   "source": [
    "# LNovelD"
   ]
  },
  {
   "cell_type": "code",
   "execution_count": 17,
   "id": "dc9d0287",
   "metadata": {},
   "outputs": [],
   "source": [
    "from model.modules.lnoveld import LNovelD\n",
    "\n",
    "m = LNovelD(2, 2, 5)"
   ]
  },
  {
   "cell_type": "code",
   "execution_count": 18,
   "id": "4419e6d4",
   "metadata": {},
   "outputs": [
    {
     "data": {
      "text/plain": [
       "LNovelD(\n",
       "  (obs_noveld): NovelD(\n",
       "    (target): MLPNetwork(\n",
       "      (mlp): Sequential(\n",
       "        (0): Linear(in_features=2, out_features=64, bias=True)\n",
       "        (1): ReLU()\n",
       "        (2): Sequential(\n",
       "          (0): Linear(in_features=64, out_features=64, bias=True)\n",
       "          (1): ReLU()\n",
       "        )\n",
       "        (3): Sequential(\n",
       "          (0): Linear(in_features=64, out_features=64, bias=True)\n",
       "          (1): ReLU()\n",
       "        )\n",
       "        (4): Sequential(\n",
       "          (0): Linear(in_features=64, out_features=64, bias=True)\n",
       "          (1): ReLU()\n",
       "        )\n",
       "        (5): Linear(in_features=64, out_features=5, bias=True)\n",
       "      )\n",
       "    )\n",
       "    (predictor): MLPNetwork(\n",
       "      (mlp): Sequential(\n",
       "        (0): Linear(in_features=2, out_features=64, bias=True)\n",
       "        (1): ReLU()\n",
       "        (2): Sequential(\n",
       "          (0): Linear(in_features=64, out_features=64, bias=True)\n",
       "          (1): ReLU()\n",
       "        )\n",
       "        (3): Sequential(\n",
       "          (0): Linear(in_features=64, out_features=64, bias=True)\n",
       "          (1): ReLU()\n",
       "        )\n",
       "        (4): Sequential(\n",
       "          (0): Linear(in_features=64, out_features=64, bias=True)\n",
       "          (1): ReLU()\n",
       "        )\n",
       "        (5): Linear(in_features=64, out_features=5, bias=True)\n",
       "      )\n",
       "    )\n",
       "  )\n",
       "  (lang_noveld): NovelD(\n",
       "    (target): MLPNetwork(\n",
       "      (mlp): Sequential(\n",
       "        (0): Linear(in_features=2, out_features=64, bias=True)\n",
       "        (1): ReLU()\n",
       "        (2): Sequential(\n",
       "          (0): Linear(in_features=64, out_features=64, bias=True)\n",
       "          (1): ReLU()\n",
       "        )\n",
       "        (3): Sequential(\n",
       "          (0): Linear(in_features=64, out_features=64, bias=True)\n",
       "          (1): ReLU()\n",
       "        )\n",
       "        (4): Sequential(\n",
       "          (0): Linear(in_features=64, out_features=64, bias=True)\n",
       "          (1): ReLU()\n",
       "        )\n",
       "        (5): Linear(in_features=64, out_features=5, bias=True)\n",
       "      )\n",
       "    )\n",
       "    (predictor): MLPNetwork(\n",
       "      (mlp): Sequential(\n",
       "        (0): Linear(in_features=2, out_features=64, bias=True)\n",
       "        (1): ReLU()\n",
       "        (2): Sequential(\n",
       "          (0): Linear(in_features=64, out_features=64, bias=True)\n",
       "          (1): ReLU()\n",
       "        )\n",
       "        (3): Sequential(\n",
       "          (0): Linear(in_features=64, out_features=64, bias=True)\n",
       "          (1): ReLU()\n",
       "        )\n",
       "        (4): Sequential(\n",
       "          (0): Linear(in_features=64, out_features=64, bias=True)\n",
       "          (1): ReLU()\n",
       "        )\n",
       "        (5): Linear(in_features=64, out_features=5, bias=True)\n",
       "      )\n",
       "    )\n",
       "  )\n",
       ")"
      ]
     },
     "execution_count": 18,
     "metadata": {},
     "output_type": "execute_result"
    }
   ],
   "source": [
    "m"
   ]
  },
  {
   "cell_type": "code",
   "execution_count": 5,
   "id": "52519d99",
   "metadata": {},
   "outputs": [
    {
     "name": "stdout",
     "output_type": "stream",
     "text": [
      "\n",
      "target tensor([[-1.8384,  0.9695, -3.8054, -2.1500,  3.6722]])\n",
      "pred tensor([[ 2.2023, -4.3319, -0.7381, -3.4516,  0.7183]],\n",
      "       grad_fn=<AddmmBackward0>)\n",
      "nov tensor([8.0162])\n",
      "last nov tensor([0.8016])\n",
      "comp tensor([-3.2065])\n",
      "7.615405559539795\n"
     ]
    },
    {
     "data": {
      "text/plain": [
       "7.615405559539795"
      ]
     },
     "execution_count": 5,
     "metadata": {},
     "output_type": "execute_result"
    }
   ],
   "source": [
    "obs = torch.Tensor([[10.0, 10.0]])\n",
    "m(obs, None)"
   ]
  },
  {
   "cell_type": "code",
   "execution_count": 6,
   "id": "25a8d4d3",
   "metadata": {},
   "outputs": [
    {
     "data": {
      "text/plain": [
       "{(1.0, 1.0): 1, (10.0, 10.0): 1}"
      ]
     },
     "execution_count": 6,
     "metadata": {},
     "output_type": "execute_result"
    }
   ],
   "source": [
    "m.obs_noveld.episode_states_count"
   ]
  },
  {
   "cell_type": "markdown",
   "id": "fe0e5793",
   "metadata": {},
   "source": [
    "# Encoder"
   ]
  },
  {
   "cell_type": "code",
   "execution_count": 1,
   "id": "5ef5076f",
   "metadata": {},
   "outputs": [
    {
     "data": {
      "text/plain": [
       "tensor([[[ 0.0602, -0.1766, -0.0372,  0.1486,  0.3524,  0.0492, -0.0064,\n",
       "           0.1933, -0.3469, -0.0596],\n",
       "         [ 0.1362, -0.3001,  0.0173,  0.2752,  0.3259, -0.0171,  0.0233,\n",
       "           0.0974, -0.2904, -0.0622],\n",
       "         [ 0.0602, -0.1766, -0.0372,  0.1486,  0.3524,  0.0492, -0.0064,\n",
       "           0.1933, -0.3469, -0.0596],\n",
       "         [ 0.1281, -0.2525,  0.0050,  0.2414,  0.3356,  0.0387,  0.0285,\n",
       "           0.1468, -0.3164, -0.0694],\n",
       "         [ 0.1491, -0.2382,  0.0952,  0.1408,  0.3274,  0.1251, -0.0039,\n",
       "           0.1219, -0.3603,  0.0718]]], grad_fn=<CopySlices>)"
      ]
     },
     "execution_count": 1,
     "metadata": {},
     "output_type": "execute_result"
    }
   ],
   "source": [
    "import torch\n",
    "from model.modules.lm import GRUEncoder, OneHotEncoder\n",
    "\n",
    "gru = GRUEncoder(\n",
    "    10, \n",
    "    OneHotEncoder(['South','Not','Located','West','Object','Landmark','North','Center','East']))\n",
    "\n",
    "opt = torch.optim.Adam(gru.gru.parameters(), lr=0.1)\n",
    "\n",
    "sentences = [\n",
    "    [\"Located\", \"South\"], \n",
    "    [\"Located\", \"Center\", \"Object\", \"East\"], \n",
    "    [\"Located\", \"South\"], \n",
    "    [\"Located\", \"East\", \"Object\", \"South\", \"East\"], \n",
    "    [\"Located\", \"South\", \"West\"]\n",
    "]\n",
    "sentences = [[\"<SOS>\"] + s + [\"<EOS>\"] for s in sentences]\n",
    "\n",
    "encs = gru(sentences)\n",
    "gru(sentences)\n"
   ]
  },
  {
   "cell_type": "code",
   "execution_count": 11,
   "id": "f93b6c11",
   "metadata": {},
   "outputs": [],
   "source": [
    "opt.zero_grad()\n",
    "encs.mean().backward()\n",
    "opt.step()"
   ]
  },
  {
   "cell_type": "code",
   "execution_count": 12,
   "id": "4038d2ae",
   "metadata": {},
   "outputs": [
    {
     "data": {
      "text/plain": [
       "tensor([[[-0.4974, -0.3791, -0.1940, -0.3039, -0.1669, -0.2489, -0.5031,\n",
       "          -0.1984, -0.5563, -0.0602],\n",
       "         [-0.4415, -0.3436, -0.3280, -0.3862, -0.2037, -0.2943, -0.6240,\n",
       "          -0.2357, -0.5833,  0.0067],\n",
       "         [-0.4974, -0.3791, -0.1940, -0.3039, -0.1669, -0.2489, -0.5031,\n",
       "          -0.1984, -0.5563, -0.0602],\n",
       "         [-0.4591, -0.3452, -0.3098, -0.3782, -0.2319, -0.2676, -0.6360,\n",
       "          -0.1869, -0.5940,  0.0045],\n",
       "         [-0.5177, -0.3911, -0.2654, -0.3371, -0.1657, -0.3111, -0.5693,\n",
       "          -0.2637, -0.5415, -0.0435]]], grad_fn=<CopySlices>)"
      ]
     },
     "execution_count": 12,
     "metadata": {},
     "output_type": "execute_result"
    }
   ],
   "source": [
    "gru(sentences)"
   ]
  },
  {
   "cell_type": "markdown",
   "id": "ad344c7f",
   "metadata": {},
   "source": [
    "# Decoder"
   ]
  },
  {
   "cell_type": "code",
   "execution_count": 1,
   "id": "b5dfb1f8",
   "metadata": {},
   "outputs": [
    {
     "data": {
      "text/plain": [
       "(tensor([[[-2.3735, -2.4502, -2.6180, -2.0134, -2.3471, -2.8143, -2.6677,\n",
       "           -1.8240, -2.4765, -2.5626, -2.7094]]], grad_fn=<LogSoftmaxBackward0>),\n",
       " tensor([[[ 0.6252,  0.7289,  0.8356,  0.5018,  0.7564,  0.8033,  0.7864,\n",
       "            0.7227, -0.0403,  0.5622]]], grad_fn=<StackBackward0>))"
      ]
     },
     "execution_count": 1,
     "metadata": {},
     "output_type": "execute_result"
    }
   ],
   "source": [
    "import torch\n",
    "from model.modules.lm import GRUDecoder, OneHotEncoder\n",
    "\n",
    "word_encoder = OneHotEncoder(\n",
    "    ['South','Not','Located','West','Object','Landmark','North','Center','East'])\n",
    "dec = GRUDecoder(10, word_encoder)\n",
    "\n",
    "last_hidden = torch.ones((1, 1, 10))\n",
    "last_word = torch.Tensor(word_encoder.SOS_ENC).unsqueeze(0).unsqueeze(0)\n",
    "\n",
    "dec.forward_step(last_word, last_hidden)"
   ]
  },
  {
   "cell_type": "code",
   "execution_count": 2,
   "id": "c7e744b0",
   "metadata": {
    "scrolled": true
   },
   "outputs": [
    {
     "name": "stdout",
     "output_type": "stream",
     "text": [
      "Batch # 0\n",
      "Token # 0\n",
      "torch.Size([1, 1, 11])\n",
      "tensor([[[1., 0., 0., 0., 0., 0., 0., 0., 0., 0., 0.]]])\n",
      "torch.Size([1, 1, 10])\n",
      "tensor([[[1., 1., 1., 1., 1., 1., 1., 1., 1., 1.]]])\n",
      "Token # 1\n",
      "torch.Size([1, 1, 11])\n",
      "tensor([[[0., 0., 0., 0., 1., 0., 0., 0., 0., 0., 0.]]])\n",
      "torch.Size([1, 1, 10])\n",
      "tensor([[[ 0.6252,  0.7289,  0.8356,  0.5018,  0.7564,  0.8033,  0.7864,\n",
      "           0.7227, -0.0403,  0.5622]]], grad_fn=<StackBackward0>)\n",
      "Token # 2\n",
      "torch.Size([1, 1, 11])\n",
      "tensor([[[0., 0., 0., 0., 0., 1., 0., 0., 0., 0., 0.]]])\n",
      "torch.Size([1, 1, 10])\n",
      "tensor([[[ 0.4122,  0.6449,  0.6308,  0.2169,  0.6463,  0.6911,  0.6096,\n",
      "           0.3685, -0.2815,  0.2256]]], grad_fn=<StackBackward0>)\n",
      "Token # 3\n",
      "torch.Size([1, 1, 11])\n",
      "tensor([[[0., 0., 0., 0., 0., 0., 0., 0., 0., 0., 1.]]])\n",
      "torch.Size([1, 1, 10])\n",
      "tensor([[[ 0.1948,  0.4077,  0.4849,  0.1084,  0.5570,  0.3894,  0.4387,\n",
      "           0.1903, -0.1325, -0.0323]]], grad_fn=<StackBackward0>)\n",
      "Batch # 1\n",
      "Token # 0\n",
      "torch.Size([1, 1, 11])\n",
      "tensor([[[1., 0., 0., 0., 0., 0., 0., 0., 0., 0., 0.]]])\n",
      "torch.Size([1, 1, 10])\n",
      "tensor([[[1., 1., 1., 1., 1., 1., 1., 1., 1., 1.]]])\n",
      "Token # 1\n",
      "torch.Size([1, 1, 11])\n",
      "tensor([[[0., 0., 0., 0., 1., 0., 0., 0., 0., 0., 0.]]])\n",
      "torch.Size([1, 1, 10])\n",
      "tensor([[[ 0.6252,  0.7289,  0.8356,  0.5018,  0.7564,  0.8033,  0.7864,\n",
      "           0.7227, -0.0403,  0.5622]]], grad_fn=<StackBackward0>)\n",
      "Token # 2\n",
      "torch.Size([1, 1, 11])\n",
      "tensor([[[0., 0., 0., 0., 0., 0., 0., 0., 0., 0., 1.]]])\n",
      "torch.Size([1, 1, 10])\n",
      "tensor([[[ 0.4122,  0.6449,  0.6308,  0.2169,  0.6463,  0.6911,  0.6096,\n",
      "           0.3685, -0.2815,  0.2256]]], grad_fn=<StackBackward0>)\n"
     ]
    },
    {
     "data": {
      "text/plain": [
       "([tensor([[[[-2.3735, -2.4502, -2.6180, -2.0134, -2.3471, -2.8143, -2.6677,\n",
       "             -1.8240, -2.4765, -2.5626, -2.7094]]],\n",
       "  \n",
       "  \n",
       "          [[[-2.3814, -2.4873, -2.5747, -2.1063, -2.3153, -2.6529, -2.6838,\n",
       "             -1.9245, -2.4462, -2.4562, -2.6485]]],\n",
       "  \n",
       "  \n",
       "          [[[-2.4006, -2.5280, -2.5888, -2.1507, -2.3011, -2.6244, -2.6682,\n",
       "             -2.0683, -2.2993, -2.4048, -2.5383]]],\n",
       "  \n",
       "  \n",
       "          [[[-2.4772, -2.5148, -2.5760, -2.1886, -2.3192, -2.5286, -2.5830,\n",
       "             -2.1398, -2.2926, -2.3642, -2.5180]]]], grad_fn=<StackBackward0>),\n",
       "  tensor([[[[-2.3735, -2.4502, -2.6180, -2.0134, -2.3471, -2.8143, -2.6677,\n",
       "             -1.8240, -2.4765, -2.5626, -2.7094]]],\n",
       "  \n",
       "  \n",
       "          [[[-2.3814, -2.4873, -2.5747, -2.1063, -2.3153, -2.6529, -2.6838,\n",
       "             -1.9245, -2.4462, -2.4562, -2.6485]]],\n",
       "  \n",
       "  \n",
       "          [[[-2.4689, -2.4843, -2.5507, -2.1595, -2.3206, -2.5464, -2.5999,\n",
       "             -2.0445, -2.3717, -2.4071, -2.5927]]]], grad_fn=<StackBackward0>)],\n",
       " [[], []])"
      ]
     },
     "execution_count": 2,
     "metadata": {},
     "output_type": "execute_result"
    }
   ],
   "source": [
    "context = torch.ones(2, 10)\n",
    "targets = [\n",
    "    torch.Tensor([\n",
    "        [0., 0., 0., 0., 1., 0., 0., 0., 0., 0., 0.],\n",
    "        [0., 0., 0., 0., 0., 1., 0., 0., 0., 0., 0.],\n",
    "        [0., 0., 0., 0., 0., 0., 0., 0., 0., 0., 1.],\n",
    "        [0., 1., 0., 0., 0., 0., 0., 0., 0., 0., 0.]]),\n",
    "    torch.Tensor([\n",
    "        [0., 0., 0., 0., 1., 0., 0., 0., 0., 0., 0.],\n",
    "        [0., 0., 0., 0., 0., 0., 0., 0., 0., 0., 1.],\n",
    "        [0., 1., 0., 0., 0., 0., 0., 0., 0., 0., 0.]])\n",
    "]\n",
    "\n",
    "dec(context, targets)"
   ]
  },
  {
   "cell_type": "markdown",
   "id": "cd7db7d9",
   "metadata": {},
   "source": [
    "# Train Encoder-Decoder\n",
    "\n",
    "Load sentences"
   ]
  },
  {
   "cell_type": "code",
   "execution_count": 1,
   "id": "08cb10a5",
   "metadata": {},
   "outputs": [],
   "source": [
    "import json\n",
    "\n",
    "def load_sentences(data_path):\n",
    "    with open(data_path, \"r\") as f:\n",
    "        data = json.load(f)\n",
    "    sentences = []\n",
    "    for step, s_data in data.items():\n",
    "        if not step.startswith(\"Step\"):\n",
    "            continue\n",
    "        sentences.append(s_data[\"Agent_0\"][\"Sentence\"][1:-1])\n",
    "        sentences.append(s_data[\"Agent_1\"][\"Sentence\"][1:-1])\n",
    "    return sentences\n",
    "sentences = load_sentences(\"test_data/Sentences_Generated_P1.json\")"
   ]
  },
  {
   "cell_type": "markdown",
   "id": "98d23934",
   "metadata": {},
   "source": [
    "Initialise Encoder and Decoder"
   ]
  },
  {
   "cell_type": "code",
   "execution_count": 2,
   "id": "15c58c83",
   "metadata": {},
   "outputs": [],
   "source": [
    "import torch\n",
    "from model.modules.lm import GRUEncoder, GRUDecoder, OneHotEncoder\n",
    "\n",
    "word_encoder = OneHotEncoder(\n",
    "    ['South','Not','Located','West','Object','Landmark','North','Center','East'])\n",
    "\n",
    "enc = GRUEncoder(32, word_encoder)\n",
    "dec = GRUDecoder(32, word_encoder)"
   ]
  },
  {
   "cell_type": "markdown",
   "id": "d9bc9e0e",
   "metadata": {},
   "source": [
    "Initialise Loss and Optimizer"
   ]
  },
  {
   "cell_type": "code",
   "execution_count": 3,
   "id": "952b919e",
   "metadata": {},
   "outputs": [],
   "source": [
    "from torch import nn, optim\n",
    "\n",
    "criterion = nn.NLLLoss()\n",
    "optim = optim.SGD(list(enc.parameters()) + list(dec.parameters()), lr=0.001)"
   ]
  },
  {
   "cell_type": "markdown",
   "id": "9db73a85",
   "metadata": {},
   "source": [
    "Train"
   ]
  },
  {
   "cell_type": "code",
   "execution_count": 6,
   "id": "f2d57048",
   "metadata": {
    "scrolled": false
   },
   "outputs": [
    {
     "name": "stderr",
     "output_type": "stream",
     "text": [
      "100%|██████████████████████████████████████████████████████████████| 20000/20000 [45:00<00:00,  7.41it/s]\n"
     ]
    }
   ],
   "source": [
    "import time\n",
    "import random\n",
    "from tqdm import tqdm \n",
    "\n",
    "def train(sentences, enc, dec, word_encoder, criterion, optim, n_iters=20000, batch_size=64):\n",
    "    start = time.time()\n",
    "    \n",
    "    plot_losses = []\n",
    "    \n",
    "    for s_i in tqdm(range(n_iters)):\n",
    "        optim.zero_grad()\n",
    "        \n",
    "        loss = 0\n",
    "        \n",
    "        # Sample batch\n",
    "        batch = random.sample(sentences, batch_size)\n",
    "        \n",
    "        # Encoder forward pass\n",
    "        enc_hidden_state = enc(batch)\n",
    "        \n",
    "        # Decoder forward pass\n",
    "        enc_hidden_state.squeeze(0)\n",
    "        encoded_targets = word_encoder.encode_batch(batch)\n",
    "        decoder_outputs, _ = dec(enc_hidden_state.squeeze(0), encoded_targets)\n",
    "        \n",
    "        # Compute loss\n",
    "        tot_len = 0\n",
    "        for d_o, e_t in zip(decoder_outputs, encoded_targets):\n",
    "            e_t = torch.argmax(e_t, dim=1)\n",
    "            loss += criterion(d_o, e_t)\n",
    "        \n",
    "        # Backprop\n",
    "        loss.backward()\n",
    "        optim.step()\n",
    "        \n",
    "        plot_losses.append(loss.item())\n",
    "    \n",
    "    return plot_losses\n",
    "            \n",
    "plot_loss = train(sentences, enc, dec, word_encoder, criterion, optim)"
   ]
  },
  {
   "cell_type": "code",
   "execution_count": 12,
   "id": "ccc0e23f",
   "metadata": {},
   "outputs": [
    {
     "data": {
      "text/plain": [
       "[<matplotlib.lines.Line2D at 0x7f65a60a8e50>]"
      ]
     },
     "execution_count": 12,
     "metadata": {},
     "output_type": "execute_result"
    },
    {
     "data": {
      "image/png": "[encoded data removed]",
      "text/plain": [
       "<Figure size 432x288 with 1 Axes>"
      ]
     },
     "metadata": {
      "needs_background": "light"
     },
     "output_type": "display_data"
    }
   ],
   "source": [
    "import matplotlib.pyplot as plt\n",
    "\n",
    "plt.plot(plot_loss)"
   ]
  },
  {
   "cell_type": "code",
   "execution_count": 11,
   "id": "a20a56cb",
   "metadata": {},
   "outputs": [],
   "source": [
    "plot_loss = [l / 64 for l in plot_loss]"
   ]
  },
  {
   "cell_type": "markdown",
   "id": "494c3da5",
   "metadata": {},
   "source": [
    "Evaluate"
   ]
  },
  {
   "cell_type": "code",
   "execution_count": 13,
   "id": "7bd0c00d",
   "metadata": {},
   "outputs": [
    {
     "data": {
      "text/plain": [
       "[[array([0., 0., 0., 0., 1., 0., 0., 0., 0., 0., 0.]),\n",
       "  array([0., 0., 0., 0., 0., 0., 0., 0., 0., 0., 1.]),\n",
       "  array([0., 0., 0., 0., 0., 0., 0., 1., 0., 0., 0.]),\n",
       "  array([0., 0., 0., 0., 0., 1., 0., 0., 0., 0., 0.])]]"
      ]
     },
     "execution_count": 13,
     "metadata": {},
     "output_type": "execute_result"
    }
   ],
   "source": [
    "s = sentences[8]\n",
    "s_enc = enc([s])\n",
    "_, s_pred = dec(s_enc)\n",
    "s_pred"
   ]
  },
  {
   "cell_type": "code",
   "execution_count": 10,
   "id": "2305ce46",
   "metadata": {},
   "outputs": [
    {
     "data": {
      "text/plain": [
       "['Located', 'East', 'Landmark', 'West']"
      ]
     },
     "execution_count": 10,
     "metadata": {},
     "output_type": "execute_result"
    }
   ],
   "source": [
    "s"
   ]
  },
  {
   "cell_type": "code",
   "execution_count": 14,
   "id": "5c749f11",
   "metadata": {},
   "outputs": [
    {
     "data": {
      "text/plain": [
       "[['Located', 'East', 'Landmark', 'West']]"
      ]
     },
     "execution_count": 14,
     "metadata": {},
     "output_type": "execute_result"
    }
   ],
   "source": [
    "word_encoder.decode_batch(s_pred)"
   ]
  },
  {
   "cell_type": "markdown",
   "id": "d3d220d4",
   "metadata": {},
   "source": [
    "# Observation captioning\n",
    "\n",
    "Let's try to learn to generate the sentence corresponding to a given observation.\n",
    "\n",
    "The Observation Encoder will be trained to encode the observation, and the Decoder will have to predict the sentence description of the observation.\n",
    "\n",
    "*First step:* Load observation-sentence pairs."
   ]
  },
  {
   "cell_type": "code",
   "execution_count": 1,
   "id": "b103992f",
   "metadata": {},
   "outputs": [
    {
     "data": {
      "text/plain": [
       "{'observation': [0.3566717617981794,\n",
       "  0.22018956073987805,\n",
       "  0.0,\n",
       "  0.0,\n",
       "  0.0,\n",
       "  1.0,\n",
       "  1.0,\n",
       "  0.0,\n",
       "  0.0,\n",
       "  0.0,\n",
       "  1.0,\n",
       "  1.0,\n",
       "  0.0,\n",
       "  0.0,\n",
       "  1.0,\n",
       "  -0.4988445287954038,\n",
       "  -0.25249793046375035],\n",
       " 'sentence': ['Located', 'East', 'Landmark', 'South', 'West']}"
      ]
     },
     "execution_count": 1,
     "metadata": {},
     "output_type": "execute_result"
    }
   ],
   "source": [
    "import json\n",
    "\n",
    "def load_pairs(data_path):\n",
    "    with open(data_path, \"r\") as f:\n",
    "        data = json.load(f)\n",
    "    pairs = []\n",
    "    for step, s_data in data.items():\n",
    "        if not step.startswith(\"Step\"):\n",
    "            continue\n",
    "        pairs.append({\n",
    "            \"observation\": s_data[\"Agent_0\"][\"Observation\"],\n",
    "            \"sentence\": s_data[\"Agent_0\"][\"Sentence\"][1:-1]\n",
    "        })\n",
    "        pairs.append({\n",
    "            \"observation\": s_data[\"Agent_1\"][\"Observation\"],\n",
    "            \"sentence\": s_data[\"Agent_1\"][\"Sentence\"][1:-1]\n",
    "        })\n",
    "    return pairs\n",
    "\n",
    "data_pairs = load_pairs(\"test_data/Sentences_Generated_P1.json\")\n",
    "data_pairs[0]"
   ]
  },
  {
   "cell_type": "markdown",
   "id": "f3c209e2",
   "metadata": {},
   "source": [
    "Initialise the models"
   ]
  },
  {
   "cell_type": "code",
   "execution_count": 2,
   "id": "3c0479e4",
   "metadata": {},
   "outputs": [],
   "source": [
    "import torch\n",
    "from model.modules.lm import GRUDecoder, OneHotEncoder\n",
    "from model.modules.obs import ObservationEncoder\n",
    "\n",
    "word_encoder = OneHotEncoder(\n",
    "    ['South','Not','Located','West','Object','Landmark','North','Center','East'])\n",
    "\n",
    "dec = GRUDecoder(32, word_encoder)\n",
    "\n",
    "obs_enc = ObservationEncoder(17, 32)"
   ]
  },
  {
   "cell_type": "markdown",
   "id": "2246b2c5",
   "metadata": {},
   "source": [
    "Initialise loss and optimizer"
   ]
  },
  {
   "cell_type": "code",
   "execution_count": 4,
   "id": "e726a29e",
   "metadata": {},
   "outputs": [],
   "source": [
    "from torch import nn, optim\n",
    "\n",
    "criterion = nn.NLLLoss()\n",
    "optim = optim.SGD(list(dec.parameters()) + list(obs_enc.parameters()), lr=0.01)"
   ]
  },
  {
   "cell_type": "markdown",
   "id": "5d751954",
   "metadata": {},
   "source": [
    "Train"
   ]
  },
  {
   "cell_type": "code",
   "execution_count": null,
   "id": "a541746d",
   "metadata": {},
   "outputs": [
    {
     "name": "stderr",
     "output_type": "stream",
     "text": [
      " 51%|████████████████████████████████                               | 5092/10000 [10:47<09:41,  8.43it/s]"
     ]
    }
   ],
   "source": [
    "import time\n",
    "import random\n",
    "import numpy as np\n",
    "from tqdm import tqdm \n",
    "\n",
    "def train(data, obs_enc, dec, word_encoder, criterion, optim, n_iters=10000, batch_size=64):\n",
    "    start = time.time()\n",
    "    \n",
    "    plot_losses = []\n",
    "    \n",
    "    for s_i in tqdm(range(n_iters)):\n",
    "        optim.zero_grad()\n",
    "        \n",
    "        loss = 0\n",
    "        \n",
    "        # Sample batch\n",
    "        batch = random.sample(data, batch_size)\n",
    "        obs_batch = []\n",
    "        sent_batch = []\n",
    "        for pair in batch:\n",
    "            obs_batch.append(pair[\"observation\"])\n",
    "            sent_batch.append(pair[\"sentence\"])\n",
    "        \n",
    "        # Encode observations\n",
    "        obs_tensor = torch.Tensor(np.array(obs_batch))\n",
    "        context_batch = obs_enc(obs_tensor)\n",
    "        \n",
    "        # Decoder forward pass\n",
    "        encoded_targets = word_encoder.encode_batch(sent_batch)\n",
    "        decoder_outputs, _ = dec(context_batch, encoded_targets)\n",
    "        \n",
    "        # Compute loss\n",
    "        tot_len = 0\n",
    "        for d_o, e_t in zip(decoder_outputs, encoded_targets):\n",
    "            e_t = torch.argmax(e_t, dim=1)\n",
    "            loss += criterion(d_o, e_t)\n",
    "        \n",
    "        # Backprop\n",
    "        loss.backward()\n",
    "        optim.step()\n",
    "        \n",
    "        plot_losses.append(loss.item() / batch_size)\n",
    "    \n",
    "    return plot_losses\n",
    "            \n",
    "plot_loss = train(data_pairs, obs_enc, dec, word_encoder, criterion, optim)"
   ]
  },
  {
   "cell_type": "code",
   "execution_count": null,
   "id": "965eec5b",
   "metadata": {},
   "outputs": [],
   "source": [
    "import matplotlib.pyplot as plt\n",
    "\n",
    "plt.plot(plot_loss)"
   ]
  },
  {
   "cell_type": "code",
   "execution_count": null,
   "id": "2bd8895d",
   "metadata": {},
   "outputs": [],
   "source": []
  }
 ],
 "metadata": {
  "kernelspec": {
   "display_name": "Python 3",
   "language": "python",
   "name": "python3"
  },
  "language_info": {
   "codemirror_mode": {
    "name": "ipython",
    "version": 3
   },
   "file_extension": ".py",
   "mimetype": "text/x-python",
   "name": "python",
   "nbconvert_exporter": "python",
   "pygments_lexer": "ipython3",
   "version": "3.8.10"
  }
 },
 "nbformat": 4,
 "nbformat_minor": 5
}
