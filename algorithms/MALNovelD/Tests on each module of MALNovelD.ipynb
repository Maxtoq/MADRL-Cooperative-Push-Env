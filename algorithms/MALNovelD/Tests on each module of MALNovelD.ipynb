{
 "cells": [
  {
   "cell_type": "markdown",
   "id": "3abf56b7",
   "metadata": {},
   "source": [
    "# LNovelD"
   ]
  },
  {
   "cell_type": "code",
   "execution_count": 17,
   "id": "f0138662",
   "metadata": {},
   "outputs": [],
   "source": [
    "from model.modules.lnoveld import LNovelD\n",
    "\n",
    "m = LNovelD(2, 2, 5)"
   ]
  },
  {
   "cell_type": "code",
   "execution_count": 18,
   "id": "bdcc24c8",
   "metadata": {},
   "outputs": [
    {
     "data": {
      "text/plain": [
       "LNovelD(\n",
       "  (obs_noveld): NovelD(\n",
       "    (target): MLPNetwork(\n",
       "      (mlp): Sequential(\n",
       "        (0): Linear(in_features=2, out_features=64, bias=True)\n",
       "        (1): ReLU()\n",
       "        (2): Sequential(\n",
       "          (0): Linear(in_features=64, out_features=64, bias=True)\n",
       "          (1): ReLU()\n",
       "        )\n",
       "        (3): Sequential(\n",
       "          (0): Linear(in_features=64, out_features=64, bias=True)\n",
       "          (1): ReLU()\n",
       "        )\n",
       "        (4): Sequential(\n",
       "          (0): Linear(in_features=64, out_features=64, bias=True)\n",
       "          (1): ReLU()\n",
       "        )\n",
       "        (5): Linear(in_features=64, out_features=5, bias=True)\n",
       "      )\n",
       "    )\n",
       "    (predictor): MLPNetwork(\n",
       "      (mlp): Sequential(\n",
       "        (0): Linear(in_features=2, out_features=64, bias=True)\n",
       "        (1): ReLU()\n",
       "        (2): Sequential(\n",
       "          (0): Linear(in_features=64, out_features=64, bias=True)\n",
       "          (1): ReLU()\n",
       "        )\n",
       "        (3): Sequential(\n",
       "          (0): Linear(in_features=64, out_features=64, bias=True)\n",
       "          (1): ReLU()\n",
       "        )\n",
       "        (4): Sequential(\n",
       "          (0): Linear(in_features=64, out_features=64, bias=True)\n",
       "          (1): ReLU()\n",
       "        )\n",
       "        (5): Linear(in_features=64, out_features=5, bias=True)\n",
       "      )\n",
       "    )\n",
       "  )\n",
       "  (lang_noveld): NovelD(\n",
       "    (target): MLPNetwork(\n",
       "      (mlp): Sequential(\n",
       "        (0): Linear(in_features=2, out_features=64, bias=True)\n",
       "        (1): ReLU()\n",
       "        (2): Sequential(\n",
       "          (0): Linear(in_features=64, out_features=64, bias=True)\n",
       "          (1): ReLU()\n",
       "        )\n",
       "        (3): Sequential(\n",
       "          (0): Linear(in_features=64, out_features=64, bias=True)\n",
       "          (1): ReLU()\n",
       "        )\n",
       "        (4): Sequential(\n",
       "          (0): Linear(in_features=64, out_features=64, bias=True)\n",
       "          (1): ReLU()\n",
       "        )\n",
       "        (5): Linear(in_features=64, out_features=5, bias=True)\n",
       "      )\n",
       "    )\n",
       "    (predictor): MLPNetwork(\n",
       "      (mlp): Sequential(\n",
       "        (0): Linear(in_features=2, out_features=64, bias=True)\n",
       "        (1): ReLU()\n",
       "        (2): Sequential(\n",
       "          (0): Linear(in_features=64, out_features=64, bias=True)\n",
       "          (1): ReLU()\n",
       "        )\n",
       "        (3): Sequential(\n",
       "          (0): Linear(in_features=64, out_features=64, bias=True)\n",
       "          (1): ReLU()\n",
       "        )\n",
       "        (4): Sequential(\n",
       "          (0): Linear(in_features=64, out_features=64, bias=True)\n",
       "          (1): ReLU()\n",
       "        )\n",
       "        (5): Linear(in_features=64, out_features=5, bias=True)\n",
       "      )\n",
       "    )\n",
       "  )\n",
       ")"
      ]
     },
     "execution_count": 18,
     "metadata": {},
     "output_type": "execute_result"
    }
   ],
   "source": [
    "m"
   ]
  },
  {
   "cell_type": "code",
   "execution_count": 5,
   "id": "7e5b9774",
   "metadata": {},
   "outputs": [
    {
     "name": "stdout",
     "output_type": "stream",
     "text": [
      "\n",
      "target tensor([[-1.8384,  0.9695, -3.8054, -2.1500,  3.6722]])\n",
      "pred tensor([[ 2.2023, -4.3319, -0.7381, -3.4516,  0.7183]],\n",
      "       grad_fn=<AddmmBackward0>)\n",
      "nov tensor([8.0162])\n",
      "last nov tensor([0.8016])\n",
      "comp tensor([-3.2065])\n",
      "7.615405559539795\n"
     ]
    },
    {
     "data": {
      "text/plain": [
       "7.615405559539795"
      ]
     },
     "execution_count": 5,
     "metadata": {},
     "output_type": "execute_result"
    }
   ],
   "source": [
    "obs = torch.Tensor([[10.0, 10.0]])\n",
    "m(obs, None)"
   ]
  },
  {
   "cell_type": "code",
   "execution_count": 6,
   "id": "ced4f94c",
   "metadata": {},
   "outputs": [
    {
     "data": {
      "text/plain": [
       "{(1.0, 1.0): 1, (10.0, 10.0): 1}"
      ]
     },
     "execution_count": 6,
     "metadata": {},
     "output_type": "execute_result"
    }
   ],
   "source": [
    "m.obs_noveld.episode_states_count"
   ]
  },
  {
   "cell_type": "markdown",
   "id": "9450df4c",
   "metadata": {},
   "source": [
    "# Encoder"
   ]
  },
  {
   "cell_type": "code",
   "execution_count": 1,
   "id": "86b88dc5",
   "metadata": {},
   "outputs": [
    {
     "data": {
      "text/plain": [
       "tensor([[[ 0.0602, -0.1766, -0.0372,  0.1486,  0.3524,  0.0492, -0.0064,\n",
       "           0.1933, -0.3469, -0.0596],\n",
       "         [ 0.1362, -0.3001,  0.0173,  0.2752,  0.3259, -0.0171,  0.0233,\n",
       "           0.0974, -0.2904, -0.0622],\n",
       "         [ 0.0602, -0.1766, -0.0372,  0.1486,  0.3524,  0.0492, -0.0064,\n",
       "           0.1933, -0.3469, -0.0596],\n",
       "         [ 0.1281, -0.2525,  0.0050,  0.2414,  0.3356,  0.0387,  0.0285,\n",
       "           0.1468, -0.3164, -0.0694],\n",
       "         [ 0.1491, -0.2382,  0.0952,  0.1408,  0.3274,  0.1251, -0.0039,\n",
       "           0.1219, -0.3603,  0.0718]]], grad_fn=<CopySlices>)"
      ]
     },
     "execution_count": 1,
     "metadata": {},
     "output_type": "execute_result"
    }
   ],
   "source": [
    "import torch\n",
    "from model.modules.lm import GRUEncoder, OneHotEncoder\n",
    "\n",
    "gru = GRUEncoder(\n",
    "    10, \n",
    "    OneHotEncoder(['South','Not','Located','West','Object','Landmark','North','Center','East']))\n",
    "\n",
    "opt = torch.optim.Adam(gru.gru.parameters(), lr=0.1)\n",
    "\n",
    "sentences = [\n",
    "    [\"Located\", \"South\"], \n",
    "    [\"Located\", \"Center\", \"Object\", \"East\"], \n",
    "    [\"Located\", \"South\"], \n",
    "    [\"Located\", \"East\", \"Object\", \"South\", \"East\"], \n",
    "    [\"Located\", \"South\", \"West\"]\n",
    "]\n",
    "sentences = [[\"<SOS>\"] + s + [\"<EOS>\"] for s in sentences]\n",
    "\n",
    "encs = gru(sentences)\n",
    "gru(sentences)\n"
   ]
  },
  {
   "cell_type": "code",
   "execution_count": 11,
   "id": "93188b33",
   "metadata": {},
   "outputs": [],
   "source": [
    "opt.zero_grad()\n",
    "encs.mean().backward()\n",
    "opt.step()"
   ]
  },
  {
   "cell_type": "code",
   "execution_count": 12,
   "id": "06338685",
   "metadata": {},
   "outputs": [
    {
     "data": {
      "text/plain": [
       "tensor([[[-0.4974, -0.3791, -0.1940, -0.3039, -0.1669, -0.2489, -0.5031,\n",
       "          -0.1984, -0.5563, -0.0602],\n",
       "         [-0.4415, -0.3436, -0.3280, -0.3862, -0.2037, -0.2943, -0.6240,\n",
       "          -0.2357, -0.5833,  0.0067],\n",
       "         [-0.4974, -0.3791, -0.1940, -0.3039, -0.1669, -0.2489, -0.5031,\n",
       "          -0.1984, -0.5563, -0.0602],\n",
       "         [-0.4591, -0.3452, -0.3098, -0.3782, -0.2319, -0.2676, -0.6360,\n",
       "          -0.1869, -0.5940,  0.0045],\n",
       "         [-0.5177, -0.3911, -0.2654, -0.3371, -0.1657, -0.3111, -0.5693,\n",
       "          -0.2637, -0.5415, -0.0435]]], grad_fn=<CopySlices>)"
      ]
     },
     "execution_count": 12,
     "metadata": {},
     "output_type": "execute_result"
    }
   ],
   "source": [
    "gru(sentences)"
   ]
  },
  {
   "cell_type": "markdown",
   "id": "a05c8e17",
   "metadata": {},
   "source": [
    "# Decoder"
   ]
  },
  {
   "cell_type": "code",
   "execution_count": 1,
   "id": "f7295d2b",
   "metadata": {},
   "outputs": [
    {
     "data": {
      "text/plain": [
       "(tensor([[[-2.3735, -2.4502, -2.6180, -2.0134, -2.3471, -2.8143, -2.6677,\n",
       "           -1.8240, -2.4765, -2.5626, -2.7094]]], grad_fn=<LogSoftmaxBackward0>),\n",
       " tensor([[[ 0.6252,  0.7289,  0.8356,  0.5018,  0.7564,  0.8033,  0.7864,\n",
       "            0.7227, -0.0403,  0.5622]]], grad_fn=<StackBackward0>))"
      ]
     },
     "execution_count": 1,
     "metadata": {},
     "output_type": "execute_result"
    }
   ],
   "source": [
    "import torch\n",
    "from model.modules.lm import GRUDecoder, OneHotEncoder\n",
    "\n",
    "word_encoder = OneHotEncoder(\n",
    "    ['South','Not','Located','West','Object','Landmark','North','Center','East'])\n",
    "dec = GRUDecoder(10, word_encoder)\n",
    "\n",
    "last_hidden = torch.ones((1, 1, 10))\n",
    "last_word = torch.Tensor(word_encoder.SOS_ENC).unsqueeze(0).unsqueeze(0)\n",
    "\n",
    "dec.forward_step(last_word, last_hidden)"
   ]
  },
  {
   "cell_type": "code",
   "execution_count": 2,
   "id": "bf6d7087",
   "metadata": {
    "scrolled": true
   },
   "outputs": [
    {
     "name": "stdout",
     "output_type": "stream",
     "text": [
      "Batch # 0\n",
      "Token # 0\n",
      "torch.Size([1, 1, 11])\n",
      "tensor([[[1., 0., 0., 0., 0., 0., 0., 0., 0., 0., 0.]]])\n",
      "torch.Size([1, 1, 10])\n",
      "tensor([[[1., 1., 1., 1., 1., 1., 1., 1., 1., 1.]]])\n",
      "Token # 1\n",
      "torch.Size([1, 1, 11])\n",
      "tensor([[[0., 0., 0., 0., 1., 0., 0., 0., 0., 0., 0.]]])\n",
      "torch.Size([1, 1, 10])\n",
      "tensor([[[ 0.6252,  0.7289,  0.8356,  0.5018,  0.7564,  0.8033,  0.7864,\n",
      "           0.7227, -0.0403,  0.5622]]], grad_fn=<StackBackward0>)\n",
      "Token # 2\n",
      "torch.Size([1, 1, 11])\n",
      "tensor([[[0., 0., 0., 0., 0., 1., 0., 0., 0., 0., 0.]]])\n",
      "torch.Size([1, 1, 10])\n",
      "tensor([[[ 0.4122,  0.6449,  0.6308,  0.2169,  0.6463,  0.6911,  0.6096,\n",
      "           0.3685, -0.2815,  0.2256]]], grad_fn=<StackBackward0>)\n",
      "Token # 3\n",
      "torch.Size([1, 1, 11])\n",
      "tensor([[[0., 0., 0., 0., 0., 0., 0., 0., 0., 0., 1.]]])\n",
      "torch.Size([1, 1, 10])\n",
      "tensor([[[ 0.1948,  0.4077,  0.4849,  0.1084,  0.5570,  0.3894,  0.4387,\n",
      "           0.1903, -0.1325, -0.0323]]], grad_fn=<StackBackward0>)\n",
      "Batch # 1\n",
      "Token # 0\n",
      "torch.Size([1, 1, 11])\n",
      "tensor([[[1., 0., 0., 0., 0., 0., 0., 0., 0., 0., 0.]]])\n",
      "torch.Size([1, 1, 10])\n",
      "tensor([[[1., 1., 1., 1., 1., 1., 1., 1., 1., 1.]]])\n",
      "Token # 1\n",
      "torch.Size([1, 1, 11])\n",
      "tensor([[[0., 0., 0., 0., 1., 0., 0., 0., 0., 0., 0.]]])\n",
      "torch.Size([1, 1, 10])\n",
      "tensor([[[ 0.6252,  0.7289,  0.8356,  0.5018,  0.7564,  0.8033,  0.7864,\n",
      "           0.7227, -0.0403,  0.5622]]], grad_fn=<StackBackward0>)\n",
      "Token # 2\n",
      "torch.Size([1, 1, 11])\n",
      "tensor([[[0., 0., 0., 0., 0., 0., 0., 0., 0., 0., 1.]]])\n",
      "torch.Size([1, 1, 10])\n",
      "tensor([[[ 0.4122,  0.6449,  0.6308,  0.2169,  0.6463,  0.6911,  0.6096,\n",
      "           0.3685, -0.2815,  0.2256]]], grad_fn=<StackBackward0>)\n"
     ]
    },
    {
     "data": {
      "text/plain": [
       "([tensor([[[[-2.3735, -2.4502, -2.6180, -2.0134, -2.3471, -2.8143, -2.6677,\n",
       "             -1.8240, -2.4765, -2.5626, -2.7094]]],\n",
       "  \n",
       "  \n",
       "          [[[-2.3814, -2.4873, -2.5747, -2.1063, -2.3153, -2.6529, -2.6838,\n",
       "             -1.9245, -2.4462, -2.4562, -2.6485]]],\n",
       "  \n",
       "  \n",
       "          [[[-2.4006, -2.5280, -2.5888, -2.1507, -2.3011, -2.6244, -2.6682,\n",
       "             -2.0683, -2.2993, -2.4048, -2.5383]]],\n",
       "  \n",
       "  \n",
       "          [[[-2.4772, -2.5148, -2.5760, -2.1886, -2.3192, -2.5286, -2.5830,\n",
       "             -2.1398, -2.2926, -2.3642, -2.5180]]]], grad_fn=<StackBackward0>),\n",
       "  tensor([[[[-2.3735, -2.4502, -2.6180, -2.0134, -2.3471, -2.8143, -2.6677,\n",
       "             -1.8240, -2.4765, -2.5626, -2.7094]]],\n",
       "  \n",
       "  \n",
       "          [[[-2.3814, -2.4873, -2.5747, -2.1063, -2.3153, -2.6529, -2.6838,\n",
       "             -1.9245, -2.4462, -2.4562, -2.6485]]],\n",
       "  \n",
       "  \n",
       "          [[[-2.4689, -2.4843, -2.5507, -2.1595, -2.3206, -2.5464, -2.5999,\n",
       "             -2.0445, -2.3717, -2.4071, -2.5927]]]], grad_fn=<StackBackward0>)],\n",
       " [[], []])"
      ]
     },
     "execution_count": 2,
     "metadata": {},
     "output_type": "execute_result"
    }
   ],
   "source": [
    "context = torch.ones(2, 10)\n",
    "targets = [\n",
    "    torch.Tensor([\n",
    "        [0., 0., 0., 0., 1., 0., 0., 0., 0., 0., 0.],\n",
    "        [0., 0., 0., 0., 0., 1., 0., 0., 0., 0., 0.],\n",
    "        [0., 0., 0., 0., 0., 0., 0., 0., 0., 0., 1.],\n",
    "        [0., 1., 0., 0., 0., 0., 0., 0., 0., 0., 0.]]),\n",
    "    torch.Tensor([\n",
    "        [0., 0., 0., 0., 1., 0., 0., 0., 0., 0., 0.],\n",
    "        [0., 0., 0., 0., 0., 0., 0., 0., 0., 0., 1.],\n",
    "        [0., 1., 0., 0., 0., 0., 0., 0., 0., 0., 0.]])\n",
    "]\n",
    "\n",
    "dec(context, targets)"
   ]
  },
  {
   "cell_type": "markdown",
   "id": "5a340d70",
   "metadata": {},
   "source": [
    "# Train Encoder-Decoder\n",
    "\n",
    "Load sentences"
   ]
  },
  {
   "cell_type": "code",
   "execution_count": 1,
   "id": "35659352",
   "metadata": {},
   "outputs": [],
   "source": [
    "import json\n",
    "\n",
    "def load_sentences(data_path):\n",
    "    with open(data_path, \"r\") as f:\n",
    "        data = json.load(f)\n",
    "    sentences = []\n",
    "    for step, s_data in data.items():\n",
    "        if not step.startswith(\"Step\"):\n",
    "            continue\n",
    "        sentences.append(s_data[\"Agent_0\"][\"Sentence\"][1:-1])\n",
    "        sentences.append(s_data[\"Agent_1\"][\"Sentence\"][1:-1])\n",
    "    return sentences\n",
    "sentences = load_sentences(\"test_data/Sentences_Generated_P1.json\")"
   ]
  },
  {
   "cell_type": "markdown",
   "id": "42ee4624",
   "metadata": {},
   "source": [
    "Initialise Encoder and Decoder"
   ]
  },
  {
   "cell_type": "code",
   "execution_count": 2,
   "id": "a4323bf6",
   "metadata": {},
   "outputs": [],
   "source": [
    "import torch\n",
    "from model.modules.lm import GRUEncoder, GRUDecoder, OneHotEncoder\n",
    "\n",
    "word_encoder = OneHotEncoder(\n",
    "    ['South','Not','Located','West','Object','Landmark','North','Center','East'])\n",
    "\n",
    "enc = GRUEncoder(32, word_encoder)\n",
    "dec = GRUDecoder(32, word_encoder)"
   ]
  },
  {
   "cell_type": "markdown",
   "id": "c4d2551b",
   "metadata": {},
   "source": [
    "Initialise Loss and Optimizer"
   ]
  },
  {
   "cell_type": "code",
   "execution_count": 3,
   "id": "77a7b0c2",
   "metadata": {},
   "outputs": [],
   "source": [
    "from torch import nn, optim\n",
    "\n",
    "criterion = nn.NLLLoss()\n",
    "optim = optim.SGD(list(enc.parameters()) + list(dec.parameters()), lr=0.001)"
   ]
  },
  {
   "cell_type": "markdown",
   "id": "a2083040",
   "metadata": {},
   "source": [
    "Train"
   ]
  },
  {
   "cell_type": "code",
   "execution_count": 6,
   "id": "d9dcb728",
   "metadata": {
    "scrolled": false
   },
   "outputs": [
    {
     "name": "stderr",
     "output_type": "stream",
     "text": [
      "100%|██████████████████████████████████████████████████████████████| 20000/20000 [45:00<00:00,  7.41it/s]\n"
     ]
    }
   ],
   "source": [
    "import time\n",
    "import random\n",
    "from tqdm import tqdm \n",
    "\n",
    "def train(sentences, enc, dec, word_encoder, criterion, optim, n_iters=20000, batch_size=64):\n",
    "    start = time.time()\n",
    "    \n",
    "    plot_losses = []\n",
    "    \n",
    "    for s_i in tqdm(range(n_iters)):\n",
    "        optim.zero_grad()\n",
    "        \n",
    "        loss = 0\n",
    "        \n",
    "        # Sample batch\n",
    "        batch = random.sample(sentences, batch_size)\n",
    "        \n",
    "        # Encoder forward pass\n",
    "        enc_hidden_state = enc(batch)\n",
    "        \n",
    "        # Decoder forward pass\n",
    "        enc_hidden_state.squeeze(0)\n",
    "        encoded_targets = word_encoder.encode_batch(batch)\n",
    "        decoder_outputs, _ = dec(enc_hidden_state.squeeze(0), encoded_targets)\n",
    "        \n",
    "        # Compute loss\n",
    "        tot_len = 0\n",
    "        for d_o, e_t in zip(decoder_outputs, encoded_targets):\n",
    "            e_t = torch.argmax(e_t, dim=1)\n",
    "            loss += criterion(d_o, e_t)\n",
    "        \n",
    "        # Backprop\n",
    "        loss.backward()\n",
    "        optim.step()\n",
    "        \n",
    "        plot_losses.append(loss.item())\n",
    "    \n",
    "    return plot_losses\n",
    "            \n",
    "plot_loss = train(sentences, enc, dec, word_encoder, criterion, optim)"
   ]
  },
  {
   "cell_type": "code",
   "execution_count": 12,
   "id": "1a0bbd08",
   "metadata": {},
   "outputs": [
    {
     "data": {
      "text/plain": [
       "[<matplotlib.lines.Line2D at 0x7f65a60a8e50>]"
      ]
     },
     "execution_count": 12,
     "metadata": {},
     "output_type": "execute_result"
    },
    {
     "data": {
      "image/png": "[encoded data removed]",
      "text/plain": [
       "<Figure size 432x288 with 1 Axes>"
      ]
     },
     "metadata": {
      "needs_background": "light"
     },
     "output_type": "display_data"
    }
   ],
   "source": [
    "import matplotlib.pyplot as plt\n",
    "\n",
    "plt.plot(plot_loss)"
   ]
  },
  {
   "cell_type": "code",
   "execution_count": 11,
   "id": "bc817c35",
   "metadata": {},
   "outputs": [],
   "source": [
    "plot_loss = [l / 64 for l in plot_loss]"
   ]
  },
  {
   "cell_type": "markdown",
   "id": "2eb2533d",
   "metadata": {},
   "source": [
    "Evaluate"
   ]
  },
  {
   "cell_type": "code",
   "execution_count": 13,
   "id": "4a3759da",
   "metadata": {},
   "outputs": [
    {
     "data": {
      "text/plain": [
       "[[array([0., 0., 0., 0., 1., 0., 0., 0., 0., 0., 0.]),\n",
       "  array([0., 0., 0., 0., 0., 0., 0., 0., 0., 0., 1.]),\n",
       "  array([0., 0., 0., 0., 0., 0., 0., 1., 0., 0., 0.]),\n",
       "  array([0., 0., 0., 0., 0., 1., 0., 0., 0., 0., 0.])]]"
      ]
     },
     "execution_count": 13,
     "metadata": {},
     "output_type": "execute_result"
    }
   ],
   "source": [
    "s = sentences[8]\n",
    "s_enc = enc([s])\n",
    "_, s_pred = dec(s_enc)\n",
    "s_pred"
   ]
  },
  {
   "cell_type": "code",
   "execution_count": 10,
   "id": "cd32a0e1",
   "metadata": {},
   "outputs": [
    {
     "data": {
      "text/plain": [
       "['Located', 'East', 'Landmark', 'West']"
      ]
     },
     "execution_count": 10,
     "metadata": {},
     "output_type": "execute_result"
    }
   ],
   "source": [
    "s"
   ]
  },
  {
   "cell_type": "code",
   "execution_count": 14,
   "id": "07ba0282",
   "metadata": {},
   "outputs": [
    {
     "data": {
      "text/plain": [
       "[['Located', 'East', 'Landmark', 'West']]"
      ]
     },
     "execution_count": 14,
     "metadata": {},
     "output_type": "execute_result"
    }
   ],
   "source": [
    "word_encoder.decode_batch(s_pred)"
   ]
  },
  {
   "cell_type": "markdown",
   "id": "ee68b4b8",
   "metadata": {},
   "source": [
    "# Observation captioning\n",
    "\n",
    "Let's try to learn to generate the sentence corresponding to a given observation.\n",
    "\n",
    "The Observation Encoder will be trained to encode the observation, and the Decoder will have to predict the sentence description of the observation.\n",
    "\n",
    "Load observation-sentence pairs."
   ]
  },
  {
   "cell_type": "code",
   "execution_count": 30,
   "id": "a2af4048",
   "metadata": {},
   "outputs": [
    {
     "data": {
      "text/plain": [
       "{'observation': [0.3566717617981794,\n",
       "  0.22018956073987805,\n",
       "  0.0,\n",
       "  0.0,\n",
       "  0.0,\n",
       "  1.0,\n",
       "  1.0,\n",
       "  0.0,\n",
       "  0.0,\n",
       "  0.0,\n",
       "  1.0,\n",
       "  1.0,\n",
       "  0.0,\n",
       "  0.0,\n",
       "  1.0,\n",
       "  -0.4988445287954038,\n",
       "  -0.25249793046375035],\n",
       " 'sentence': ['Located', 'East', 'Landmark', 'South', 'West']}"
      ]
     },
     "execution_count": 30,
     "metadata": {},
     "output_type": "execute_result"
    }
   ],
   "source": [
    "import json\n",
    "\n",
    "def load_pairs(data_path):\n",
    "    with open(data_path, \"r\") as f:\n",
    "        data = json.load(f)\n",
    "    pairs = []\n",
    "    for step, s_data in data.items():\n",
    "        if not step.startswith(\"Step\"):\n",
    "            continue\n",
    "        pairs.append({\n",
    "            \"observation\": s_data[\"Agent_0\"][\"Observation\"],\n",
    "            \"sentence\": s_data[\"Agent_0\"][\"Sentence\"][1:-1]\n",
    "        })\n",
    "        pairs.append({\n",
    "            \"observation\": s_data[\"Agent_1\"][\"Observation\"],\n",
    "            \"sentence\": s_data[\"Agent_1\"][\"Sentence\"][1:-1]\n",
    "        })\n",
    "    return pairs\n",
    "\n",
    "data_pairs = load_pairs(\"test_data/Sentences_Generated_P1.json\")\n",
    "data_pairs[0]"
   ]
  },
  {
   "cell_type": "markdown",
   "id": "e38ff832",
   "metadata": {},
   "source": [
    "Split data"
   ]
  },
  {
   "cell_type": "code",
   "execution_count": null,
   "id": "f8179034",
   "metadata": {},
   "outputs": [],
   "source": [
    "train_data = data_pairs[:80000]\n",
    "test_data = data_pairs[80000:]"
   ]
  },
  {
   "cell_type": "markdown",
   "id": "13fafaee",
   "metadata": {},
   "source": [
    "Initialise the models"
   ]
  },
  {
   "cell_type": "code",
   "execution_count": 28,
   "id": "4f5d4041",
   "metadata": {},
   "outputs": [],
   "source": [
    "import torch\n",
    "from model.modules.lm import GRUDecoder, OneHotEncoder\n",
    "from model.modules.obs import ObservationEncoder\n",
    "\n",
    "word_encoder = OneHotEncoder(\n",
    "    ['South','Not','Located','West','Object','Landmark','North','Center','East'])\n",
    "\n",
    "dec = GRUDecoder(32, word_encoder)\n",
    "\n",
    "obs_enc = ObservationEncoder(17, 32)"
   ]
  },
  {
   "cell_type": "markdown",
   "id": "1a593bf1",
   "metadata": {},
   "source": [
    "Initialise loss and optimizer"
   ]
  },
  {
   "cell_type": "code",
   "execution_count": 29,
   "id": "e888e6e9",
   "metadata": {},
   "outputs": [],
   "source": [
    "from torch import nn, optim\n",
    "\n",
    "criterion = nn.NLLLoss()\n",
    "optim = optim.SGD(list(dec.parameters()) + list(obs_enc.parameters()), lr=0.01)"
   ]
  },
  {
   "cell_type": "markdown",
   "id": "fa6c045e",
   "metadata": {},
   "source": [
    "Train"
   ]
  },
  {
   "cell_type": "code",
   "execution_count": 17,
   "id": "e03daf16",
   "metadata": {},
   "outputs": [
    {
     "name": "stderr",
     "output_type": "stream",
     "text": [
      "100%|██████████████████████████████████████████████████████████████| 10000/10000 [22:32<00:00,  7.39it/s]\n"
     ]
    }
   ],
   "source": [
    "import time\n",
    "import random\n",
    "import numpy as np\n",
    "from tqdm import tqdm \n",
    "\n",
    "def train(data, obs_enc, dec, word_encoder, criterion, optim, n_iters=10000, batch_size=64):\n",
    "    start = time.time()\n",
    "    \n",
    "    plot_losses = []\n",
    "    \n",
    "    for s_i in tqdm(range(n_iters)):\n",
    "        optim.zero_grad()\n",
    "        \n",
    "        loss = 0\n",
    "        \n",
    "        # Sample batch\n",
    "        batch = random.sample(data, batch_size)\n",
    "        obs_batch = []\n",
    "        sent_batch = []\n",
    "        for pair in batch:\n",
    "            obs_batch.append(pair[\"observation\"])\n",
    "            sent_batch.append(pair[\"sentence\"])\n",
    "        \n",
    "        # Encode observations\n",
    "        obs_tensor = torch.Tensor(np.array(obs_batch))\n",
    "        context_batch = obs_enc(obs_tensor)\n",
    "        \n",
    "        # Decoder forward pass\n",
    "        encoded_targets = word_encoder.encode_batch(sent_batch)\n",
    "        decoder_outputs, _ = dec(context_batch, encoded_targets)\n",
    "        \n",
    "        # Compute loss\n",
    "        for d_o, e_t in zip(decoder_outputs, encoded_targets):\n",
    "            e_t = torch.argmax(e_t, dim=1)\n",
    "            loss += criterion(d_o, e_t)\n",
    "        \n",
    "        # Backprop\n",
    "        loss.backward()\n",
    "        optim.step()\n",
    "        \n",
    "        plot_losses.append(loss.item() / batch_size)\n",
    "    \n",
    "    return plot_losses\n",
    "            \n",
    "plot_loss = train(data_pairs, obs_enc, dec, word_encoder, criterion, optim)"
   ]
  },
  {
   "cell_type": "code",
   "execution_count": 18,
   "id": "232c1818",
   "metadata": {
    "scrolled": true
   },
   "outputs": [
    {
     "data": {
      "text/plain": [
       "[<matplotlib.lines.Line2D at 0x7f858e0ce3a0>]"
      ]
     },
     "execution_count": 18,
     "metadata": {},
     "output_type": "execute_result"
    },
    {
     "data": {
      "image/png": "[encoded data removed]",
      "text/plain": [
       "<Figure size 432x288 with 1 Axes>"
      ]
     },
     "metadata": {
      "needs_background": "light"
     },
     "output_type": "display_data"
    }
   ],
   "source": [
    "import matplotlib.pyplot as plt\n",
    "\n",
    "plt.plot(plot_loss)"
   ]
  },
  {
   "cell_type": "markdown",
   "id": "3e64f1f1",
   "metadata": {},
   "source": [
    "# Learning to encode language with Contrastive Learning\n",
    "\n",
    "Contrastive learning of observation encodings. The goal is to have two encoders, one for the observation and one for the language description, both encoding to the same context embedding. \n",
    "\n",
    "Load observation-sentence pairs:"
   ]
  },
  {
   "cell_type": "code",
   "execution_count": 34,
   "id": "90218295",
   "metadata": {},
   "outputs": [
    {
     "data": {
      "text/plain": [
       "{'observation': [0.3566717617981794,\n",
       "  0.22018956073987805,\n",
       "  0.0,\n",
       "  0.0,\n",
       "  0.0,\n",
       "  1.0,\n",
       "  1.0,\n",
       "  0.0,\n",
       "  0.0,\n",
       "  0.0,\n",
       "  1.0,\n",
       "  1.0,\n",
       "  0.0,\n",
       "  0.0,\n",
       "  1.0,\n",
       "  -0.4988445287954038,\n",
       "  -0.25249793046375035],\n",
       " 'sentence': ['Located', 'East', 'Landmark', 'South', 'West']}"
      ]
     },
     "execution_count": 34,
     "metadata": {},
     "output_type": "execute_result"
    }
   ],
   "source": [
    "import json\n",
    "\n",
    "def load_pairs(data_path):\n",
    "    with open(data_path, \"r\") as f:\n",
    "        data = json.load(f)\n",
    "    pairs = []\n",
    "    for step, s_data in data.items():\n",
    "        if not step.startswith(\"Step\"):\n",
    "            continue\n",
    "        pairs.append({\n",
    "            \"observation\": s_data[\"Agent_0\"][\"Observation\"],\n",
    "            \"sentence\": s_data[\"Agent_0\"][\"Sentence\"][1:-1]\n",
    "        })\n",
    "        pairs.append({\n",
    "            \"observation\": s_data[\"Agent_1\"][\"Observation\"],\n",
    "            \"sentence\": s_data[\"Agent_1\"][\"Sentence\"][1:-1]\n",
    "        })\n",
    "    return pairs\n",
    "\n",
    "data_pairs = load_pairs(\"test_data/Sentences_Generated_P1.json\")\n",
    "data_pairs[0]"
   ]
  },
  {
   "cell_type": "markdown",
   "id": "f2a141ae",
   "metadata": {},
   "source": [
    "Split data"
   ]
  },
  {
   "cell_type": "code",
   "execution_count": 37,
   "id": "d955b1ab",
   "metadata": {},
   "outputs": [],
   "source": [
    "train_data = data_pairs[:80000]\n",
    "test_data = data_pairs[80000:]"
   ]
  },
  {
   "cell_type": "code",
   "execution_count": 38,
   "id": "806c754e",
   "metadata": {},
   "outputs": [
    {
     "data": {
      "text/plain": [
       "20000"
      ]
     },
     "execution_count": 38,
     "metadata": {},
     "output_type": "execute_result"
    }
   ],
   "source": [
    "len(test_data)"
   ]
  },
  {
   "cell_type": "markdown",
   "id": "92309976",
   "metadata": {},
   "source": [
    "Initialise the models"
   ]
  },
  {
   "cell_type": "code",
   "execution_count": 32,
   "id": "3581b87d",
   "metadata": {},
   "outputs": [],
   "source": [
    "import torch\n",
    "from model.modules.lm import GRUEncoder, OneHotEncoder\n",
    "from model.modules.obs import ObservationEncoder\n",
    "\n",
    "word_encoder = OneHotEncoder(\n",
    "    ['South','Not','Located','West','Object','Landmark','North','Center','East'])\n",
    "\n",
    "lang_enc = GRUEncoder(32, word_encoder)\n",
    "\n",
    "obs_enc = ObservationEncoder(17, 32)"
   ]
  },
  {
   "cell_type": "markdown",
   "id": "19f634a0",
   "metadata": {},
   "source": [
    "Initialise loss and optimizer"
   ]
  },
  {
   "cell_type": "code",
   "execution_count": 33,
   "id": "8b5b5362",
   "metadata": {},
   "outputs": [],
   "source": [
    "from torch import nn, optim\n",
    "\n",
    "criterion = nn.CrossEntropyLoss()\n",
    "opt = optim.SGD(list(lang_enc.parameters()) + list(obs_enc.parameters()), lr=0.1)"
   ]
  },
  {
   "cell_type": "markdown",
   "id": "573f3b9b",
   "metadata": {},
   "source": [
    "Train"
   ]
  },
  {
   "cell_type": "code",
   "execution_count": 35,
   "id": "963ebd30",
   "metadata": {
    "scrolled": false
   },
   "outputs": [],
   "source": [
    "import time\n",
    "import random\n",
    "import numpy as np\n",
    "from tqdm import tqdm \n",
    "\n",
    "def sample_batch(data, batch_size):\n",
    "    batch = random.sample(data, batch_size)\n",
    "    obs_batch = []\n",
    "    sent_batch = []\n",
    "    for pair in batch:\n",
    "        obs_batch.append(pair[\"observation\"])\n",
    "        sent_batch.append(pair[\"sentence\"])\n",
    "    return obs_batch, sent_batch\n",
    "\n",
    "def get_clip_loss(obs_batch, sent_batch, obs_enc, lang_enc, temp, cross_ent_loss):\n",
    "    # Encode observations\n",
    "    obs_tensor = torch.Tensor(np.array(obs_batch))\n",
    "    context_batch = obs_enc(obs_tensor)\n",
    "\n",
    "    # Encode sentence\n",
    "    lang_context_batch = lang_enc(sent_batch)\n",
    "    lang_context_batch = lang_context_batch.squeeze()\n",
    "\n",
    "    # Compute similarity\n",
    "    context_batch = context_batch / context_batch.norm(dim=1, keepdim=True)\n",
    "    lang_context_batch = lang_context_batch / lang_context_batch.norm(dim=1, keepdim=True)\n",
    "    sim = context_batch @ lang_context_batch.t() * temp\n",
    "\n",
    "    # Compute loss\n",
    "    labels = torch.arange(len(obs_batch))\n",
    "    loss_o = cross_ent_loss(sim, labels)\n",
    "    loss_l = cross_ent_loss(sim.t(), labels)\n",
    "    loss = (loss_o + loss_l) / 2\n",
    "    \n",
    "    return loss\n",
    "\n",
    "def train(data, obs_enc, lang_enc, word_encoder, cross_ent_loss, opt, \n",
    "          n_iters=80000, batch_size=128, temp=0.07, eval_data=None, eval_evry=1000,\n",
    "          sample_fn=sample_batch):\n",
    "    start = time.time()\n",
    "    \n",
    "    train_losses = []\n",
    "    eval_losses = []\n",
    "    \n",
    "    for s_i in tqdm(range(n_iters)):\n",
    "        opt.zero_grad()\n",
    "        \n",
    "        # Sample batch\n",
    "        obs_batch, sent_batch = sample_fn(data, batch_size)\n",
    "        \n",
    "        # Compute loss\n",
    "        loss = get_clip_loss(obs_batch, sent_batch, obs_enc, lang_enc, temp, cross_ent_loss)\n",
    "        \n",
    "        # Backprop\n",
    "        loss.backward()\n",
    "        opt.step()\n",
    "        \n",
    "        train_losses.append(loss.item())\n",
    "        \n",
    "        if eval_data is not None and (s_i + 1) % eval_evry == 0:\n",
    "            with torch.no_grad():\n",
    "                # Sample batch\n",
    "                obs_batch, sent_batch = sample_fn(eval_data, batch_size)\n",
    "                \n",
    "                # Get loss\n",
    "                loss = get_clip_loss(obs_batch, sent_batch, obs_enc, lang_enc, temp, cross_ent_loss)\n",
    "                eval_losses.append(loss)\n",
    "    \n",
    "    return train_losses, eval_losses\n",
    "            "
   ]
  },
  {
   "cell_type": "code",
   "execution_count": 9,
   "id": "ae3879cc",
   "metadata": {},
   "outputs": [
    {
     "data": {
      "text/plain": [
       "[<matplotlib.lines.Line2D at 0x7fbb398ff820>]"
      ]
     },
     "execution_count": 9,
     "metadata": {},
     "output_type": "execute_result"
    },
    {
     "data": {
      "image/png": "[encoded data removed]",
      "text/plain": [
       "<Figure size 432x288 with 1 Axes>"
      ]
     },
     "metadata": {
      "needs_background": "light"
     },
     "output_type": "display_data"
    }
   ],
   "source": [
    "import matplotlib.pyplot as plt\n",
    "\n",
    "train_loss, eval_loss = train(train_data, obs_enc, lang_enc, word_encoder, criterion, opt, eval_data=test_data)\n",
    "\n",
    "plt.plot(train_loss)\n",
    "plt.plot(np.arange(80) * 1000, eval_loss)"
   ]
  },
  {
   "cell_type": "markdown",
   "id": "2683fdfa",
   "metadata": {},
   "source": [
    "Smaller context vector, Adam optim with smaller learning rate, higher temperature"
   ]
  },
  {
   "cell_type": "code",
   "execution_count": 18,
   "id": "7dd664bc",
   "metadata": {},
   "outputs": [
    {
     "name": "stderr",
     "output_type": "stream",
     "text": [
      "100%|█████████████████████████████████████████████████████████████| 30000/30000 [03:36<00:00, 138.70it/s]\n"
     ]
    },
    {
     "data": {
      "text/plain": [
       "[<matplotlib.lines.Line2D at 0x7fbb39782220>]"
      ]
     },
     "execution_count": 18,
     "metadata": {},
     "output_type": "execute_result"
    },
    {
     "data": {
      "image/png": "[encoded data removed]",
      "text/plain": [
       "<Figure size 432x288 with 1 Axes>"
      ]
     },
     "metadata": {
      "needs_background": "light"
     },
     "output_type": "display_data"
    }
   ],
   "source": [
    "lang_enc = GRUEncoder(16, word_encoder)\n",
    "obs_enc = ObservationEncoder(17, 16)\n",
    "\n",
    "criterion = nn.CrossEntropyLoss()\n",
    "opt = optim.Adam(list(lang_enc.parameters()) + list(obs_enc.parameters()), lr=0.001)\n",
    "\n",
    "train_loss, eval_loss = train(train_data, obs_enc, lang_enc, word_encoder, criterion, opt, eval_data=test_data,\n",
    "                             temp=1.0, n_iters=30000)\n",
    "\n",
    "plt.plot(train_loss)\n",
    "plt.plot(np.arange(30) * 1000, eval_loss)"
   ]
  },
  {
   "cell_type": "code",
   "execution_count": 37,
   "id": "4b7dddfd",
   "metadata": {},
   "outputs": [
    {
     "name": "stderr",
     "output_type": "stream",
     "text": [
      "100%|█████████████████████████████████████████████████████████████| 20000/20000 [03:00<00:00, 110.85it/s]\n"
     ]
    },
    {
     "data": {
      "text/plain": [
       "[<matplotlib.lines.Line2D at 0x7fbb3937db20>]"
      ]
     },
     "execution_count": 37,
     "metadata": {},
     "output_type": "execute_result"
    },
    {
     "data": {
      "image/png": "[encoded data removed]",
      "text/plain": [
       "<Figure size 432x288 with 1 Axes>"
      ]
     },
     "metadata": {
      "needs_background": "light"
     },
     "output_type": "display_data"
    }
   ],
   "source": [
    "lang_enc = GRUEncoder(16, word_encoder)\n",
    "obs_enc = ObservationEncoder(17, 16)\n",
    "\n",
    "criterion = nn.CrossEntropyLoss()\n",
    "opt = optim.Adam(list(lang_enc.parameters()) + list(obs_enc.parameters()), \n",
    "                     lr=0.001)\n",
    "\n",
    "train_loss, eval_loss = train(train_data, obs_enc, lang_enc, word_encoder, criterion, opt, eval_data=test_data,\n",
    "                             temp=5.0, n_iters=20000)\n",
    "\n",
    "plt.plot(train_loss)\n",
    "plt.plot((np.arange(20) + 1) * 1000, eval_loss)"
   ]
  },
  {
   "cell_type": "code",
   "execution_count": 35,
   "id": "be76503d",
   "metadata": {},
   "outputs": [
    {
     "name": "stderr",
     "output_type": "stream",
     "text": [
      "100%|█████████████████████████████████████████████████████████████| 20000/20000 [03:10<00:00, 104.97it/s]\n"
     ]
    },
    {
     "data": {
      "text/plain": [
       "[<matplotlib.lines.Line2D at 0x7fbb393c9100>]"
      ]
     },
     "execution_count": 35,
     "metadata": {},
     "output_type": "execute_result"
    },
    {
     "data": {
      "image/png": "[encoded data removed]",
      "text/plain": [
       "<Figure size 432x288 with 1 Axes>"
      ]
     },
     "metadata": {
      "needs_background": "light"
     },
     "output_type": "display_data"
    }
   ],
   "source": [
    "lang_enc = GRUEncoder(16, word_encoder)\n",
    "obs_enc = ObservationEncoder(17, 16)\n",
    "\n",
    "criterion = nn.CrossEntropyLoss()\n",
    "opt = optim.Adam(list(lang_enc.parameters()) + list(obs_enc.parameters()), \n",
    "                     lr=0.01)\n",
    "\n",
    "train_loss, eval_loss = train(train_data, obs_enc, lang_enc, word_encoder, criterion, opt, eval_data=test_data,\n",
    "                             temp=2.0, n_iters=20000)\n",
    "\n",
    "plt.plot(train_loss)\n",
    "plt.plot((np.arange(20) + 1) * 1000, eval_loss)"
   ]
  },
  {
   "cell_type": "markdown",
   "id": "6a98722e",
   "metadata": {},
   "source": [
    "### Selecting elements of mini-batches\n",
    "\n",
    "First, we eliminate elements with the same sentence in all the data:"
   ]
  },
  {
   "cell_type": "code",
   "execution_count": 26,
   "id": "c3985337",
   "metadata": {},
   "outputs": [
    {
     "data": {
      "text/plain": [
       "([[0.3095124497939987,\n",
       "   -0.6486152227567434,\n",
       "   -0.0912996119519604,\n",
       "   0.5652462383159674,\n",
       "   0.0,\n",
       "   1.0,\n",
       "   1.0,\n",
       "   0.0,\n",
       "   0.0,\n",
       "   0.0,\n",
       "   1.0,\n",
       "   1.0,\n",
       "   0.0,\n",
       "   0.0,\n",
       "   0.0,\n",
       "   1.0,\n",
       "   1.0],\n",
       "  [0.2591322635604455,\n",
       "   0.392017977453841,\n",
       "   -0.7625459524576248,\n",
       "   1.022240431933236,\n",
       "   0.0,\n",
       "   1.0,\n",
       "   1.0,\n",
       "   0.0,\n",
       "   0.0,\n",
       "   1.0,\n",
       "   0.5322905477440896,\n",
       "   0.2918933111190784,\n",
       "   3.201834930623594e-08,\n",
       "   5.130497611262871e-08,\n",
       "   1.0,\n",
       "   0.6702977544668437,\n",
       "   -0.11603014279364346],\n",
       "  [0.34811381638453154,\n",
       "   -0.6790638856310116,\n",
       "   1.247092640174209,\n",
       "   0.3393525658419071,\n",
       "   0.0,\n",
       "   1.0,\n",
       "   1.0,\n",
       "   0.0,\n",
       "   0.0,\n",
       "   0.0,\n",
       "   1.0,\n",
       "   1.0,\n",
       "   0.0,\n",
       "   0.0,\n",
       "   0.0,\n",
       "   1.0,\n",
       "   1.0],\n",
       "  [-0.7151423926071196,\n",
       "   -0.2753994356935084,\n",
       "   -0.8514692130800166,\n",
       "   -0.7335543384374089,\n",
       "   0.0,\n",
       "   1.0,\n",
       "   1.0,\n",
       "   0.0,\n",
       "   0.0,\n",
       "   0.0,\n",
       "   1.0,\n",
       "   1.0,\n",
       "   0.0,\n",
       "   0.0,\n",
       "   0.0,\n",
       "   1.0,\n",
       "   1.0],\n",
       "  [-0.30497324032637063,\n",
       "   -0.46469797443169547,\n",
       "   0.6684074986293399,\n",
       "   0.1844836517534214,\n",
       "   0.0,\n",
       "   1.0,\n",
       "   1.0,\n",
       "   0.0,\n",
       "   0.0,\n",
       "   0.0,\n",
       "   1.0,\n",
       "   1.0,\n",
       "   0.0,\n",
       "   0.0,\n",
       "   0.0,\n",
       "   1.0,\n",
       "   1.0],\n",
       "  [0.8969288838302164,\n",
       "   -0.3048193244910677,\n",
       "   -0.4357660161770296,\n",
       "   -1.0646864348690548,\n",
       "   0.0,\n",
       "   1.0,\n",
       "   1.0,\n",
       "   0.0,\n",
       "   0.0,\n",
       "   0.0,\n",
       "   1.0,\n",
       "   1.0,\n",
       "   0.0,\n",
       "   0.0,\n",
       "   0.0,\n",
       "   1.0,\n",
       "   1.0],\n",
       "  [0.006123656085031709,\n",
       "   0.27644798833732825,\n",
       "   -0.6430073565693365,\n",
       "   0.27417903656847864,\n",
       "   0.0,\n",
       "   1.0,\n",
       "   1.0,\n",
       "   0.0,\n",
       "   0.0,\n",
       "   1.0,\n",
       "   0.0721644361804866,\n",
       "   -0.5355788709097288,\n",
       "   -0.033888032518060156,\n",
       "   -0.1789655713523366,\n",
       "   0.0,\n",
       "   1.0,\n",
       "   1.0],\n",
       "  [0.05152307756196574,\n",
       "   0.6187746517136703,\n",
       "   0.699522445095933,\n",
       "   0.9886688316873975,\n",
       "   0.0,\n",
       "   1.0,\n",
       "   1.0,\n",
       "   0.0,\n",
       "   0.0,\n",
       "   0.0,\n",
       "   1.0,\n",
       "   1.0,\n",
       "   0.0,\n",
       "   0.0,\n",
       "   0.0,\n",
       "   1.0,\n",
       "   1.0],\n",
       "  [-0.5117882330089105,\n",
       "   0.8901086381032829,\n",
       "   -0.39863438528990613,\n",
       "   0.39011198599507974,\n",
       "   0.0,\n",
       "   1.0,\n",
       "   1.0,\n",
       "   0.0,\n",
       "   0.0,\n",
       "   0.0,\n",
       "   1.0,\n",
       "   1.0,\n",
       "   0.0,\n",
       "   0.0,\n",
       "   0.0,\n",
       "   1.0,\n",
       "   1.0],\n",
       "  [0.8780727269314699,\n",
       "   0.96,\n",
       "   -0.1487160815553382,\n",
       "   0.0,\n",
       "   0.0,\n",
       "   1.0,\n",
       "   1.0,\n",
       "   0.0,\n",
       "   0.0,\n",
       "   0.0,\n",
       "   1.0,\n",
       "   1.0,\n",
       "   0.0,\n",
       "   0.0,\n",
       "   0.0,\n",
       "   1.0,\n",
       "   1.0],\n",
       "  [-0.8861963967609692,\n",
       "   -0.3608995130071615,\n",
       "   0.7380360323903077,\n",
       "   -0.3871673032427342,\n",
       "   0.0,\n",
       "   1.0,\n",
       "   1.0,\n",
       "   0.0,\n",
       "   0.0,\n",
       "   0.0,\n",
       "   1.0,\n",
       "   1.0,\n",
       "   0.0,\n",
       "   0.0,\n",
       "   1.0,\n",
       "   0.15390739885760868,\n",
       "   -0.6153544858362131],\n",
       "  [0.0014863047297338922,\n",
       "   -0.023472869711680694,\n",
       "   -0.09972966241641429,\n",
       "   -0.45527014121299697,\n",
       "   1.0,\n",
       "   0.196803692241224,\n",
       "   -0.0038923816205088148,\n",
       "   0.2838763596813421,\n",
       "   0.01650621615661782,\n",
       "   0.0,\n",
       "   1.0,\n",
       "   1.0,\n",
       "   0.0,\n",
       "   0.0,\n",
       "   1.0,\n",
       "   0.6862438066047488,\n",
       "   0.05216967918846731],\n",
       "  [-0.47620087371441244,\n",
       "   -0.8609312266426918,\n",
       "   -1.1586459388967876,\n",
       "   0.990687733573081,\n",
       "   1.0,\n",
       "   0.4774377599377917,\n",
       "   -0.0802992194254959,\n",
       "   1.0474708697904416,\n",
       "   -0.8072511038297819,\n",
       "   0.0,\n",
       "   1.0,\n",
       "   1.0,\n",
       "   0.0,\n",
       "   0.0,\n",
       "   0.0,\n",
       "   1.0,\n",
       "   1.0],\n",
       "  [-0.1772541194614019,\n",
       "   -0.2381908970751741,\n",
       "   -0.5928031518192838,\n",
       "   0.02581185884684148,\n",
       "   0.0,\n",
       "   1.0,\n",
       "   1.0,\n",
       "   0.0,\n",
       "   0.0,\n",
       "   1.0,\n",
       "   0.6883096344524376,\n",
       "   -0.6714910433772676,\n",
       "   1.7210982928203115e-15,\n",
       "   -2.11919757393085e-15,\n",
       "   1.0,\n",
       "   -0.3653790434174192,\n",
       "   0.4863412590464637],\n",
       "  [-0.6318503180247264,\n",
       "   0.5567511833915557,\n",
       "   -0.4823247615020092,\n",
       "   -1.1405183061901083,\n",
       "   0.0,\n",
       "   1.0,\n",
       "   1.0,\n",
       "   0.0,\n",
       "   0.0,\n",
       "   1.0,\n",
       "   -0.5300717303227753,\n",
       "   -0.571547245997023,\n",
       "   -1.3164885615147472e-22,\n",
       "   -1.7854935803522665e-22,\n",
       "   0.0,\n",
       "   1.0,\n",
       "   1.0],\n",
       "  [0.3215367922449663,\n",
       "   -0.9214546380372689,\n",
       "   -0.45302174764826997,\n",
       "   0.3854536196273106,\n",
       "   0.0,\n",
       "   1.0,\n",
       "   1.0,\n",
       "   0.0,\n",
       "   0.0,\n",
       "   0.0,\n",
       "   1.0,\n",
       "   1.0,\n",
       "   0.0,\n",
       "   0.0,\n",
       "   1.0,\n",
       "   0.56296105990132,\n",
       "   0.3261657580078667],\n",
       "  [0.6923783220562405,\n",
       "   0.7855723480368476,\n",
       "   0.03387268693713601,\n",
       "   0.07266327962857169,\n",
       "   0.0,\n",
       "   1.0,\n",
       "   1.0,\n",
       "   0.0,\n",
       "   0.0,\n",
       "   0.0,\n",
       "   1.0,\n",
       "   1.0,\n",
       "   0.0,\n",
       "   0.0,\n",
       "   0.0,\n",
       "   1.0,\n",
       "   1.0],\n",
       "  [-0.32659295164123636,\n",
       "   0.6767333329699032,\n",
       "   -0.9967560859587954,\n",
       "   0.6477380526984461,\n",
       "   0.0,\n",
       "   1.0,\n",
       "   1.0,\n",
       "   0.0,\n",
       "   0.0,\n",
       "   0.0,\n",
       "   1.0,\n",
       "   1.0,\n",
       "   0.0,\n",
       "   0.0,\n",
       "   1.0,\n",
       "   -0.3808576061974073,\n",
       "   -0.4898683713679855],\n",
       "  [0.22213496104362473,\n",
       "   -0.7904738592764592,\n",
       "   0.12194583316566032,\n",
       "   -0.9178415503375724,\n",
       "   0.0,\n",
       "   1.0,\n",
       "   1.0,\n",
       "   0.0,\n",
       "   0.0,\n",
       "   0.0,\n",
       "   1.0,\n",
       "   1.0,\n",
       "   0.0,\n",
       "   0.0,\n",
       "   1.0,\n",
       "   0.08414922718649659,\n",
       "   0.8919381960948269],\n",
       "  [0.746463870907662,\n",
       "   0.24071655488736787,\n",
       "   -1.1721212643498204,\n",
       "   1.0259773596000852,\n",
       "   0.0,\n",
       "   1.0,\n",
       "   1.0,\n",
       "   0.0,\n",
       "   0.0,\n",
       "   1.0,\n",
       "   -0.6068230992382242,\n",
       "   -0.7037301255654139,\n",
       "   2.5779984048541682e-17,\n",
       "   -1.7469091007198084e-16,\n",
       "   0.0,\n",
       "   1.0,\n",
       "   1.0],\n",
       "  [-0.39208193796983026,\n",
       "   0.7400370028558072,\n",
       "   -0.21753488741727772,\n",
       "   0.9480017664949121,\n",
       "   0.0,\n",
       "   1.0,\n",
       "   1.0,\n",
       "   0.0,\n",
       "   0.0,\n",
       "   1.0,\n",
       "   -0.8445804700328841,\n",
       "   0.19529110851703696,\n",
       "   -3.163598249531393e-20,\n",
       "   1.5213118368076572e-20,\n",
       "   0.0,\n",
       "   1.0,\n",
       "   1.0],\n",
       "  [0.4849552025578066,\n",
       "   0.5350490044141564,\n",
       "   -0.11159914495739169,\n",
       "   -0.12586952722196976,\n",
       "   0.0,\n",
       "   1.0,\n",
       "   1.0,\n",
       "   0.0,\n",
       "   0.0,\n",
       "   0.0,\n",
       "   1.0,\n",
       "   1.0,\n",
       "   0.0,\n",
       "   0.0,\n",
       "   0.0,\n",
       "   1.0,\n",
       "   1.0],\n",
       "  [-0.43596774779266223,\n",
       "   0.9190695481822984,\n",
       "   0.0,\n",
       "   0.0,\n",
       "   0.0,\n",
       "   1.0,\n",
       "   1.0,\n",
       "   0.0,\n",
       "   0.0,\n",
       "   0.0,\n",
       "   1.0,\n",
       "   1.0,\n",
       "   0.0,\n",
       "   0.0,\n",
       "   1.0,\n",
       "   0.92345792691681,\n",
       "   -0.2823246110997138],\n",
       "  [0.386688287123786,\n",
       "   -0.5011408316079045,\n",
       "   0.0,\n",
       "   0.0,\n",
       "   1.0,\n",
       "   0.20517316115339024,\n",
       "   0.024644764505858535,\n",
       "   0.0,\n",
       "   0.0,\n",
       "   0.0,\n",
       "   1.0,\n",
       "   1.0,\n",
       "   0.0,\n",
       "   0.0,\n",
       "   0.0,\n",
       "   1.0,\n",
       "   1.0],\n",
       "  [0.14265546488005962,\n",
       "   0.1606543786372382,\n",
       "   0.22348903938666181,\n",
       "   -0.35531939923867034,\n",
       "   0.0,\n",
       "   1.0,\n",
       "   1.0,\n",
       "   0.0,\n",
       "   0.0,\n",
       "   0.0,\n",
       "   1.0,\n",
       "   1.0,\n",
       "   0.0,\n",
       "   0.0,\n",
       "   0.0,\n",
       "   1.0,\n",
       "   1.0],\n",
       "  [-0.570968143851357,\n",
       "   -0.5667299436714889,\n",
       "   1.3095208812007146,\n",
       "   -1.0371826099973875,\n",
       "   0.0,\n",
       "   1.0,\n",
       "   1.0,\n",
       "   0.0,\n",
       "   0.0,\n",
       "   0.0,\n",
       "   1.0,\n",
       "   1.0,\n",
       "   0.0,\n",
       "   0.0,\n",
       "   1.0,\n",
       "   -0.6013676209638932,\n",
       "   -0.5343470442812015],\n",
       "  [0.4216259308810922,\n",
       "   -0.5013908680639789,\n",
       "   -0.24118926910091198,\n",
       "   -1.1253249602876503,\n",
       "   0.0,\n",
       "   1.0,\n",
       "   1.0,\n",
       "   0.0,\n",
       "   0.0,\n",
       "   0.0,\n",
       "   1.0,\n",
       "   1.0,\n",
       "   0.0,\n",
       "   0.0,\n",
       "   1.0,\n",
       "   0.26005271903489513,\n",
       "   0.7556908876804743],\n",
       "  [-0.023651817834860072,\n",
       "   -0.5031595120468265,\n",
       "   -0.015803998378857542,\n",
       "   0.8774522217151781,\n",
       "   0.0,\n",
       "   1.0,\n",
       "   1.0,\n",
       "   0.0,\n",
       "   0.0,\n",
       "   0.0,\n",
       "   1.0,\n",
       "   1.0,\n",
       "   0.0,\n",
       "   0.0,\n",
       "   1.0,\n",
       "   -0.5622770245171681,\n",
       "   0.28974925640904825],\n",
       "  [0.37986100875675816,\n",
       "   0.17341530399859814,\n",
       "   0.18558638684698253,\n",
       "   -0.41705410850870006,\n",
       "   0.0,\n",
       "   1.0,\n",
       "   1.0,\n",
       "   0.0,\n",
       "   0.0,\n",
       "   0.0,\n",
       "   1.0,\n",
       "   1.0,\n",
       "   0.0,\n",
       "   0.0,\n",
       "   0.0,\n",
       "   1.0,\n",
       "   1.0],\n",
       "  [-0.1551531899386225,\n",
       "   -0.14862250078276065,\n",
       "   0.635748582890491,\n",
       "   -0.688960571079282,\n",
       "   0.0,\n",
       "   1.0,\n",
       "   1.0,\n",
       "   0.0,\n",
       "   0.0,\n",
       "   1.0,\n",
       "   -0.6344829112772332,\n",
       "   -0.4232453994944619,\n",
       "   -3.2954743612323437e-12,\n",
       "   -5.315833531505413e-12,\n",
       "   0.0,\n",
       "   1.0,\n",
       "   1.0],\n",
       "  [0.07390782294951789,\n",
       "   0.3913217671090381,\n",
       "   1.4014699490480336,\n",
       "   -0.96805076946948,\n",
       "   0.0,\n",
       "   1.0,\n",
       "   1.0,\n",
       "   0.0,\n",
       "   0.0,\n",
       "   1.0,\n",
       "   -0.19216711315547383,\n",
       "   -0.25212544604314446,\n",
       "   0.0005182819537859112,\n",
       "   -0.0015167147525081016,\n",
       "   0.0,\n",
       "   1.0,\n",
       "   1.0],\n",
       "  [0.14915575349225663,\n",
       "   -0.06934694854554416,\n",
       "   0.31690254800260426,\n",
       "   -0.022226362431993857,\n",
       "   1.0,\n",
       "   -0.9387130159348812,\n",
       "   0.2046036398326568,\n",
       "   -0.5591266752109719,\n",
       "   0.06175015564740638,\n",
       "   0.0,\n",
       "   1.0,\n",
       "   1.0,\n",
       "   0.0,\n",
       "   0.0,\n",
       "   1.0,\n",
       "   0.26659724606491686,\n",
       "   -0.9108790807324607],\n",
       "  [0.0947109830842137,\n",
       "   0.3140472182827578,\n",
       "   0.3192357927277846,\n",
       "   0.6048809509057094,\n",
       "   0.0,\n",
       "   1.0,\n",
       "   1.0,\n",
       "   0.0,\n",
       "   0.0,\n",
       "   1.0,\n",
       "   -0.3643566103778065,\n",
       "   0.23537647778276577,\n",
       "   -0.03276555455538022,\n",
       "   0.04451646436854663,\n",
       "   1.0,\n",
       "   0.4531821107185492,\n",
       "   -0.7916305407976288]],\n",
       " [['Located', 'South'],\n",
       "  ['Located', 'North', 'Object', 'North', 'East', 'Landmark', 'East'],\n",
       "  ['Located', 'South', 'East'],\n",
       "  ['Located', 'West'],\n",
       "  ['Located', 'South', 'Landmark', 'Not', 'Located', 'South'],\n",
       "  ['Located', 'East'],\n",
       "  ['Located', 'Center', 'Object', 'South'],\n",
       "  ['Located', 'North'],\n",
       "  ['Located', 'North', 'West'],\n",
       "  ['Located', 'North', 'East'],\n",
       "  ['Located', 'South', 'West', 'Landmark', 'South'],\n",
       "  ['Located', 'Center', 'Landmark', 'East'],\n",
       "  ['Located', 'South', 'West'],\n",
       "  ['Located',\n",
       "   'Center',\n",
       "   'Object',\n",
       "   'South',\n",
       "   'East',\n",
       "   'Landmark',\n",
       "   'North',\n",
       "   'West'],\n",
       "  ['Located', 'North', 'West', 'Object', 'South', 'West'],\n",
       "  ['Located', 'South', 'Landmark', 'North', 'East'],\n",
       "  ['Located', 'North', 'East', 'Object', 'Not', 'Located', 'North', 'East'],\n",
       "  ['Located', 'North', 'Landmark', 'South', 'West'],\n",
       "  ['Located',\n",
       "   'South',\n",
       "   'Object',\n",
       "   'Not',\n",
       "   'Located',\n",
       "   'South',\n",
       "   'Landmark',\n",
       "   'North'],\n",
       "  ['Located', 'East', 'Object', 'South', 'West'],\n",
       "  ['Located', 'North', 'West', 'Object', 'West'],\n",
       "  ['Located', 'North', 'East', 'Landmark', 'Not', 'Located', 'North', 'East'],\n",
       "  ['Located', 'North', 'West', 'Landmark', 'South', 'East'],\n",
       "  ['Located', 'South', 'East', 'Object', 'Not', 'Located', 'South', 'East'],\n",
       "  ['Located', 'Center'],\n",
       "  ['Located', 'South', 'West', 'Landmark', 'South', 'West'],\n",
       "  ['Located', 'South', 'East', 'Landmark', 'North', 'East'],\n",
       "  ['Located', 'South', 'Landmark', 'North', 'West'],\n",
       "  ['Located', 'East', 'Landmark', 'Not', 'Located', 'East'],\n",
       "  ['Located',\n",
       "   'Center',\n",
       "   'Object',\n",
       "   'South',\n",
       "   'West',\n",
       "   'Landmark',\n",
       "   'Not',\n",
       "   'Located',\n",
       "   'Center'],\n",
       "  ['Located', 'North', 'Object', 'South'],\n",
       "  ['Located', 'Center', 'Landmark', 'South', 'East'],\n",
       "  ['Located', 'Center', 'Object', 'West', 'Landmark', 'South', 'East']])"
      ]
     },
     "execution_count": 26,
     "metadata": {},
     "output_type": "execute_result"
    }
   ],
   "source": [
    "def sample_batch_nodup(data, batch_size):\n",
    "    obs_batch = []\n",
    "    sent_batch = []\n",
    "    for b_i in range(batch_size):\n",
    "        element = random.choice(data)\n",
    "        obs = element[\"observation\"]\n",
    "        sent = element[\"sentence\"]\n",
    "        if sent in sent_batch:\n",
    "            continue\n",
    "        else:\n",
    "            obs_batch.append(obs)\n",
    "            sent_batch.append(sent)\n",
    "    return obs_batch, sent_batch\n",
    "sample_batch_nodup(data_pairs, 100)"
   ]
  },
  {
   "cell_type": "code",
   "execution_count": 42,
   "id": "28194d2e",
   "metadata": {},
   "outputs": [
    {
     "name": "stderr",
     "output_type": "stream",
     "text": [
      "100%|█████████████████████████████████████████████████████████| 20000/20000 [01:59<00:00, 167.38it/s]\n"
     ]
    },
    {
     "data": {
      "text/plain": [
       "[<matplotlib.lines.Line2D at 0x7f2a3db96580>]"
      ]
     },
     "execution_count": 42,
     "metadata": {},
     "output_type": "execute_result"
    },
    {
     "data": {
      "image/png": "[encoded data removed]",
      "text/plain": [
       "<Figure size 432x288 with 1 Axes>"
      ]
     },
     "metadata": {
      "needs_background": "light"
     },
     "output_type": "display_data"
    }
   ],
   "source": [
    "lang_enc = GRUEncoder(16, word_encoder)\n",
    "obs_enc = ObservationEncoder(17, 16)\n",
    "\n",
    "criterion = nn.CrossEntropyLoss()\n",
    "opt = optim.Adam(list(lang_enc.parameters()) + list(obs_enc.parameters()), \n",
    "                     lr=0.01)\n",
    "\n",
    "train_loss, eval_loss = train(train_data, obs_enc, lang_enc, word_encoder, criterion, opt, eval_data=test_data,\n",
    "                             temp=1.0, n_iters=20000, sample_fn=sample_batch_nodup)\n",
    "\n",
    "plt.plot(train_loss)\n",
    "plt.plot((np.arange(20) + 1) * 1000, eval_loss)"
   ]
  },
  {
   "cell_type": "code",
   "execution_count": 40,
   "id": "ef39a455",
   "metadata": {},
   "outputs": [
    {
     "data": {
      "text/plain": [
       "[<matplotlib.lines.Line2D at 0x7f2a3d1475b0>]"
      ]
     },
     "execution_count": 40,
     "metadata": {},
     "output_type": "execute_result"
    },
    {
     "data": {
      "image/png": "[encoded data removed]",
      "text/plain": [
       "<Figure size 432x288 with 1 Axes>"
      ]
     },
     "metadata": {
      "needs_background": "light"
     },
     "output_type": "display_data"
    }
   ],
   "source": [
    "import matplotlib.pyplot as plt\n",
    "\n",
    "plt.plot(train_loss)\n",
    "plt.plot((np.arange(20) + 1) * 1000, eval_loss)"
   ]
  },
  {
   "cell_type": "markdown",
   "id": "b9c7296b",
   "metadata": {},
   "source": [
    "# Language Learning\n",
    "\n",
    "Combine learning Observation captioning and Contrastive Learning.\n",
    "\n",
    "Load data:"
   ]
  },
  {
   "cell_type": "code",
   "execution_count": 44,
   "id": "0f6931dd",
   "metadata": {},
   "outputs": [],
   "source": [
    "import json\n",
    "\n",
    "def load_pairs(data_path):\n",
    "    with open(data_path, \"r\") as f:\n",
    "        data = json.load(f)\n",
    "    pairs = []\n",
    "    for step, s_data in data.items():\n",
    "        if not step.startswith(\"Step\"):\n",
    "            continue\n",
    "        pairs.append({\n",
    "            \"observation\": s_data[\"Agent_0\"][\"Observation\"],\n",
    "            \"sentence\": s_data[\"Agent_0\"][\"Sentence\"][1:-1]\n",
    "        })\n",
    "        pairs.append({\n",
    "            \"observation\": s_data[\"Agent_1\"][\"Observation\"],\n",
    "            \"sentence\": s_data[\"Agent_1\"][\"Sentence\"][1:-1]\n",
    "        })\n",
    "    return pairs\n",
    "\n",
    "data_pairs = load_pairs(\"test_data/Sentences_Generated_P1.json\")\n",
    "\n",
    "train_data = data_pairs[:80000]\n",
    "test_data = data_pairs[80000:]"
   ]
  },
  {
   "cell_type": "markdown",
   "id": "8d499787",
   "metadata": {},
   "source": [
    "Initialise models"
   ]
  },
  {
   "cell_type": "code",
   "execution_count": 45,
   "id": "0d3fc7d9",
   "metadata": {},
   "outputs": [],
   "source": [
    "import torch\n",
    "from model.modules.lm import GRUEncoder, GRUDecoder, OneHotEncoder\n",
    "from model.modules.obs import ObservationEncoder\n",
    "\n",
    "word_encoder = OneHotEncoder(\n",
    "    ['South','Not','Located','West','Object','Landmark','North','Center','East'])\n",
    "\n",
    "lang_enc = GRUEncoder(32, word_encoder)\n",
    "dec = GRUDecoder(32, word_encoder)\n",
    "\n",
    "obs_enc = ObservationEncoder(17, 32)"
   ]
  },
  {
   "cell_type": "markdown",
   "id": "20ce3d61",
   "metadata": {},
   "source": [
    "Initialise loss and optimizer"
   ]
  },
  {
   "cell_type": "code",
   "execution_count": 51,
   "id": "b35e445a",
   "metadata": {},
   "outputs": [],
   "source": [
    "from torch import nn, optim\n",
    "\n",
    "cross_ent_l = nn.CrossEntropyLoss()\n",
    "nll_l = nn.NLLLoss()\n",
    "opt = optim.SGD(list(lang_enc.parameters()) + list(dec.parameters()) + list(obs_enc.parameters()), lr=0.1)"
   ]
  },
  {
   "cell_type": "markdown",
   "id": "3d28914f",
   "metadata": {},
   "source": [
    "Train"
   ]
  },
  {
   "cell_type": "code",
   "execution_count": 61,
   "id": "9000168b",
   "metadata": {},
   "outputs": [],
   "source": [
    "import time\n",
    "import random\n",
    "import numpy as np\n",
    "from tqdm import tqdm \n",
    "\n",
    "def sample_batch(data, batch_size):\n",
    "    batch = random.sample(data, batch_size)\n",
    "    obs_batch = []\n",
    "    sent_batch = []\n",
    "    for pair in batch:\n",
    "        obs_batch.append(pair[\"observation\"])\n",
    "        sent_batch.append(pair[\"sentence\"])\n",
    "    return obs_batch, sent_batch\n",
    "\n",
    "def sample_batch_nodup(data, batch_size):\n",
    "    obs_batch = []\n",
    "    sent_batch = []\n",
    "    for b_i in range(batch_size):\n",
    "        element = random.choice(data)\n",
    "        obs = element[\"observation\"]\n",
    "        sent = element[\"sentence\"]\n",
    "        if sent in sent_batch:\n",
    "            continue\n",
    "        else:\n",
    "            obs_batch.append(obs)\n",
    "            sent_batch.append(sent)\n",
    "    return obs_batch, sent_batch\n",
    "\n",
    "def get_losses(obs_batch, sent_batch, obs_enc, lang_enc, dec, temp, cross_ent_loss, nll_loss):\n",
    "    # Encode observations\n",
    "    obs_tensor = torch.Tensor(np.array(obs_batch))\n",
    "    context_batch = obs_enc(obs_tensor)\n",
    "\n",
    "    # Encode sentence\n",
    "    lang_context_batch = lang_enc(sent_batch)\n",
    "    lang_context_batch = lang_context_batch.squeeze()\n",
    "\n",
    "    # Compute similarity\n",
    "    context_batch = context_batch / context_batch.norm(dim=1, keepdim=True)\n",
    "    lang_context_batch = lang_context_batch / lang_context_batch.norm(dim=1, keepdim=True)\n",
    "    sim = context_batch @ lang_context_batch.t() * temp\n",
    "\n",
    "    # Compute loss\n",
    "    labels = torch.arange(len(obs_batch))\n",
    "    loss_o = cross_ent_loss(sim, labels)\n",
    "    loss_l = cross_ent_loss(sim.t(), labels)\n",
    "    clip_loss = (loss_o + loss_l) / 2\n",
    "    \n",
    "    # Decoding\n",
    "    encoded_targets = word_encoder.encode_batch(sent_batch)\n",
    "    decoder_outputs, _ = dec(context_batch, encoded_targets)\n",
    "\n",
    "    # Compute loss\n",
    "    dec_loss = 0\n",
    "    for d_o, e_t in zip(decoder_outputs, encoded_targets):\n",
    "        e_t = torch.argmax(e_t, dim=1)\n",
    "        dec_loss += nll_loss(d_o, e_t)\n",
    "    \n",
    "    return clip_loss, dec_loss\n",
    "\n",
    "def train(data, obs_enc, lang_enc, dec, word_encoder, cross_ent_loss, nll_loss, opt, \n",
    "          n_iters=80000, batch_size=128, temp=0.07, eval_data=None, eval_evry=1000,\n",
    "          sample_fn=sample_batch):\n",
    "    start = time.time()\n",
    "    \n",
    "    clip_train_losses = []\n",
    "    clip_eval_losses = []\n",
    "    dec_train_losses = []\n",
    "    dec_eval_losses = []\n",
    "    \n",
    "    for s_i in tqdm(range(n_iters)):\n",
    "        opt.zero_grad()\n",
    "        \n",
    "        # Sample batch\n",
    "        obs_batch, sent_batch = sample_fn(data, batch_size)\n",
    "        \n",
    "        # Compute both losses\n",
    "        clip_loss, dec_loss = get_losses(obs_batch, sent_batch, obs_enc, lang_enc, dec, temp, \n",
    "                                         cross_ent_loss, nll_loss)\n",
    "        \n",
    "        # Backprop\n",
    "        tot_loss = clip_loss + dec_loss\n",
    "        tot_loss.backward()\n",
    "        opt.step()\n",
    "        \n",
    "        clip_train_losses.append(clip_loss.item())\n",
    "        dec_train_losses.append(dec_loss.item())\n",
    "        \n",
    "        if eval_data is not None and (s_i + 1) % eval_evry == 0:\n",
    "            with torch.no_grad():\n",
    "                # Sample batch\n",
    "                obs_batch, sent_batch = sample_fn(eval_data, batch_size)\n",
    "                \n",
    "                # Get both losses\n",
    "                clip_loss, dec_loss = get_losses(\n",
    "                    obs_batch, sent_batch, obs_enc, lang_enc, dec, temp, cross_ent_loss, nll_loss)\n",
    "                clip_train_losses.append(clip_loss.item())\n",
    "                dec_train_losses.append(dec_loss.item())\n",
    "    \n",
    "    return clip_train_losses, clip_eval_losses, dec_train_losses, dec_eval_losses"
   ]
  },
  {
   "cell_type": "code",
   "execution_count": null,
   "id": "ce74d408",
   "metadata": {},
   "outputs": [
    {
     "name": "stderr",
     "output_type": "stream",
     "text": [
      " 25%|███████████████▉                                               | 5055/20000 [10:12<28:58,  8.60it/s]"
     ]
    }
   ],
   "source": [
    "clip_train_l, clip_eval_l, dec_train_l, dec_eval_l = train(\n",
    "    train_data, obs_enc, lang_enc, dec, word_encoder, cross_ent_l, nll_l, opt, \n",
    "    eval_data=test_data, temp=1.0, n_iters=20000, sample_fn=sample_batch_nodup)\n",
    "\n",
    "plt.plot(train_loss)\n",
    "plt.plot((np.arange(20) + 1) * 1000, eval_loss)"
   ]
  },
  {
   "cell_type": "code",
   "execution_count": null,
   "id": "019166cb",
   "metadata": {},
   "outputs": [],
   "source": []
  },
  {
   "cell_type": "code",
   "execution_count": null,
   "id": "e1fdbacf",
   "metadata": {},
   "outputs": [],
   "source": []
  },
  {
   "cell_type": "markdown",
   "id": "632e923e",
   "metadata": {},
   "source": [
    "# Communication policy"
   ]
  },
  {
   "cell_type": "code",
   "execution_count": 47,
   "id": "79cce954",
   "metadata": {},
   "outputs": [
    {
     "name": "stdout",
     "output_type": "stream",
     "text": [
      "tensor([[ 6.2212e-01,  2.9980e-02,  3.0105e-02, -4.7231e-01, -5.5769e-01,\n",
      "          7.6469e-01, -1.6267e-01, -2.1883e-01,  4.3827e-01, -1.8699e-01,\n",
      "         -5.4098e-01, -6.5193e-01, -4.4066e-01,  4.1655e-01,  1.8479e-01,\n",
      "         -4.1400e-01,  7.9344e-01,  7.4547e-01,  2.5296e-01,  3.9291e-02,\n",
      "         -2.4483e-04,  8.2206e-01, -6.7781e-03,  4.7066e-01, -1.5902e-01,\n",
      "         -3.5167e-01, -1.1834e-01, -2.0668e-01, -5.0612e-01, -3.7265e-01,\n",
      "         -7.4801e-02,  1.5826e-01]], grad_fn=<TanhBackward0>)\n",
      "tensor([[[ 0.1363, -0.2564, -0.0556, -0.0736,  0.0326, -0.0483,  0.0989,\n",
      "          -0.0085,  0.0133, -0.0885,  0.0487,  0.0104, -0.0169,  0.3326,\n",
      "          -0.0258, -0.1657, -0.1763, -0.0562, -0.1149,  0.0133,  0.0717,\n",
      "          -0.0323,  0.0392,  0.0646,  0.2269, -0.0960,  0.2930,  0.1091,\n",
      "          -0.0213, -0.1149, -0.0406, -0.1983]]], grad_fn=<CopySlices>)\n"
     ]
    }
   ],
   "source": [
    "import torch\n",
    "\n",
    "from model.modules.comm import CommunicationPolicy\n",
    "\n",
    "cp = CommunicationPolicy(16, 32)\n",
    "\n",
    "obs = torch.Tensor([train_data[0][\"observation\"]])\n",
    "sent = [train_data[0][\"sentence\"]]\n",
    "\n",
    "int_context = obs_enc(obs)\n",
    "ext_context = lang_enc(sent)\n",
    "print(int_context)\n",
    "print(ext_context)"
   ]
  },
  {
   "cell_type": "code",
   "execution_count": 46,
   "id": "f5e0bb50",
   "metadata": {},
   "outputs": [
    {
     "data": {
      "text/plain": [
       "tensor([[0.9707]], grad_fn=<MmBackward0>)"
      ]
     },
     "execution_count": 46,
     "metadata": {},
     "output_type": "execute_result"
    }
   ],
   "source": [
    "int_context = int_context / int_context.norm(dim=1, keepdim=True)\n",
    "ext_context = ext_context.squeeze(0)\n",
    "ext_context = ext_context / ext_context.norm(dim=1, keepdim=True)\n",
    "sim = int_context @ ext_context.t()\n",
    "sim"
   ]
  },
  {
   "cell_type": "code",
   "execution_count": 4,
   "id": "1ed0ec24",
   "metadata": {},
   "outputs": [
    {
     "data": {
      "text/plain": [
       "tensor([[1., 1., 1., 1., 1., 1., 1., 1., 1., 1., 1., 1., 1., 1., 1., 1., 1., 1.,\n",
       "         1., 1.]])"
      ]
     },
     "execution_count": 4,
     "metadata": {},
     "output_type": "execute_result"
    }
   ],
   "source": [
    "import torch\n",
    "a = torch.ones((1, 20))\n",
    "a"
   ]
  },
  {
   "cell_type": "code",
   "execution_count": 8,
   "id": "eef438cc",
   "metadata": {},
   "outputs": [
    {
     "data": {
      "text/plain": [
       "torch.Size([2, 1, 20])"
      ]
     },
     "execution_count": 8,
     "metadata": {},
     "output_type": "execute_result"
    }
   ],
   "source": [
    "torch.conca((a, a)).shape"
   ]
  },
  {
   "cell_type": "code",
   "execution_count": 12,
   "id": "1baaf17e",
   "metadata": {},
   "outputs": [
    {
     "data": {
      "text/plain": [
       "torch.Size([2, 20])"
      ]
     },
     "execution_count": 12,
     "metadata": {},
     "output_type": "execute_result"
    }
   ],
   "source": [
    "torch.cat([a,a]).shape"
   ]
  }
 ],
 "metadata": {
  "kernelspec": {
   "display_name": "Python 3",
   "language": "python",
   "name": "python3"
  },
  "language_info": {
   "codemirror_mode": {
    "name": "ipython",
    "version": 3
   },
   "file_extension": ".py",
   "mimetype": "text/x-python",
   "name": "python",
   "nbconvert_exporter": "python",
   "pygments_lexer": "ipython3",
   "version": "3.8.10"
  }
 },
 "nbformat": 4,
 "nbformat_minor": 5
}
