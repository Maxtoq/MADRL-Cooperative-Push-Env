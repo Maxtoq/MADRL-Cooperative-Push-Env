{
 "cells": [
  {
   "cell_type": "code",
   "execution_count": 4,
   "id": "540f61df",
   "metadata": {},
   "outputs": [],
   "source": [
    "import torch\n",
    "\n",
    "from src.lmc.modules.lang_learner import LanguageLearner\n",
    "from src.envs.ma_gym.envs.predator_prey.predator_prey import PredatorPrey\n",
    "from src.envs.parsers.predator_prey import PredatorPrey_Parser \n",
    "\n",
    "magym_env_size = 8\n",
    "magym_n_agents = 4\n",
    "magym_n_preys = 2\n",
    "episode_length = 100\n",
    "env = PredatorPrey(\n",
    "    n_agents=magym_n_agents, \n",
    "    grid_shape=(magym_env_size, magym_env_size),\n",
    "    n_preys=magym_n_preys, \n",
    "    max_steps=episode_length)\n",
    "parser = PredatorPrey_Parser(magym_env_size)\n",
    "    \n",
    "n_agents = env.n_agents\n",
    "obs_space = env.observation_space\n",
    "shared_obs_space = env.shared_observation_space\n",
    "act_space = env.action_space\n",
    "\n",
    "context_dim = 16\n",
    "lang_hidden_dim = 32\n",
    "\n",
    "lang_learner = LanguageLearner(\n",
    "            obs_space[0].shape[0], \n",
    "            context_dim, \n",
    "            lang_hidden_dim, \n",
    "            parser.vocab)\n",
    "\n",
    "save_dict = torch.load(\n",
    "    \"../../models/magym_PredPrey/mappo_perfectcomm_8x8/run10/model_ep.pt\", map_location=torch.device(\"cpu\"))\n",
    "\n",
    "lang_learner.load_params(save_dict)"
   ]
  },
  {
   "cell_type": "code",
   "execution_count": 5,
   "id": "b4d255cb",
   "metadata": {},
   "outputs": [
    {
     "data": {
      "text/plain": [
       "[[0.0,\n",
       "  0.42857142857142855,\n",
       "  0.0,\n",
       "  0.0,\n",
       "  0.0,\n",
       "  0.0,\n",
       "  0.0,\n",
       "  0.0,\n",
       "  0.0,\n",
       "  0.0,\n",
       "  0.0,\n",
       "  0.0,\n",
       "  0.0,\n",
       "  0.0,\n",
       "  0.0,\n",
       "  0.0,\n",
       "  0.0,\n",
       "  0.0,\n",
       "  0.0,\n",
       "  0.0,\n",
       "  0.0,\n",
       "  0.0,\n",
       "  0.0,\n",
       "  0.0,\n",
       "  0.0,\n",
       "  0.0,\n",
       "  0.0],\n",
       " [0.2857142857142857,\n",
       "  0.2857142857142857,\n",
       "  0.0,\n",
       "  0.0,\n",
       "  0.0,\n",
       "  0.0,\n",
       "  0.0,\n",
       "  0.0,\n",
       "  0.0,\n",
       "  0.0,\n",
       "  0.0,\n",
       "  0.0,\n",
       "  0.0,\n",
       "  0.0,\n",
       "  0.0,\n",
       "  0.0,\n",
       "  0.0,\n",
       "  0.0,\n",
       "  0.0,\n",
       "  0.0,\n",
       "  0.0,\n",
       "  0.0,\n",
       "  0.0,\n",
       "  0.0,\n",
       "  0.0,\n",
       "  0.0,\n",
       "  0.0],\n",
       " [0.2857142857142857,\n",
       "  0.7142857142857143,\n",
       "  0.0,\n",
       "  0.0,\n",
       "  0.0,\n",
       "  0.0,\n",
       "  0.0,\n",
       "  0.0,\n",
       "  0.0,\n",
       "  0.0,\n",
       "  0.0,\n",
       "  0.0,\n",
       "  0.0,\n",
       "  0.0,\n",
       "  0.0,\n",
       "  0.0,\n",
       "  0.0,\n",
       "  0.0,\n",
       "  0.0,\n",
       "  0.0,\n",
       "  0.0,\n",
       "  0.0,\n",
       "  0.0,\n",
       "  0.0,\n",
       "  0.0,\n",
       "  0.0,\n",
       "  0.0],\n",
       " [0.14285714285714285,\n",
       "  0.8571428571428571,\n",
       "  0.0,\n",
       "  0.0,\n",
       "  0.0,\n",
       "  0.0,\n",
       "  0.0,\n",
       "  0.0,\n",
       "  0.0,\n",
       "  0.0,\n",
       "  0.0,\n",
       "  0.0,\n",
       "  0.0,\n",
       "  0.0,\n",
       "  0.0,\n",
       "  0.0,\n",
       "  0.0,\n",
       "  0.0,\n",
       "  0.0,\n",
       "  0.0,\n",
       "  0.0,\n",
       "  0.0,\n",
       "  0.0,\n",
       "  0.0,\n",
       "  0.0,\n",
       "  0.0,\n",
       "  0.0]]"
      ]
     },
     "execution_count": 5,
     "metadata": {},
     "output_type": "execute_result"
    }
   ],
   "source": [
    "obs = env.reset()\n",
    "obs"
   ]
  },
  {
   "cell_type": "code",
   "execution_count": 8,
   "id": "d659d785",
   "metadata": {},
   "outputs": [
    {
     "data": {
      "text/plain": [
       "[['Prey', 'Located', 'North', 'East'],\n",
       " ['Prey', 'Located', 'North', 'East'],\n",
       " ['Prey', 'Located', 'North', 'East'],\n",
       " ['Prey', 'Located', 'North', 'East']]"
      ]
     },
     "execution_count": 8,
     "metadata": {},
     "output_type": "execute_result"
    }
   ],
   "source": [
    "contexts = lang_learner.encode_observations(torch.Tensor(obs))\n",
    "captions = lang_learner.generate_sentences(contexts)\n",
    "captions"
   ]
  },
  {
   "cell_type": "code",
   "execution_count": 16,
   "id": "46189ad5",
   "metadata": {},
   "outputs": [
    {
     "data": {
      "text/plain": [
       "[[[], [], [], []]]"
      ]
     },
     "execution_count": 16,
     "metadata": {},
     "output_type": "execute_result"
    }
   ],
   "source": [
    "import numpy as np\n",
    "parsed_obs = parser.get_perfect_messages(np.array([obs]))\n",
    "parsed_obs"
   ]
  },
  {
   "cell_type": "code",
   "execution_count": 19,
   "id": "3b1d894e",
   "metadata": {},
   "outputs": [
    {
     "data": {
      "text/plain": [
       "[['Center'], ['Center'], ['Center'], ['Center']]"
      ]
     },
     "execution_count": 19,
     "metadata": {},
     "output_type": "execute_result"
    }
   ],
   "source": [
    "lang_contexts = lang_learner.encode_sentences(parsed_obs[0])\n",
    "lang_captions = lang_learner.generate_sentences(lang_contexts)\n",
    "lang_captions"
   ]
  },
  {
   "cell_type": "code",
   "execution_count": 20,
   "id": "ca80fa2b",
   "metadata": {},
   "outputs": [
    {
     "data": {
      "text/plain": [
       "tensor([[-0.3625,  1.4918, -1.7716, -0.5429,  2.1982,  1.0193,  0.4199, -0.1911,\n",
       "         -2.0710,  0.6141, -0.6164, -0.3448, -0.7480, -0.4211,  0.1539,  0.3899],\n",
       "        [-0.3625,  1.4918, -1.7716, -0.5429,  2.1982,  1.0193,  0.4199, -0.1911,\n",
       "         -2.0710,  0.6141, -0.6164, -0.3448, -0.7480, -0.4211,  0.1539,  0.3899],\n",
       "        [-0.3625,  1.4918, -1.7716, -0.5429,  2.1982,  1.0193,  0.4199, -0.1911,\n",
       "         -2.0710,  0.6141, -0.6164, -0.3448, -0.7480, -0.4211,  0.1539,  0.3899],\n",
       "        [-0.3625,  1.4918, -1.7716, -0.5429,  2.1982,  1.0193,  0.4199, -0.1911,\n",
       "         -2.0710,  0.6141, -0.6164, -0.3448, -0.7480, -0.4211,  0.1539,  0.3899]],\n",
       "       grad_fn=<SqueezeBackward1>)"
      ]
     },
     "execution_count": 20,
     "metadata": {},
     "output_type": "execute_result"
    }
   ],
   "source": [
    "lang_contexts"
   ]
  },
  {
   "cell_type": "code",
   "execution_count": 21,
   "id": "49f11ee9",
   "metadata": {},
   "outputs": [
    {
     "data": {
      "text/plain": [
       "tensor([[ 3.5465, -2.2015,  3.3764, -0.6979, -0.9155,  0.3608, -1.8657,  1.2274,\n",
       "         -2.4666,  1.3235,  2.0682, -2.6199,  1.6878, -2.1415, -0.9029, -0.7794],\n",
       "        [ 3.4802, -2.1770,  3.4070, -0.6994, -0.8836,  0.3601, -1.8812,  1.1857,\n",
       "         -2.4349,  1.3641,  2.0760, -2.6584,  1.7461, -2.1806, -0.8869, -0.8033],\n",
       "        [ 3.4802, -2.2248,  3.4232, -0.7183, -0.8630,  0.3766, -1.8462,  1.1511,\n",
       "         -2.4588,  1.3690,  2.0836, -2.6205,  1.7285, -2.1801, -0.8783, -0.8056],\n",
       "        [ 3.5441, -2.2246,  3.4070, -0.7067, -0.8883,  0.3736, -1.8685,  1.1570,\n",
       "         -2.4829,  1.3378,  2.0745, -2.5702,  1.6991, -2.1426, -0.9283, -0.7732]],\n",
       "       grad_fn=<NativeLayerNormBackward0>)"
      ]
     },
     "execution_count": 21,
     "metadata": {},
     "output_type": "execute_result"
    }
   ],
   "source": [
    "contexts"
   ]
  }
 ],
 "metadata": {
  "kernelspec": {
   "display_name": "Python 3 (ipykernel)",
   "language": "python",
   "name": "python3"
  },
  "language_info": {
   "codemirror_mode": {
    "name": "ipython",
    "version": 3
   },
   "file_extension": ".py",
   "mimetype": "text/x-python",
   "name": "python",
   "nbconvert_exporter": "python",
   "pygments_lexer": "ipython3",
   "version": "3.8.10"
  }
 },
 "nbformat": 4,
 "nbformat_minor": 5
}
